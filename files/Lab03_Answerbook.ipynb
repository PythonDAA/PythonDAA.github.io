{
 "cells": [
  {
   "cell_type": "markdown",
   "metadata": {},
   "source": [
    "# Lab 3\n",
    "Read the requirements and finsih the exercises. For each exercise, the test cases are also given using ``assert`` statement.\n",
    "- Assert statement syntax: ``assert condition``.\n",
    "- If the condition is true, it does nothing and your program just continues to execute. But if the assert condition evaluates to false, it raises an ``AssertionError`` exception with an optional error message."
   ]
  },
  {
   "cell_type": "code",
   "execution_count": 1,
   "metadata": {},
   "outputs": [],
   "source": [
    "assert \"hello\" == \"hello\""
   ]
  },
  {
   "cell_type": "code",
   "execution_count": 2,
   "metadata": {},
   "outputs": [
    {
     "ename": "AssertionError",
     "evalue": "",
     "output_type": "error",
     "traceback": [
      "\u001b[0;31m---------------------------------------------------------------------------\u001b[0m",
      "\u001b[0;31mAssertionError\u001b[0m                            Traceback (most recent call last)",
      "\u001b[0;32m<ipython-input-2-07052b3c5a3a>\u001b[0m in \u001b[0;36m<module>\u001b[0;34m\u001b[0m\n\u001b[0;32m----> 1\u001b[0;31m \u001b[0;32massert\u001b[0m \u001b[0;34m\"hello\"\u001b[0m \u001b[0;34m==\u001b[0m \u001b[0;34m\"Hello\"\u001b[0m\u001b[0;34m\u001b[0m\u001b[0;34m\u001b[0m\u001b[0m\n\u001b[0m",
      "\u001b[0;31mAssertionError\u001b[0m: "
     ]
    }
   ],
   "source": [
    "assert \"hello\" == \"Hello\""
   ]
  },
  {
   "cell_type": "markdown",
   "metadata": {},
   "source": [
    "### Exercise 1:\n",
    "\n",
    "Define a function called ``concatenate``, which takes a list as the argument and will concatenate all elements in a list into a string and return it.\n",
    "- Input: [1,2,3,4,5]\n",
    "- Output: '12345'"
   ]
  },
  {
   "cell_type": "code",
   "execution_count": 3,
   "metadata": {},
   "outputs": [],
   "source": [
    "#TODO for exercise1\n",
    "def concatenate(input_list):\n",
    "    res = \"\"\n",
    "    for item in input_list:\n",
    "        res += str(item)\n",
    "    return res"
   ]
  },
  {
   "cell_type": "code",
   "execution_count": 4,
   "metadata": {},
   "outputs": [],
   "source": [
    "assert concatenate([1,2,3,4,5])==\"12345\"\n",
    "assert concatenate(['d','a','t','a'])== \"data\""
   ]
  },
  {
   "cell_type": "markdown",
   "metadata": {},
   "source": [
    "### Exercise 2:\n",
    "\n",
    "Define a function called ``XORList``, which has two lists as arguments, i.e., *list1* and *list2*. The function will return a list containing elements present in *list1* or *list2*, but not both. \n",
    "- Input: list1=[\"White\", \"Black\", \"Red\"], list2=[\"Red\", \"Green\"]\n",
    "- Output: [\"White\",\"Black\",\"Green\"]\n"
   ]
  },
  {
   "cell_type": "code",
   "execution_count": 5,
   "metadata": {},
   "outputs": [],
   "source": [
    "#TODO for exercise2\n",
    "def XORList(list1,list2):\n",
    "    res1 = [x for x in list1 if x not in list2]\n",
    "    res2 = [x for x in list2 if x not in list1]\n",
    "    res1.extend(res2)\n",
    "    return res1"
   ]
  },
  {
   "cell_type": "code",
   "execution_count": 6,
   "metadata": {},
   "outputs": [],
   "source": [
    "assert XORList([\"White\", \"Black\", \"Red\"],[\"Red\", \"Green\"]) == ['White','Black','Green']"
   ]
  },
  {
   "cell_type": "markdown",
   "metadata": {},
   "source": [
    "### Exercise 3: \n",
    "\n",
    "Define a function ``mydiff``, which takes two integer arguments, *num1* and *num2*. \n",
    "- The default value of num2 is 17\n",
    "- If *num1* is greater than *num2*, return the square of the absolute difference as the result\n",
    "- If *num1* is smaller than *num2*, return the absolute difference as the result\n",
    "- If *num1* equals to *num2*, return a string \"Equals\""
   ]
  },
  {
   "cell_type": "code",
   "execution_count": 7,
   "metadata": {},
   "outputs": [],
   "source": [
    "#TODO for exercise 3\n",
    "def mydiff(num1,num2=17):\n",
    "    import math\n",
    "    if num1 > num2:\n",
    "        return math.pow(abs(num1-num2),2)\n",
    "    elif num1 < num2:\n",
    "        return abs(num1-num2)\n",
    "    else:\n",
    "        return \"Equals\""
   ]
  },
  {
   "cell_type": "code",
   "execution_count": 8,
   "metadata": {},
   "outputs": [],
   "source": [
    "assert mydiff(13) == 4\n",
    "assert mydiff(17) == \"Equals\"\n",
    "assert mydiff(19,9) == 100"
   ]
  },
  {
   "cell_type": "markdown",
   "metadata": {},
   "source": [
    "### Exercise 4:\n",
    "Define a function ``checkPasswd`` which takes one string argument and checks whether the string is a valid password or not. A password is valid if\n",
    "- It contains no less than 8 characters\n",
    "- It contains at least 1 digit, 1 lower-case letter and 1 upper-case letter.\n",
    "\n",
    "For example ``checkPasswd('aA12331222')`` returns ``True`` while ``checkPasswd('bbb1212121')`` returns\n",
    "``False``.\n",
    "\n",
    "**Hint: Use regular expression**\n",
    "- ``re.search(pattern, string)``, will return the first match and ``None`` if not found."
   ]
  },
  {
   "cell_type": "code",
   "execution_count": 9,
   "metadata": {},
   "outputs": [],
   "source": [
    "import re\n",
    "#TODO for exercise 4\n",
    "def checkPasswd(passwd):\n",
    "    import re\n",
    "    if len(passwd)>=8 and re.search(r\"[a-z]\",passwd) and re.search(r\"[A-Z]\",passwd) and re.search(r\"[0-9]\",passwd):\n",
    "        return True\n",
    "    return False"
   ]
  },
  {
   "cell_type": "code",
   "execution_count": 10,
   "metadata": {},
   "outputs": [],
   "source": [
    "assert checkPasswd('aA12331222')== True\n",
    "assert checkPasswd('bbb1212121') == False"
   ]
  },
  {
   "cell_type": "markdown",
   "metadata": {},
   "source": [
    "### Exercise 5:\n",
    "Define a function ``gcd`` which returns the greatest common divisor (GCD) of two natural numbers ``x`` and ``y``.\n",
    "\n",
    "**Hint:Use function recursion to implement Euclidean algorithm**"
   ]
  },
  {
   "cell_type": "code",
   "execution_count": 11,
   "metadata": {},
   "outputs": [],
   "source": [
    "#TODO for exercise 5\n",
    "def gcd(x,y):\n",
    "    if x < y:\n",
    "        return gcd(y,x)\n",
    "    elif y==0:\n",
    "        return x\n",
    "    else:\n",
    "        return gcd(y,x%y)"
   ]
  },
  {
   "cell_type": "code",
   "execution_count": 12,
   "metadata": {},
   "outputs": [],
   "source": [
    "assert gcd(12,6) == 6\n",
    "assert gcd(45,60) ==15"
   ]
  },
  {
   "cell_type": "markdown",
   "metadata": {},
   "source": [
    "### Exercise 6:\n",
    "Given the following UML, write a Python class\n",
    "\n",
    "`+--------------------------------------+\n",
    "|                Student               |\n",
    "+--------------------------------------+\n",
    "| - ID: int                            |\n",
    "| - name: string                       |\n",
    "| - scores: dict                       |\n",
    "+--------------------------------------+\n",
    "| + __init__(self,ID,name,score): void |\n",
    "| + getID(self): int                   |\n",
    "| + getName(self): string              |\n",
    "| + setName(self, name): void          |\n",
    "| + getScore(self, coursename):int     |\n",
    "| + getBestScore(self): string         |\n",
    "+--------------------------------------+\n",
    "`\n",
    "- *scores* is a dictionary where the keys are course name and the values are scores.\n",
    "- *getScore(coursename)*: return the score of the given course.\n",
    "- *getBestScore*: returns the course name with the highest score."
   ]
  },
  {
   "cell_type": "code",
   "execution_count": 13,
   "metadata": {},
   "outputs": [],
   "source": [
    "class Student:\n",
    "    # TODO exercise 6\n",
    "    def __init__(self,ID,name,scores):\n",
    "        self.ID = ID\n",
    "        self.name = name\n",
    "        self.scores = scores\n",
    "    def getID(self):\n",
    "        return self.ID\n",
    "    def getName(self):\n",
    "        return self.name\n",
    "    def setName(self,name):\n",
    "        self.name = name\n",
    "    def getScore(self,coursename):\n",
    "        return scores[coursename]\n",
    "    def getBestScore(self):\n",
    "        \n",
    "        maxs = 0\n",
    "        co = \"\"\n",
    "        for c,s in self.scores.items():\n",
    "            if s > maxs:\n",
    "                maxs = s\n",
    "                co = c\n",
    "        return co"
   ]
  },
  {
   "cell_type": "code",
   "execution_count": 14,
   "metadata": {},
   "outputs": [],
   "source": [
    "ID=123\n",
    "name = \"DSer\"\n",
    "scores={\"Data Structures and Algorithm\":80, \"Data Processing Workshop I\":95, \"Database Management Systems\":90}\n",
    "s = Student(ID,name,scores)"
   ]
  },
  {
   "cell_type": "code",
   "execution_count": 15,
   "metadata": {},
   "outputs": [],
   "source": [
    "assert s.getID()==123\n",
    "assert s.getName()==\"DSer\"\n",
    "assert s.getScore(\"Data Processing Workshop I\")==95\n",
    "assert s.getBestScore()==\"Data Processing Workshop I\""
   ]
  }
 ],
 "metadata": {
  "kernelspec": {
   "display_name": "Python 3",
   "language": "python",
   "name": "python3"
  },
  "language_info": {
   "codemirror_mode": {
    "name": "ipython",
    "version": 3
   },
   "file_extension": ".py",
   "mimetype": "text/x-python",
   "name": "python",
   "nbconvert_exporter": "python",
   "pygments_lexer": "ipython3",
   "version": "3.7.1"
  },
  "toc": {
   "base_numbering": 1,
   "nav_menu": {},
   "number_sections": true,
   "sideBar": true,
   "skip_h1_title": false,
   "title_cell": "Table of Contents",
   "title_sidebar": "Contents",
   "toc_cell": false,
   "toc_position": {},
   "toc_section_display": true,
   "toc_window_display": false
  }
 },
 "nbformat": 4,
 "nbformat_minor": 2
}
