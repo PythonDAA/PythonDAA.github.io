{
 "cells": [
  {
   "cell_type": "markdown",
   "metadata": {},
   "source": [
    "## Database Exercise\n",
    "\n",
    "In this exercise, we are implementing a simply banking information system. We are using two relations Customer and Withdraw. The schemas are:\n",
    "\n",
    "- *Customer ( cust_id,name )* (*cust_id* is the primary key)\n",
    "- *Withdraw ( w_id, cust_id, acc_id,date, amount )* (*w_id* is the primary key)\n",
    "\n",
    "The SQL for creating the two tables are:\n",
    "- ``CREATE TABLE Customer (cust_id VARCHAR(20) PRIMARY KEY, name VARCHAR(20))``\n",
    "- ``CREATE TABLE Withdraw (w_id INTEGER PRIMARY KEY, cust_id INTEGER, acc_id VARCHAR(20), date DATE, ammount INTEGER)``\n",
    "\n",
    "Write programs to solve all the questions. Noted that:\n",
    "- Use any database you want. (MySQL, SQLite or any).\n",
    "- Also, you can use any DB-API or SQLAlchemy.\n",
    "- You can add more functions, as needed."
   ]
  },
  {
   "cell_type": "markdown",
   "metadata": {},
   "source": [
    "### Question 1\n",
    "\n",
    "Write program to create the two tables and insert tuples into the tables. The tables should looks like as follows:\n",
    "\n",
    "                                                        Customer\n",
    "\n",
    "|cust_id|name|\n",
    "|-----|-----|\n",
    "|101|Anna|\n",
    "|102|Bob|\n",
    "|103|Charles|\n",
    "|104|Damon|\n",
    "|105|Elena|\n",
    "\n",
    "                                                         Withdraw\n",
    "                                                         \n",
    "|w_id|cust_id|acc_id|date|amount|\n",
    "|---|---|---|---|---|\n",
    "|1|101|A01|2019-03-01|100|\n",
    "|2|102|A01|2019-03-02|200|\n",
    "|3|102|A02|2019-03-03|150|\n",
    "|4|103|A03|2019-03-04|180|\n",
    "|5|104|A04|2019-03-05|500|\n",
    "|6|105|A05|2019-03-06|300|"
   ]
  },
  {
   "cell_type": "code",
   "execution_count": 1,
   "metadata": {},
   "outputs": [],
   "source": [
    "def create_tables():\n",
    "    import mysql.connector\n",
    "    connection = mysql.connector.connect (host = \"172.16.199.130\",\n",
    "                              user = \"mengrui\",  \n",
    "                              passwd = \"UICdsmengrui\",\n",
    "                                     db = \"mengrui\")\n",
    "\n",
    "    cursor = connection.cursor()\n",
    "    sql_drop_c = \"DROP TABLE if exists Customer\"\n",
    "    sql_drop_w = \"DROP TABLE if exists Withdraw\"\n",
    "    cursor.execute(sql_drop_c)\n",
    "    cursor.execute(sql_drop_w)\n",
    "    sql1 = \"CREATE TABLE Customer (cust_id VARCHAR(20) PRIMARY KEY, name VARCHAR(20))\";\n",
    "    sql2 = \"CREATE TABLE Withdraw (w_id INTEGER PRIMARY KEY, cust_id INTEGER, acc_id VARCHAR(20), date DATE, ammount INTEGER)\";\n",
    "    \n",
    "    cursor.execute (sql1)\n",
    "    cursor.execute (sql2)\n",
    "    data_cust = [('101','Anna'),('102','Bob'),('103','Charles'),('104','Damon'),('105','Elena')]\n",
    "    data_withdraw=[(1,'101','A01','2019-03-01',100),(2,'102','A01','2019-03-02',200),(3,'102','A02','2019-03-03',150),\n",
    "                   (4,'103','A03','2019-03-04',180),(5,'104','A04','2019-03-05',500),(6,'105','A05','2019-03-06',300)]\n",
    "    for c in data_cust:\n",
    "        sql_command = \"INSERT INTO Customer values('{0}','{1}')\".format(c[0],c[1])\n",
    "        cursor.execute(sql_command)\n",
    "    for w in data_withdraw:\n",
    "        sql_command = \"INSERT INTO Withdraw values({0},'{1}','{2}','{3}','{4}')\".format(w[0],w[1],w[2],w[3],w[4])\n",
    "        cursor.execute(sql_command)\n",
    "    connection.commit()\n",
    "    cursor.close()\n",
    "    connection.close()"
   ]
  },
  {
   "cell_type": "code",
   "execution_count": 2,
   "metadata": {},
   "outputs": [],
   "source": [
    "create_tables()"
   ]
  },
  {
   "cell_type": "markdown",
   "metadata": {
    "scrolled": true
   },
   "source": [
    "### Question 2"
   ]
  },
  {
   "cell_type": "markdown",
   "metadata": {},
   "source": [
    "Read all the information in table *Customer* and *Withdraw*, return the two tables as two DataFrames."
   ]
  },
  {
   "cell_type": "code",
   "execution_count": 3,
   "metadata": {},
   "outputs": [],
   "source": [
    "def read_table():\n",
    "    data_cust = []\n",
    "    data_withdraw = []\n",
    "    header_cust=['cust_id','name']\n",
    "    header_withdraw=['w_id','cust_id','acc_id','date','amount']\n",
    "    import mysql.connector\n",
    "    import pandas as pd\n",
    "    connection = mysql.connector.connect (host = \"172.16.199.130\",\n",
    "                              user = \"mengrui\",  \n",
    "                              passwd = \"UICdsmengrui\",\n",
    "                                     db = \"mengrui\")\n",
    "\n",
    "    cursor = connection.cursor()\n",
    "    cmd_customer = \"SELECT * FROM Customer\"\n",
    "    cmd_withdraw = \"SELECT * FROM Withdraw\"\n",
    "    cursor.execute(cmd_customer)\n",
    "    result = cursor.fetchall() \n",
    "    for r in result:\n",
    "        data_cust.append({header_cust[i]:r[i] for i in range(len(r))})\n",
    "    \n",
    "    cursor.execute(cmd_withdraw)\n",
    "    result = cursor.fetchall()\n",
    "    for r in result:\n",
    "        data_withdraw.append({header_withdraw[i]:r[i] for i in range(len(r))})\n",
    "    \n",
    "    cursor.close();\n",
    "    connection.close();\n",
    "    return pd.DataFrame(data_cust),pd.DataFrame(data_withdraw)"
   ]
  },
  {
   "cell_type": "code",
   "execution_count": 4,
   "metadata": {},
   "outputs": [
    {
     "data": {
      "text/html": [
       "<div>\n",
       "<style scoped>\n",
       "    .dataframe tbody tr th:only-of-type {\n",
       "        vertical-align: middle;\n",
       "    }\n",
       "\n",
       "    .dataframe tbody tr th {\n",
       "        vertical-align: top;\n",
       "    }\n",
       "\n",
       "    .dataframe thead th {\n",
       "        text-align: right;\n",
       "    }\n",
       "</style>\n",
       "<table border=\"1\" class=\"dataframe\">\n",
       "  <thead>\n",
       "    <tr style=\"text-align: right;\">\n",
       "      <th></th>\n",
       "      <th>cust_id</th>\n",
       "      <th>name</th>\n",
       "    </tr>\n",
       "  </thead>\n",
       "  <tbody>\n",
       "    <tr>\n",
       "      <th>0</th>\n",
       "      <td>101</td>\n",
       "      <td>Anna</td>\n",
       "    </tr>\n",
       "    <tr>\n",
       "      <th>1</th>\n",
       "      <td>102</td>\n",
       "      <td>Bob</td>\n",
       "    </tr>\n",
       "    <tr>\n",
       "      <th>2</th>\n",
       "      <td>103</td>\n",
       "      <td>Charles</td>\n",
       "    </tr>\n",
       "    <tr>\n",
       "      <th>3</th>\n",
       "      <td>104</td>\n",
       "      <td>Damon</td>\n",
       "    </tr>\n",
       "    <tr>\n",
       "      <th>4</th>\n",
       "      <td>105</td>\n",
       "      <td>Elena</td>\n",
       "    </tr>\n",
       "  </tbody>\n",
       "</table>\n",
       "</div>"
      ],
      "text/plain": [
       "  cust_id     name\n",
       "0     101     Anna\n",
       "1     102      Bob\n",
       "2     103  Charles\n",
       "3     104    Damon\n",
       "4     105    Elena"
      ]
     },
     "execution_count": 4,
     "metadata": {},
     "output_type": "execute_result"
    }
   ],
   "source": [
    "cust,withd=read_table()\n",
    "cust"
   ]
  },
  {
   "cell_type": "code",
   "execution_count": 5,
   "metadata": {},
   "outputs": [
    {
     "data": {
      "text/html": [
       "<div>\n",
       "<style scoped>\n",
       "    .dataframe tbody tr th:only-of-type {\n",
       "        vertical-align: middle;\n",
       "    }\n",
       "\n",
       "    .dataframe tbody tr th {\n",
       "        vertical-align: top;\n",
       "    }\n",
       "\n",
       "    .dataframe thead th {\n",
       "        text-align: right;\n",
       "    }\n",
       "</style>\n",
       "<table border=\"1\" class=\"dataframe\">\n",
       "  <thead>\n",
       "    <tr style=\"text-align: right;\">\n",
       "      <th></th>\n",
       "      <th>acc_id</th>\n",
       "      <th>amount</th>\n",
       "      <th>cust_id</th>\n",
       "      <th>date</th>\n",
       "      <th>w_id</th>\n",
       "    </tr>\n",
       "  </thead>\n",
       "  <tbody>\n",
       "    <tr>\n",
       "      <th>0</th>\n",
       "      <td>A01</td>\n",
       "      <td>100</td>\n",
       "      <td>101</td>\n",
       "      <td>2019-03-01</td>\n",
       "      <td>1</td>\n",
       "    </tr>\n",
       "    <tr>\n",
       "      <th>1</th>\n",
       "      <td>A01</td>\n",
       "      <td>200</td>\n",
       "      <td>102</td>\n",
       "      <td>2019-03-02</td>\n",
       "      <td>2</td>\n",
       "    </tr>\n",
       "    <tr>\n",
       "      <th>2</th>\n",
       "      <td>A02</td>\n",
       "      <td>150</td>\n",
       "      <td>102</td>\n",
       "      <td>2019-03-03</td>\n",
       "      <td>3</td>\n",
       "    </tr>\n",
       "    <tr>\n",
       "      <th>3</th>\n",
       "      <td>A03</td>\n",
       "      <td>180</td>\n",
       "      <td>103</td>\n",
       "      <td>2019-03-04</td>\n",
       "      <td>4</td>\n",
       "    </tr>\n",
       "    <tr>\n",
       "      <th>4</th>\n",
       "      <td>A04</td>\n",
       "      <td>500</td>\n",
       "      <td>104</td>\n",
       "      <td>2019-03-05</td>\n",
       "      <td>5</td>\n",
       "    </tr>\n",
       "    <tr>\n",
       "      <th>5</th>\n",
       "      <td>A05</td>\n",
       "      <td>300</td>\n",
       "      <td>105</td>\n",
       "      <td>2019-03-06</td>\n",
       "      <td>6</td>\n",
       "    </tr>\n",
       "  </tbody>\n",
       "</table>\n",
       "</div>"
      ],
      "text/plain": [
       "  acc_id  amount  cust_id        date  w_id\n",
       "0    A01     100      101  2019-03-01     1\n",
       "1    A01     200      102  2019-03-02     2\n",
       "2    A02     150      102  2019-03-03     3\n",
       "3    A03     180      103  2019-03-04     4\n",
       "4    A04     500      104  2019-03-05     5\n",
       "5    A05     300      105  2019-03-06     6"
      ]
     },
     "execution_count": 5,
     "metadata": {},
     "output_type": "execute_result"
    }
   ],
   "source": [
    "withd"
   ]
  },
  {
   "cell_type": "markdown",
   "metadata": {},
   "source": [
    "### Question 3"
   ]
  },
  {
   "cell_type": "markdown",
   "metadata": {},
   "source": [
    "Write a program to retrieve the ``cust-id`` of the customer who withdraw the largest number of times."
   ]
  },
  {
   "cell_type": "code",
   "execution_count": 6,
   "metadata": {},
   "outputs": [],
   "source": [
    "def largetime_cust():\n",
    "    import mysql.connector\n",
    "    import pandas as pd\n",
    "    connection = mysql.connector.connect (host = \"172.16.199.130\",\n",
    "                              user = \"mengrui\",  \n",
    "                              passwd = \"UICdsmengrui\",\n",
    "                                     db = \"mengrui\")\n",
    "\n",
    "    cursor = connection.cursor()\n",
    "    sql = \"SELECT cust_id from Withdraw group by(cust_id) having count(*)>=all (select count(w_id) from Withdraw group by cust_id)\"\n",
    "    cursor.execute(sql)\n",
    "    result = cursor.fetchall()\n",
    "    for r in result:\n",
    "        print (r)\n",
    "    cursor.close();\n",
    "    connection.close();\n"
   ]
  },
  {
   "cell_type": "code",
   "execution_count": 7,
   "metadata": {},
   "outputs": [
    {
     "name": "stdout",
     "output_type": "stream",
     "text": [
      "(102,)\n"
     ]
    }
   ],
   "source": [
    "largetime_cust()"
   ]
  }
 ],
 "metadata": {
  "kernelspec": {
   "display_name": "Python 3",
   "language": "python",
   "name": "python3"
  },
  "language_info": {
   "codemirror_mode": {
    "name": "ipython",
    "version": 3
   },
   "file_extension": ".py",
   "mimetype": "text/x-python",
   "name": "python",
   "nbconvert_exporter": "python",
   "pygments_lexer": "ipython3",
   "version": "3.7.1"
  },
  "toc": {
   "base_numbering": 1,
   "nav_menu": {},
   "number_sections": false,
   "sideBar": true,
   "skip_h1_title": false,
   "title_cell": "Table of Contents",
   "title_sidebar": "Contents",
   "toc_cell": false,
   "toc_position": {},
   "toc_section_display": true,
   "toc_window_display": false
  }
 },
 "nbformat": 4,
 "nbformat_minor": 2
}
