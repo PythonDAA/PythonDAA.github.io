{
 "cells": [
  {
   "cell_type": "markdown",
   "metadata": {},
   "source": [
    "# Lecture 3 : Python Basics (Part II)\n",
    "# Data Science, DST, UIC"
   ]
  },
  {
   "cell_type": "markdown",
   "metadata": {},
   "source": [
    "In this lecture, we will cover the following topics:\n",
    "1. Flow control statements: if, for, while, pass...\n",
    "2. List\n",
    "3. Tuple\n",
    "4. String\n",
    "5. Sequence\n",
    "6. Set\n",
    "7. Dictionary"
   ]
  },
  {
   "cell_type": "markdown",
   "metadata": {},
   "source": [
    "\n",
    "# 1. Flow control statements\n",
    "More frequently used flow control statements are the following:\n",
    "1. if\n",
    "2. for\n",
    "3. while\n",
    "4. pass\n",
    "\n",
    "\n"
   ]
  },
  {
   "cell_type": "markdown",
   "metadata": {},
   "source": [
    "## 1.1 if\n",
    "Note: in python we use ``:`` and indentation to define code blocks instead of ``{}``, therefore, use ``:`` to enclose the statements of **if, for, while...**\n",
    "- Each ``:`` must be accompanied by **identation** in the next line, usually we use 4 blank spaces for indentation, sometimes the editor can do it automatically for you when you type \"enter\" after a ``:``, like in Jupyter Notebook.\n",
    "\n",
    "The general Python syntax for a simple **if** statement is:\n",
    "\n",
    "``if condition :\n",
    "      indentedStatementBlock``\n",
    "\n",
    "- If the condition is true, then do the indented statements. If the condition is not true, then skip the indented statements.\n",
    "\n",
    "General Python **if-else** syntax is:\n",
    "\n",
    "``if condition :\n",
    "      indentedStatementBlockForTrueCondition\n",
    "else:\n",
    "      indentedStatementBlockForFalseCondition``\n",
    "\n",
    "- These statement blocks can have any number of statements, and can include about any kind of statement.\n"
   ]
  },
  {
   "cell_type": "code",
   "execution_count": 1,
   "metadata": {},
   "outputs": [
    {
     "name": "stdout",
     "output_type": "stream",
     "text": [
      "a is less than b\n"
     ]
    }
   ],
   "source": [
    "a = 1\n",
    "b = 2\n",
    "\n",
    "if a<b:\n",
    "    print(\"a is less than b\")\n",
    "else:\n",
    "    print(\"a is not less than b\")\n"
   ]
  },
  {
   "cell_type": "markdown",
   "metadata": {},
   "source": [
    "Nested **if-else** statements:"
   ]
  },
  {
   "cell_type": "code",
   "execution_count": 2,
   "metadata": {},
   "outputs": [
    {
     "name": "stdout",
     "output_type": "stream",
     "text": [
      "a equals to b\n"
     ]
    }
   ],
   "source": [
    "a = 1\n",
    "b = 1\n",
    "\n",
    "if a<=b:\n",
    "    if a<b:\n",
    "        print(\"a is less than b\")\n",
    "    else:\n",
    "        print(\"a equals to b\")\n",
    "else:\n",
    "    print(\"a is greater than b\")"
   ]
  },
  {
   "cell_type": "markdown",
   "metadata": {},
   "source": [
    "If you have multiple **if** and **else** tests, you can use **if-elif** statements.\n",
    "The most elaborate syntax for an **if-elif-else** statement is indicated in general below:\n",
    "\n",
    "``if condition1 :\n",
    "      indentedStatementBlockForTrueCondition1\n",
    "elif condition2 :\n",
    "      indentedStatementBlockForTrueCondition2\n",
    "elif condition3 :\n",
    "      indentedStatementBlockForTrueCondition3\n",
    "else:\n",
    "      indentedStatementBlockForEachConditionFalse``\n",
    "\n",
    "The *if*, each *elif*, and the final *else* lines are all aligned. There can be any number of *elif* lines, each followed by an indented block. With this construction exactly **one** of the indented blocks is executed. It is the one corresponding to the first *True* condition, or, if all conditions are False, it is the block after the final *else* line."
   ]
  },
  {
   "cell_type": "code",
   "execution_count": 3,
   "metadata": {},
   "outputs": [
    {
     "name": "stdout",
     "output_type": "stream",
     "text": [
      "a is greater than b\n"
     ]
    }
   ],
   "source": [
    "a=2\n",
    "b=1 \n",
    "\n",
    "if a<b:\n",
    "    print(\"a is less than b\")\n",
    "elif a==b:\n",
    "    print(\"a equals to b\")\n",
    "else:\n",
    "    print(\"a is greater than b\")"
   ]
  },
  {
   "cell_type": "markdown",
   "metadata": {},
   "source": [
    "A special format of **if...else** statement in assignment.\n",
    "- Ternery operator or conditional expression"
   ]
  },
  {
   "cell_type": "code",
   "execution_count": 4,
   "metadata": {},
   "outputs": [
    {
     "data": {
      "text/plain": [
       "'Y'"
      ]
     },
     "execution_count": 4,
     "metadata": {},
     "output_type": "execute_result"
    }
   ],
   "source": [
    "x = 1\n",
    "result = \"Y\" if x>0 else \"N\"  # ternery operator;  \n",
    "result"
   ]
  },
  {
   "cell_type": "markdown",
   "metadata": {},
   "source": [
    "There are two types of loops in Python, **for** and **while**.\n",
    "\n",
    "## 1.2 for\n",
    "\n",
    "For loops iterate over a given sequence, e.g., tuple, list and string.\n",
    "\n",
    "Syntax of for loops:\n",
    "\n",
    "``for iterator_var in sequence:\n",
    "    indentedStatementBlock``\n"
   ]
  },
  {
   "cell_type": "code",
   "execution_count": 5,
   "metadata": {
    "scrolled": true
   },
   "outputs": [
    {
     "name": "stdout",
     "output_type": "stream",
     "text": [
      "1\n",
      "2\n",
      "3\n"
     ]
    }
   ],
   "source": [
    "for i in (1,2,3): # iterate over a tuple; i=1; i=2; i=3\n",
    "    print(i)"
   ]
  },
  {
   "cell_type": "code",
   "execution_count": 6,
   "metadata": {},
   "outputs": [
    {
     "name": "stdout",
     "output_type": "stream",
     "text": [
      "1\n",
      "2\n",
      "3\n"
     ]
    }
   ],
   "source": [
    "for i in [1,2,3]: # iterate over a list\n",
    "    print(i)"
   ]
  },
  {
   "cell_type": "markdown",
   "metadata": {},
   "source": [
    "For loops can iterate over a sequence of numbers using the ``range`` functions. Range function returns a new list with numbers of that specified range.\n",
    "- ``range(start, stop, step)`` function returns an object that produces a sequence of integers from start (inclusive) to stop (exclusive) by step (default to 1). Start from 0 if start is not given explicitly."
   ]
  },
  {
   "cell_type": "code",
   "execution_count": 7,
   "metadata": {},
   "outputs": [
    {
     "name": "stdout",
     "output_type": "stream",
     "text": [
      "0\n",
      "1\n",
      "2\n"
     ]
    }
   ],
   "source": [
    "for i in range(3):  # default start is 0, step is 1 range(0,3,1)\n",
    "    print(i)"
   ]
  },
  {
   "cell_type": "code",
   "execution_count": 8,
   "metadata": {},
   "outputs": [
    {
     "name": "stdout",
     "output_type": "stream",
     "text": [
      "1\n",
      "2\n"
     ]
    }
   ],
   "source": [
    "for i in range(1,3): # range(1,3,1)\n",
    "    print(i)"
   ]
  },
  {
   "cell_type": "code",
   "execution_count": 9,
   "metadata": {},
   "outputs": [
    {
     "name": "stdout",
     "output_type": "stream",
     "text": [
      "1\n",
      "3\n",
      "5\n",
      "7\n",
      "9\n"
     ]
    }
   ],
   "source": [
    "for i in range(1,10,2):\n",
    "    print(i)"
   ]
  },
  {
   "cell_type": "markdown",
   "metadata": {},
   "source": [
    "Use for loop to iterate over index of a list."
   ]
  },
  {
   "cell_type": "code",
   "execution_count": 10,
   "metadata": {},
   "outputs": [
    {
     "name": "stdout",
     "output_type": "stream",
     "text": [
      "2\n",
      "4\n"
     ]
    }
   ],
   "source": [
    "a_list = list(range(1,5)) # a_list=[1,2,3,4]\n",
    "for i in [1,3]:\n",
    "    print(a_list[i]) # a_list[1] => 2; a_list[3]=4"
   ]
  },
  {
   "cell_type": "markdown",
   "metadata": {},
   "source": [
    "**break** and **continue** in for loops\n",
    "- ``break`` is used to exit a for loop, whereas ``continue`` is used to skip the current block, and return to the ``for`` statement. "
   ]
  },
  {
   "cell_type": "code",
   "execution_count": 11,
   "metadata": {},
   "outputs": [
    {
     "name": "stdout",
     "output_type": "stream",
     "text": [
      "0\n",
      "2\n",
      "4\n"
     ]
    }
   ],
   "source": [
    "for i in range(0,10,2): #[0,2,4,6,8]\n",
    "    if i==6:\n",
    "        break\n",
    "    print(i)"
   ]
  },
  {
   "cell_type": "code",
   "execution_count": 12,
   "metadata": {},
   "outputs": [
    {
     "name": "stdout",
     "output_type": "stream",
     "text": [
      "0\n",
      "2\n",
      "4\n",
      "8\n"
     ]
    }
   ],
   "source": [
    "for i in range(0,10,2):\n",
    "    if i==6:\n",
    "        continue\n",
    "    print(i)"
   ]
  },
  {
   "cell_type": "markdown",
   "metadata": {},
   "source": [
    "## 1.3 While\n",
    "In python, **while** loop is used to execute a block of statements repeatedly until a given condition is satisfied. And when the condition becomes false, the line immediately after the loop in program is executed.\n",
    "\n",
    "Syntax:\n",
    "\n",
    "``while expression:\n",
    "    indentedStatementBlock``"
   ]
  },
  {
   "cell_type": "code",
   "execution_count": 13,
   "metadata": {},
   "outputs": [
    {
     "name": "stdout",
     "output_type": "stream",
     "text": [
      "55\n"
     ]
    }
   ],
   "source": [
    "i=1\n",
    "sum=0\n",
    "while i<=10:\n",
    "    sum += i  # 0+1+2+3+...+10 = 55\n",
    "    i += 1\n",
    "    # i++ not allowed in python\n",
    "\n",
    "print(sum)"
   ]
  },
  {
   "cell_type": "markdown",
   "metadata": {},
   "source": [
    "We can use **else** in loops. When the loop condition of ``for`` or ``while`` statement fails then code part in ``else`` is executed. \n",
    "- If ``break`` statement is executed inside for loop then the ``else`` part is skipped. \n",
    "- ``else`` part is executed even if there is a ``continue`` statement."
   ]
  },
  {
   "cell_type": "code",
   "execution_count": 14,
   "metadata": {},
   "outputs": [
    {
     "name": "stdout",
     "output_type": "stream",
     "text": [
      "2 1\n",
      "3 3\n",
      "4 6\n",
      "5 10\n",
      "7 21\n",
      "8 28\n",
      "9 36\n",
      "10 45\n",
      "11 55\n",
      "here is else\n"
     ]
    }
   ],
   "source": [
    "i=1\n",
    "sum=0\n",
    "while i<=10:\n",
    "    sum += i\n",
    "    i += 1\n",
    "    if i == 6:    \n",
    "        continue\n",
    "    print(i,sum)\n",
    "else:\n",
    "    print(\"here is else\")"
   ]
  },
  {
   "cell_type": "code",
   "execution_count": 15,
   "metadata": {},
   "outputs": [
    {
     "name": "stdout",
     "output_type": "stream",
     "text": [
      "2 1\n",
      "3 3\n",
      "4 6\n",
      "5 10\n",
      "7 21\n",
      "8 28\n"
     ]
    }
   ],
   "source": [
    "i=1\n",
    "sum=0\n",
    "while i<=10:\n",
    "    sum += i\n",
    "    i += 1\n",
    "    if i==6:\n",
    "        continue\n",
    "    if i == 9:\n",
    "        break\n",
    "    print(i, sum)\n",
    "else:\n",
    "    print(\"here is else\")"
   ]
  },
  {
   "cell_type": "markdown",
   "metadata": {},
   "source": [
    "## 1.4 Pass\n",
    "\n",
    "Pass means empty statement, the program will do nothing to this statement and go to next statement directly.\n",
    "It is useful as a placeholder when a statement is required syntactically, but no code needs to be execute."
   ]
  },
  {
   "cell_type": "code",
   "execution_count": 16,
   "metadata": {},
   "outputs": [
    {
     "name": "stdout",
     "output_type": "stream",
     "text": [
      "0\n"
     ]
    }
   ],
   "source": [
    "a= 1\n",
    "b= 0\n",
    "if (a<=b):\n",
    "    pass\n",
    "else:\n",
    "    print(b)"
   ]
  },
  {
   "cell_type": "markdown",
   "metadata": {},
   "source": [
    "# 2. List"
   ]
  },
  {
   "cell_type": "markdown",
   "metadata": {},
   "source": [
    "## 2.1 Definition\n",
    "\n",
    "List is a mutable container (similar to ArrayList in Java), each element in the list has an index.\n",
    "\n",
    "There are three ways to define a list.\n",
    "\n",
    "1. Use **[ ]**"
   ]
  },
  {
   "cell_type": "code",
   "execution_count": 17,
   "metadata": {},
   "outputs": [
    {
     "data": {
      "text/plain": [
       "[1, 2, 3, 4, 5, 6, 7, 8, 9]"
      ]
     },
     "execution_count": 17,
     "metadata": {},
     "output_type": "execute_result"
    }
   ],
   "source": [
    "test_list = [1,2,3,4,5,6,7,8,9]\n",
    "test_list"
   ]
  },
  {
   "cell_type": "markdown",
   "metadata": {},
   "source": [
    "2. Use Assignment"
   ]
  },
  {
   "cell_type": "code",
   "execution_count": 18,
   "metadata": {},
   "outputs": [
    {
     "data": {
      "text/plain": [
       "[1, 2, 3, 4, 5, 6, 7, 8, 9]"
      ]
     },
     "execution_count": 18,
     "metadata": {},
     "output_type": "execute_result"
    }
   ],
   "source": [
    "test_list_2 = test_list\n",
    "test_list_2"
   ]
  },
  {
   "cell_type": "markdown",
   "metadata": {},
   "source": [
    "3. Use explicit conversion"
   ]
  },
  {
   "cell_type": "code",
   "execution_count": 19,
   "metadata": {},
   "outputs": [
    {
     "data": {
      "text/plain": [
       "['I',\n",
       " ' ',\n",
       " 'l',\n",
       " 'o',\n",
       " 'v',\n",
       " 'e',\n",
       " ' ',\n",
       " 'd',\n",
       " 'a',\n",
       " 't',\n",
       " 'a',\n",
       " ' ',\n",
       " 's',\n",
       " 'c',\n",
       " 'i',\n",
       " 'e',\n",
       " 'n',\n",
       " 'c',\n",
       " 'e']"
      ]
     },
     "execution_count": 19,
     "metadata": {},
     "output_type": "execute_result"
    }
   ],
   "source": [
    "test_list_3 = list(\"I love data science\") \n",
    "test_list_3\n",
    "# If no argument is given, the constructor creates a new empty list.\n",
    "# The argument must be iterable if specified.\n",
    "# b = list()\n",
    "# b"
   ]
  },
  {
   "cell_type": "markdown",
   "metadata": {},
   "source": [
    "You can check the length of a list using **len()**"
   ]
  },
  {
   "cell_type": "code",
   "execution_count": 20,
   "metadata": {},
   "outputs": [
    {
     "data": {
      "text/plain": [
       "9"
      ]
     },
     "execution_count": 20,
     "metadata": {},
     "output_type": "execute_result"
    }
   ],
   "source": [
    "len(test_list)"
   ]
  },
  {
   "cell_type": "markdown",
   "metadata": {},
   "source": [
    "## 2.2 Index\n",
    "\n",
    "You can refer to an element in the list using index.\n",
    " \n",
    "Note: the index of a list starts from 0 (which means the first element in the list) and ends at len(your_list)-1"
   ]
  },
  {
   "cell_type": "code",
   "execution_count": 21,
   "metadata": {},
   "outputs": [
    {
     "data": {
      "text/plain": [
       "[1, 2, 3, 4, 5, 6, 7, 8, 9]"
      ]
     },
     "execution_count": 21,
     "metadata": {},
     "output_type": "execute_result"
    }
   ],
   "source": [
    "test_list"
   ]
  },
  {
   "cell_type": "code",
   "execution_count": 22,
   "metadata": {},
   "outputs": [
    {
     "name": "stdout",
     "output_type": "stream",
     "text": [
      "1\n",
      "9\n"
     ]
    }
   ],
   "source": [
    "print(test_list[0])\n",
    "print(test_list[8])"
   ]
  },
  {
   "cell_type": "code",
   "execution_count": 23,
   "metadata": {},
   "outputs": [],
   "source": [
    "# test_list[9]  # list index out of range"
   ]
  },
  {
   "cell_type": "markdown",
   "metadata": {},
   "source": [
    "You can even use negative integers in the index, for example, -1 which means start counting from the last element, etc"
   ]
  },
  {
   "cell_type": "code",
   "execution_count": 24,
   "metadata": {},
   "outputs": [
    {
     "name": "stdout",
     "output_type": "stream",
     "text": [
      "9\n",
      "5\n"
     ]
    }
   ],
   "source": [
    "print(test_list[-1])\n",
    "print(test_list[-5])"
   ]
  },
  {
   "cell_type": "markdown",
   "metadata": {},
   "source": [
    "## 2.3 Slicing\n",
    "\n",
    "We can get a part of lists using python’s slicing operator (``:``) which has following syntax:\n",
    "\n",
    "``test_list[start:stop:step]``\n",
    "\n",
    "- which means slice the test_list from(and including) the **start** index, end at (but not including) the **stop** index, and the step size is **step**. \n",
    "- either **start, stop, step** can be omitted and can also be negative integers."
   ]
  },
  {
   "cell_type": "code",
   "execution_count": 25,
   "metadata": {},
   "outputs": [
    {
     "data": {
      "text/plain": [
       "[1, 2, 3, 4, 5, 6, 7, 8, 9]"
      ]
     },
     "execution_count": 25,
     "metadata": {},
     "output_type": "execute_result"
    }
   ],
   "source": [
    "test_list"
   ]
  },
  {
   "cell_type": "code",
   "execution_count": 26,
   "metadata": {},
   "outputs": [
    {
     "data": {
      "text/plain": [
       "[2, 3, 4, 5, 6]"
      ]
     },
     "execution_count": 26,
     "metadata": {},
     "output_type": "execute_result"
    }
   ],
   "source": [
    "test_list[1:6:1]"
   ]
  },
  {
   "cell_type": "code",
   "execution_count": 27,
   "metadata": {},
   "outputs": [
    {
     "data": {
      "text/plain": [
       "[2, 3, 4, 5, 6]"
      ]
     },
     "execution_count": 27,
     "metadata": {},
     "output_type": "execute_result"
    }
   ],
   "source": [
    "test_list[1:6] # step default to 1"
   ]
  },
  {
   "cell_type": "code",
   "execution_count": 28,
   "metadata": {},
   "outputs": [
    {
     "data": {
      "text/plain": [
       "[2, 4, 6]"
      ]
     },
     "execution_count": 28,
     "metadata": {},
     "output_type": "execute_result"
    }
   ],
   "source": [
    "test_list[1:6:2]"
   ]
  },
  {
   "cell_type": "markdown",
   "metadata": {},
   "source": [
    "Omit the **start** and **step** arguments,  the default value of **start** is 0, **step** is 1"
   ]
  },
  {
   "cell_type": "code",
   "execution_count": 29,
   "metadata": {},
   "outputs": [
    {
     "data": {
      "text/plain": [
       "[1, 2, 3, 4, 5, 6]"
      ]
     },
     "execution_count": 29,
     "metadata": {},
     "output_type": "execute_result"
    }
   ],
   "source": [
    "test_list[:6] # test_list[0:6:1]"
   ]
  },
  {
   "cell_type": "markdown",
   "metadata": {},
   "source": [
    "Omit the **stop** and **step** arguments, the default value of **end** is length of the list, **step** is 1"
   ]
  },
  {
   "cell_type": "code",
   "execution_count": 30,
   "metadata": {},
   "outputs": [
    {
     "data": {
      "text/plain": [
       "[2, 3, 4, 5, 6, 7, 8, 9]"
      ]
     },
     "execution_count": 30,
     "metadata": {},
     "output_type": "execute_result"
    }
   ],
   "source": [
    "test_list[1:]"
   ]
  },
  {
   "cell_type": "markdown",
   "metadata": {},
   "source": [
    "Omit all arguments"
   ]
  },
  {
   "cell_type": "code",
   "execution_count": 31,
   "metadata": {},
   "outputs": [
    {
     "data": {
      "text/plain": [
       "[1, 2, 3, 4, 5, 6, 7, 8, 9]"
      ]
     },
     "execution_count": 31,
     "metadata": {},
     "output_type": "execute_result"
    }
   ],
   "source": [
    "test_list[:]"
   ]
  },
  {
   "cell_type": "markdown",
   "metadata": {},
   "source": [
    "Negative arguments"
   ]
  },
  {
   "cell_type": "code",
   "execution_count": 32,
   "metadata": {},
   "outputs": [
    {
     "data": {
      "text/plain": [
       "[1, 2, 3, 4, 5, 6, 7, 8]"
      ]
     },
     "execution_count": 32,
     "metadata": {},
     "output_type": "execute_result"
    }
   ],
   "source": [
    "test_list[:-1]  # start from 0, end at last index, step is 1"
   ]
  },
  {
   "cell_type": "markdown",
   "metadata": {},
   "source": [
    "Perform inverse traversal using slicing operator and ``reversed()`` function.\n",
    "\n",
    "- Note: Slicing will not affect the original list"
   ]
  },
  {
   "cell_type": "code",
   "execution_count": 33,
   "metadata": {},
   "outputs": [
    {
     "data": {
      "text/plain": [
       "[9, 8, 7, 6, 5, 4, 3, 2, 1]"
      ]
     },
     "execution_count": 33,
     "metadata": {},
     "output_type": "execute_result"
    }
   ],
   "source": [
    "test_list[::-1] # step=-1, reverse direction step is 1"
   ]
  },
  {
   "cell_type": "code",
   "execution_count": 34,
   "metadata": {},
   "outputs": [
    {
     "data": {
      "text/plain": [
       "[9, 8, 7, 6, 5, 4, 3, 2, 1]"
      ]
     },
     "execution_count": 34,
     "metadata": {},
     "output_type": "execute_result"
    }
   ],
   "source": [
    "list(reversed(test_list))   # the same as above, but use reversed()"
   ]
  },
  {
   "cell_type": "code",
   "execution_count": 35,
   "metadata": {},
   "outputs": [
    {
     "data": {
      "text/plain": [
       "[1, 2, 3, 4, 5, 6, 7, 8, 9]"
      ]
     },
     "execution_count": 35,
     "metadata": {},
     "output_type": "execute_result"
    }
   ],
   "source": [
    "test_list"
   ]
  },
  {
   "cell_type": "markdown",
   "metadata": {},
   "source": [
    "However, the following built-in function for list will change the list itself to its reverse"
   ]
  },
  {
   "cell_type": "code",
   "execution_count": 36,
   "metadata": {},
   "outputs": [
    {
     "data": {
      "text/plain": [
       "[9, 8, 7, 6, 5, 4, 3, 2, 1]"
      ]
     },
     "execution_count": 36,
     "metadata": {},
     "output_type": "execute_result"
    }
   ],
   "source": [
    "test_list.reverse()\n",
    "test_list"
   ]
  },
  {
   "cell_type": "markdown",
   "metadata": {},
   "source": [
    "## 2.4 extend and append\n",
    "In Python, use list methods ``append()`` and ``extend()`` to add items to a list or combine other lists. You can also use ``+`` to combine lists. "
   ]
  },
  {
   "cell_type": "markdown",
   "metadata": {},
   "source": [
    "You can add an item to the end of a list with with ``append()``."
   ]
  },
  {
   "cell_type": "code",
   "execution_count": 37,
   "metadata": {},
   "outputs": [
    {
     "name": "stdout",
     "output_type": "stream",
     "text": [
      "[1, 2, 3, 4]\n"
     ]
    }
   ],
   "source": [
    "test_list_1 = [1,2,3]\n",
    "test_list_2 = [5,6,7]\n",
    "test_list_1.append(4)\n",
    "print(test_list_1)"
   ]
  },
  {
   "cell_type": "markdown",
   "metadata": {},
   "source": [
    "If the argument is a list object, **append()** will append the list with another list as a whole."
   ]
  },
  {
   "cell_type": "code",
   "execution_count": 38,
   "metadata": {},
   "outputs": [
    {
     "data": {
      "text/plain": [
       "[1, 2, 3, 4, [5, 6, 7]]"
      ]
     },
     "execution_count": 38,
     "metadata": {},
     "output_type": "execute_result"
    }
   ],
   "source": [
    "test_list_1.append(test_list_2)\n",
    "test_list_1"
   ]
  },
  {
   "cell_type": "markdown",
   "metadata": {},
   "source": [
    "You can combine another list at the end with ``extend()``.\n",
    "Different with ``append()`` method, all itemss are added to the end of the original list."
   ]
  },
  {
   "cell_type": "code",
   "execution_count": 39,
   "metadata": {},
   "outputs": [
    {
     "data": {
      "text/plain": [
       "[1, 2, 3, 4, 5, 6]"
      ]
     },
     "execution_count": 39,
     "metadata": {},
     "output_type": "execute_result"
    }
   ],
   "source": [
    "test_list_1 = [1,2,3]\n",
    "test_list_2 = [4,5,6]\n",
    "test_list_1.extend(test_list_2)  # the argument in extend method must be iterable\n",
    "test_list_1"
   ]
  },
  {
   "cell_type": "markdown",
   "metadata": {},
   "source": [
    "It is also possible to combine using the ``+`` operator instead of ``extend()``.\n",
    "In the case of the ``+`` operator, a new list is returned. You can also add to the existing list with ``+=``."
   ]
  },
  {
   "cell_type": "code",
   "execution_count": 40,
   "metadata": {},
   "outputs": [
    {
     "data": {
      "text/plain": [
       "[1, 2, 3, 4, 5, 6]"
      ]
     },
     "execution_count": 40,
     "metadata": {},
     "output_type": "execute_result"
    }
   ],
   "source": [
    "test_list_1 = [1,2,3]\n",
    "test_list_2 = [4,5,6]\n",
    "test_list_1 += test_list_2\n",
    "test_list_1"
   ]
  },
  {
   "cell_type": "markdown",
   "metadata": {},
   "source": [
    "## 2.5 List comprehensions "
   ]
  },
  {
   "cell_type": "markdown",
   "metadata": {},
   "source": [
    "List comprehensions provide a concise way to create lists. \n",
    "- It consists of brackets containing an expression followed by a for clause, then zero or more for or if clauses. The expressions can be anything, meaning you can put in all kinds of objects in lists.\n",
    "\n",
    "- The following is the basic structure of a list comprehension:\n",
    "\n",
    "``output_list = [expression for var in input_list if (var satisfies this condition)]``"
   ]
  },
  {
   "cell_type": "code",
   "execution_count": 41,
   "metadata": {},
   "outputs": [
    {
     "data": {
      "text/plain": [
       "[1, 1, 1, 1, 1, 1, 1, 1, 1, 1]"
      ]
     },
     "execution_count": 41,
     "metadata": {},
     "output_type": "execute_result"
    }
   ],
   "source": [
    "clist1 = [1 for i in range(10)] #[1,1,1.....,1]\n",
    "clist1"
   ]
  },
  {
   "cell_type": "code",
   "execution_count": 42,
   "metadata": {},
   "outputs": [
    {
     "data": {
      "text/plain": [
       "[1, 2, 3, 4, 5, 6, 7, 8, 9]"
      ]
     },
     "execution_count": 42,
     "metadata": {},
     "output_type": "execute_result"
    }
   ],
   "source": [
    "clist2 = [i for i in range(1,10)] # [1,2,.....,9]\n",
    "clist2"
   ]
  },
  {
   "cell_type": "code",
   "execution_count": 43,
   "metadata": {
    "scrolled": true
   },
   "outputs": [
    {
     "data": {
      "text/plain": [
       "[1, 3, 5, 7, 9]"
      ]
     },
     "execution_count": 43,
     "metadata": {},
     "output_type": "execute_result"
    }
   ],
   "source": [
    "clist3 = [i for i in range(1,10,2)] \n",
    "clist3"
   ]
  },
  {
   "cell_type": "code",
   "execution_count": 44,
   "metadata": {},
   "outputs": [
    {
     "data": {
      "text/plain": [
       "[int, float, str, bool]"
      ]
     },
     "execution_count": 44,
     "metadata": {},
     "output_type": "execute_result"
    }
   ],
   "source": [
    "type_list = [type(elements) for elements in [1,1.0,'1',True]]\n",
    "type_list"
   ]
  },
  {
   "cell_type": "code",
   "execution_count": 45,
   "metadata": {
    "scrolled": true
   },
   "outputs": [
    {
     "data": {
      "text/plain": [
       "['my student id is 0',\n",
       " 'my student id is 1',\n",
       " 'my student id is 2',\n",
       " 'my student id is 3',\n",
       " 'my student id is 4']"
      ]
     },
     "execution_count": 45,
     "metadata": {},
     "output_type": "execute_result"
    }
   ],
   "source": [
    "[\"my student id is %d\"%i for i in range(5)] # string format specifier \"%d %s\"%(var1,var2), similar to printf in C"
   ]
  },
  {
   "cell_type": "markdown",
   "metadata": {},
   "source": [
    "## 2.6 insert and delete\n",
    "\n",
    "``insert()``: Inserts an element before/at specified index. \n",
    "\n",
    "Syntax:\n",
    "``list.insert(index, element)``"
   ]
  },
  {
   "cell_type": "code",
   "execution_count": 46,
   "metadata": {},
   "outputs": [
    {
     "data": {
      "text/plain": [
       "[1, 0, 2, 3]"
      ]
     },
     "execution_count": 46,
     "metadata": {},
     "output_type": "execute_result"
    }
   ],
   "source": [
    "L = [1,2,3]\n",
    "L.insert(1,0)\n",
    "L"
   ]
  },
  {
   "cell_type": "markdown",
   "metadata": {},
   "source": [
    "``pop()``: Delete an element, index is not a necessary parameter, if not mentioned takes the last index.\n",
    "\n",
    "Syntax:\n",
    "``list.pop([index])``"
   ]
  },
  {
   "cell_type": "code",
   "execution_count": 47,
   "metadata": {},
   "outputs": [
    {
     "data": {
      "text/plain": [
       "[1, 2]"
      ]
     },
     "execution_count": 47,
     "metadata": {},
     "output_type": "execute_result"
    }
   ],
   "source": [
    "L = [1,2,3]\n",
    "L.pop(2)       # delete by index     \n",
    "L"
   ]
  },
  {
   "cell_type": "code",
   "execution_count": 48,
   "metadata": {},
   "outputs": [
    {
     "data": {
      "text/plain": [
       "[1, 2]"
      ]
     },
     "execution_count": 48,
     "metadata": {},
     "output_type": "execute_result"
    }
   ],
   "source": [
    "L =[1,2,3]\n",
    "L.pop()     # delete the last element\n",
    "L"
   ]
  },
  {
   "cell_type": "markdown",
   "metadata": {},
   "source": [
    "``del``: Element to be deleted is mentioned using list name and index.\n",
    "\n",
    "Syntax:\n",
    "\n",
    "``del list[index]``"
   ]
  },
  {
   "cell_type": "code",
   "execution_count": 49,
   "metadata": {
    "scrolled": true
   },
   "outputs": [
    {
     "data": {
      "text/plain": [
       "[1, 3]"
      ]
     },
     "execution_count": 49,
     "metadata": {},
     "output_type": "execute_result"
    }
   ],
   "source": [
    "L = [1,2,3]\n",
    "del L[1]       # delete by index\n",
    "L"
   ]
  },
  {
   "cell_type": "markdown",
   "metadata": {},
   "source": [
    "``remove()``: Element to be deleted is mentioned using list name and element, not index.\n",
    "\n",
    "Syntax:\n",
    " ``list.remove(element)``"
   ]
  },
  {
   "cell_type": "code",
   "execution_count": 50,
   "metadata": {},
   "outputs": [
    {
     "data": {
      "text/plain": [
       "[1, 3]"
      ]
     },
     "execution_count": 50,
     "metadata": {},
     "output_type": "execute_result"
    }
   ],
   "source": [
    "L = [1,2,3]\n",
    "L.remove(2)  # compare with the pop function\n",
    "L"
   ]
  },
  {
   "cell_type": "code",
   "execution_count": 51,
   "metadata": {},
   "outputs": [
    {
     "data": {
      "text/plain": [
       "['b', 'c']"
      ]
     },
     "execution_count": 51,
     "metadata": {},
     "output_type": "execute_result"
    }
   ],
   "source": [
    "L = ['a','b','c']\n",
    "L.remove('a')      # delete by value\n",
    "L"
   ]
  },
  {
   "cell_type": "code",
   "execution_count": 52,
   "metadata": {},
   "outputs": [
    {
     "data": {
      "text/plain": [
       "['a', 'b', 'c', 'd']"
      ]
     },
     "execution_count": 52,
     "metadata": {},
     "output_type": "execute_result"
    }
   ],
   "source": [
    "L = ['a','a','b','c','d']\n",
    "L.remove('a')      # delete by value, only delete the first 'a', how to delete all 'a' in the list?\n",
    "L"
   ]
  },
  {
   "cell_type": "code",
   "execution_count": 53,
   "metadata": {},
   "outputs": [
    {
     "data": {
      "text/plain": [
       "['b', 'c', 'd']"
      ]
     },
     "execution_count": 53,
     "metadata": {},
     "output_type": "execute_result"
    }
   ],
   "source": [
    "L = ['a','a','b','c','d']\n",
    "L = [x for x in L if x!='a']\n",
    "L"
   ]
  },
  {
   "cell_type": "markdown",
   "metadata": {},
   "source": [
    "# 3. Tuple"
   ]
  },
  {
   "cell_type": "markdown",
   "metadata": {},
   "source": [
    "Think about **tuple** as immutable **list**. The operations of **tuple** are similar to **list** except the elements in a tuple cannot be modified directly"
   ]
  },
  {
   "cell_type": "code",
   "execution_count": 54,
   "metadata": {
    "scrolled": false
   },
   "outputs": [
    {
     "data": {
      "text/plain": [
       "(2, 4, 6, 8, 0)"
      ]
     },
     "execution_count": 54,
     "metadata": {},
     "output_type": "execute_result"
    }
   ],
   "source": [
    "test_tuple = 2,4,6,8,0\n",
    "test_tuple"
   ]
  },
  {
   "cell_type": "code",
   "execution_count": 55,
   "metadata": {},
   "outputs": [
    {
     "data": {
      "text/plain": [
       "(2, 4, 6, 8, 0)"
      ]
     },
     "execution_count": 55,
     "metadata": {},
     "output_type": "execute_result"
    }
   ],
   "source": [
    "test_tuple = (2,4,6,8,0)  # the same as above\n",
    "test_tuple"
   ]
  },
  {
   "cell_type": "code",
   "execution_count": 56,
   "metadata": {
    "scrolled": true
   },
   "outputs": [],
   "source": [
    "test_tuple = 2,4,6,8,0\n",
    "# test_tuple[2] = 5"
   ]
  },
  {
   "cell_type": "markdown",
   "metadata": {},
   "source": [
    "Exercise: check all the operations of **list** mentioned in previous sections and see if they can be applied to **tuple**"
   ]
  },
  {
   "cell_type": "markdown",
   "metadata": {},
   "source": [
    "# 4. String"
   ]
  },
  {
   "cell_type": "markdown",
   "metadata": {},
   "source": [
    "In Python, Strings are arrays of bytes representing Unicode characters. However, Python does not have a character data type, a single character is simply a string with a length of 1.\n",
    "\n",
    "Strings in Python can be created using **single quotes** or **double quotes** or even **triple quotes**."
   ]
  },
  {
   "cell_type": "code",
   "execution_count": 57,
   "metadata": {},
   "outputs": [
    {
     "name": "stdout",
     "output_type": "stream",
     "text": [
      "abc\n",
      "abc\n",
      "abc loves 'data science'\n",
      "abc loves \"data science\"\n",
      "                       \n",
      "        abc\n",
      "        loves\n",
      "        data\n",
      "        science\n",
      "        \n"
     ]
    }
   ],
   "source": [
    "print('abc')                     #you can either use ' or \"  to quote the strings\n",
    "print(\"abc\")\n",
    "print(\"abc loves 'data science'\")\n",
    "print('abc loves \"data science\"')\n",
    "\n",
    "# if you need strings with \\n, use '''\n",
    "print('''                       \n",
    "        abc\n",
    "        loves\n",
    "        data\n",
    "        science\n",
    "        ''')"
   ]
  },
  {
   "cell_type": "markdown",
   "metadata": {},
   "source": [
    " Square brackets can be used to access elements of the string. To access a range of characters in the String, method of slicing is used."
   ]
  },
  {
   "cell_type": "code",
   "execution_count": 58,
   "metadata": {},
   "outputs": [
    {
     "data": {
      "text/plain": [
       "'s'"
      ]
     },
     "execution_count": 58,
     "metadata": {},
     "output_type": "execute_result"
    }
   ],
   "source": [
    "str1= 'test'\n",
    "str1[2]           # access single character of the string"
   ]
  },
  {
   "cell_type": "code",
   "execution_count": 59,
   "metadata": {},
   "outputs": [
    {
     "data": {
      "text/plain": [
       "'es'"
      ]
     },
     "execution_count": 59,
     "metadata": {},
     "output_type": "execute_result"
    }
   ],
   "source": [
    "str1[1:3]       # access a range of characters use slicing"
   ]
  },
  {
   "cell_type": "markdown",
   "metadata": {},
   "source": [
    "In Python, updation or deletion of characters from a String is not allowed. The following example will cause an error because item assignment or item deletion from a String is not supported."
   ]
  },
  {
   "cell_type": "code",
   "execution_count": 60,
   "metadata": {},
   "outputs": [],
   "source": [
    "str1='test'\n",
    "# str[1]='a'"
   ]
  },
  {
   "cell_type": "markdown",
   "metadata": {},
   "source": [
    "In Python, there are a few ways to concatenate – or combine - strings.\n",
    "In order to merge two strings into a single string, you may use the ``+`` operator."
   ]
  },
  {
   "cell_type": "code",
   "execution_count": 61,
   "metadata": {},
   "outputs": [
    {
     "data": {
      "text/plain": [
       "'IloveDS'"
      ]
     },
     "execution_count": 61,
     "metadata": {},
     "output_type": "execute_result"
    }
   ],
   "source": [
    "'I'+'love'+'DS'"
   ]
  },
  {
   "cell_type": "markdown",
   "metadata": {},
   "source": [
    "The ``join`` method is used to concatenate a list of strings."
   ]
  },
  {
   "cell_type": "code",
   "execution_count": 62,
   "metadata": {},
   "outputs": [
    {
     "name": "stdout",
     "output_type": "stream",
     "text": [
      "I**love**DS\n",
      "olleh\n"
     ]
    }
   ],
   "source": [
    "print('**'.join(['I','love','DS']))  # reverse string using join method\n",
    "\n",
    "print(''.join(reversed(\"hello\")))"
   ]
  },
  {
   "cell_type": "markdown",
   "metadata": {},
   "source": [
    "``strip`` method will delete all the spaces, tabs, etc before or after letters, but not the ones in the middle"
   ]
  },
  {
   "cell_type": "code",
   "execution_count": 63,
   "metadata": {},
   "outputs": [
    {
     "data": {
      "text/plain": [
       "'I  love  \\tz   \\t DS'"
      ]
     },
     "execution_count": 63,
     "metadata": {},
     "output_type": "execute_result"
    }
   ],
   "source": [
    "\"      I  love  \\tz   \\t DS \\n\".strip() "
   ]
  },
  {
   "cell_type": "code",
   "execution_count": 64,
   "metadata": {},
   "outputs": [
    {
     "data": {
      "text/plain": [
       "'1234'"
      ]
     },
     "execution_count": 64,
     "metadata": {},
     "output_type": "execute_result"
    }
   ],
   "source": [
    "str(1234) # return the string format of the object"
   ]
  },
  {
   "cell_type": "code",
   "execution_count": 65,
   "metadata": {},
   "outputs": [
    {
     "data": {
      "text/plain": [
       "'DATA SCIENCE'"
      ]
     },
     "execution_count": 65,
     "metadata": {},
     "output_type": "execute_result"
    }
   ],
   "source": [
    "'data science'.upper()"
   ]
  },
  {
   "cell_type": "code",
   "execution_count": 66,
   "metadata": {},
   "outputs": [
    {
     "data": {
      "text/plain": [
       "'data science'"
      ]
     },
     "execution_count": 66,
     "metadata": {},
     "output_type": "execute_result"
    }
   ],
   "source": [
    "'DATA SCIENCE'.lower()"
   ]
  },
  {
   "cell_type": "markdown",
   "metadata": {},
   "source": [
    "Special charactor and paths."
   ]
  },
  {
   "cell_type": "code",
   "execution_count": 67,
   "metadata": {},
   "outputs": [
    {
     "data": {
      "text/plain": [
       "'C:\\\\windows\\\\desktop'"
      ]
     },
     "execution_count": 67,
     "metadata": {},
     "output_type": "execute_result"
    }
   ],
   "source": [
    "my_file_path = 'C:\\windows\\desktop' # as \\ is escaping character, special character \\ will be escaped to \\\\\n",
    "my_file_path"
   ]
  },
  {
   "cell_type": "code",
   "execution_count": 68,
   "metadata": {
    "scrolled": true
   },
   "outputs": [
    {
     "data": {
      "text/plain": [
       "'http://www.uic.edu.hk'"
      ]
     },
     "execution_count": 68,
     "metadata": {},
     "output_type": "execute_result"
    }
   ],
   "source": [
    "my_url='http://www.uic.edu.hk'\n",
    "my_url"
   ]
  },
  {
   "cell_type": "markdown",
   "metadata": {},
   "source": [
    "Strings in Python can be formatted with the use of ``format()`` method which is very versatile and powerful tool for formatting of Strings. \n",
    "- Format method in String contains curly braces ``{}`` as placeholders which can hold arguments according to **position** or **keyword** to specify the order."
   ]
  },
  {
   "cell_type": "code",
   "execution_count": 69,
   "metadata": {},
   "outputs": [
    {
     "name": "stdout",
     "output_type": "stream",
     "text": [
      " String in default order:  I love DS\n"
     ]
    }
   ],
   "source": [
    "s1 = \"{} {} {}\".format('I', 'love', 'DS') \n",
    "print(\" String in default order: \", s1) "
   ]
  },
  {
   "cell_type": "code",
   "execution_count": 70,
   "metadata": {},
   "outputs": [
    {
     "name": "stdout",
     "output_type": "stream",
     "text": [
      "String in positional order:  I love DS\n"
     ]
    }
   ],
   "source": [
    "s2 = \"{0} {2} {1}\".format('I','DS','love')  \n",
    "print(\"String in positional order: \", s2)"
   ]
  },
  {
   "cell_type": "code",
   "execution_count": 71,
   "metadata": {},
   "outputs": [
    {
     "name": "stdout",
     "output_type": "stream",
     "text": [
      "String in order of Keywords:  I love DS\n"
     ]
    }
   ],
   "source": [
    "s3 = \"{ffff} {s} {t}\".format(ffff = 'I', s = 'love', t = 'DS') \n",
    "print(\"String in order of Keywords: \", s3) "
   ]
  },
  {
   "cell_type": "markdown",
   "metadata": {},
   "source": [
    "# 5. Sequence "
   ]
  },
  {
   "cell_type": "markdown",
   "metadata": {},
   "source": [
    "In python, sequence is not a specific data type, but a category of container data types, which contains a set of elements with specific order. Typical sequence includes **string**, **list**, and **tuple**. Particularly, **set** is not sequence, because the elements in **set** do not have order."
   ]
  },
  {
   "cell_type": "code",
   "execution_count": 72,
   "metadata": {},
   "outputs": [],
   "source": [
    "mySeq1=\"I love data science\"\n",
    "mySeq2=[5,2,0]\n",
    "mySeq3=(1,3,1,4)"
   ]
  },
  {
   "cell_type": "code",
   "execution_count": 73,
   "metadata": {},
   "outputs": [],
   "source": [
    "not_my_seq = {'a','c','b'}"
   ]
  },
  {
   "cell_type": "markdown",
   "metadata": {},
   "source": [
    "There are some common operations on data types that are sequences"
   ]
  },
  {
   "cell_type": "markdown",
   "metadata": {},
   "source": [
    "## 5.1 Slicing\n",
    "\n",
    "Syntax of slicing on sequence: ``my_seq[start:stop:step]``"
   ]
  },
  {
   "cell_type": "code",
   "execution_count": 74,
   "metadata": {},
   "outputs": [
    {
     "data": {
      "text/plain": [
       "('I l', [5, 2, 0], (1, 3, 1))"
      ]
     },
     "execution_count": 74,
     "metadata": {},
     "output_type": "execute_result"
    }
   ],
   "source": [
    "mySeq1[0:3],mySeq2[0:3],mySeq3[0:3]"
   ]
  },
  {
   "cell_type": "markdown",
   "metadata": {},
   "source": [
    "## 5.2 Indexing"
   ]
  },
  {
   "cell_type": "code",
   "execution_count": 75,
   "metadata": {},
   "outputs": [
    {
     "data": {
      "text/plain": [
       "'I'"
      ]
     },
     "execution_count": 75,
     "metadata": {},
     "output_type": "execute_result"
    }
   ],
   "source": [
    "my_str=\"I love data science\"\n",
    "my_str[0]"
   ]
  },
  {
   "cell_type": "code",
   "execution_count": 76,
   "metadata": {},
   "outputs": [
    {
     "data": {
      "text/plain": [
       "5"
      ]
     },
     "execution_count": 76,
     "metadata": {},
     "output_type": "execute_result"
    }
   ],
   "source": [
    "my_list = [1,2,3,4,5]\n",
    "my_list[-1]"
   ]
  },
  {
   "cell_type": "code",
   "execution_count": 77,
   "metadata": {},
   "outputs": [
    {
     "data": {
      "text/plain": [
       "'d'"
      ]
     },
     "execution_count": 77,
     "metadata": {},
     "output_type": "execute_result"
    }
   ],
   "source": [
    "my_tuple = ('a','b','c','d')\n",
    "my_tuple[3]"
   ]
  },
  {
   "cell_type": "markdown",
   "metadata": {},
   "source": [
    "## 5.3 Iteration\n",
    "\n",
    "Sequence is **iterable**, can be used after **in** keyword in **for** statements"
   ]
  },
  {
   "cell_type": "code",
   "execution_count": 78,
   "metadata": {},
   "outputs": [
    {
     "name": "stdout",
     "output_type": "stream",
     "text": [
      "I\n",
      " \n",
      "l\n",
      "o\n",
      "v\n",
      "e\n",
      " \n",
      "d\n",
      "a\n",
      "t\n",
      "a\n",
      " \n",
      "s\n",
      "c\n",
      "i\n",
      "e\n",
      "n\n",
      "c\n",
      "e\n"
     ]
    }
   ],
   "source": [
    "my_str = 'I love data science'\n",
    "for i in my_str:\n",
    "    print(i)"
   ]
  },
  {
   "cell_type": "code",
   "execution_count": 79,
   "metadata": {},
   "outputs": [
    {
     "name": "stdout",
     "output_type": "stream",
     "text": [
      "100\n",
      "99\n",
      "92\n",
      "80\n",
      "80\n"
     ]
    }
   ],
   "source": [
    "my_index = [0,2,4,6,8]\n",
    "my_list = [100,98,99,85,92,90,80,60,80,88]\n",
    "for i in my_index:\n",
    "    print(my_list[i])"
   ]
  },
  {
   "cell_type": "markdown",
   "metadata": {},
   "source": [
    "## 5.4 Unpacking assignment"
   ]
  },
  {
   "cell_type": "markdown",
   "metadata": {},
   "source": [
    "Sequence unpacking in python allows you to take objects in a collection and store them in variables for later use.\n",
    "- In unpacking of a sequence, we extract items stored in the sequence into separate variables. \n",
    "- The number of variables on left hand side should be equal to number of values in given sequence."
   ]
  },
  {
   "cell_type": "code",
   "execution_count": 80,
   "metadata": {},
   "outputs": [
    {
     "name": "stdout",
     "output_type": "stream",
     "text": [
      "amy bob candy david\n"
     ]
    }
   ],
   "source": [
    "student_list = ['amy','bob','candy','david']\n",
    "s1,s2,s3,s4 = student_list\n",
    "print(s1,s2,s3,s4)"
   ]
  },
  {
   "cell_type": "markdown",
   "metadata": {},
   "source": [
    "## 5.5 The repeating operator *\n",
    "\n",
    "Repetition operator is denoted by a ``*`` symbol and is useful for repeating sequences to a certain length.\n"
   ]
  },
  {
   "cell_type": "code",
   "execution_count": 81,
   "metadata": {},
   "outputs": [
    {
     "data": {
      "text/plain": [
       "(1, 2, 3, 1, 2, 3, 1, 2, 3)"
      ]
     },
     "execution_count": 81,
     "metadata": {},
     "output_type": "execute_result"
    }
   ],
   "source": [
    "my_tuple = (1,2,3)\n",
    "my_tuple*3"
   ]
  },
  {
   "cell_type": "code",
   "execution_count": 82,
   "metadata": {},
   "outputs": [
    {
     "data": {
      "text/plain": [
       "'i love data science i love data science i love data science '"
      ]
     },
     "execution_count": 82,
     "metadata": {},
     "output_type": "execute_result"
    }
   ],
   "source": [
    "my_str = 'i love data science '\n",
    "my_str*3"
   ]
  },
  {
   "cell_type": "markdown",
   "metadata": {},
   "source": [
    "## 5.6 Common functions\n",
    "\n",
    "Functions that can be applied to all sequence type(tuple, list, string, etc) variables.\n",
    "- len\n",
    "- sorted\n",
    "- reversed\n",
    "- enumerate\n",
    "- zip"
   ]
  },
  {
   "cell_type": "code",
   "execution_count": 83,
   "metadata": {},
   "outputs": [
    {
     "data": {
      "text/plain": [
       "(19, 6, 6)"
      ]
     },
     "execution_count": 83,
     "metadata": {},
     "output_type": "execute_result"
    }
   ],
   "source": [
    "my_str = 'i love data science'\n",
    "my_list= [1,9,6,5,4,8]\n",
    "my_tuple = [1,2,3,6,5,4]\n",
    "len(my_str),len(my_list),len(my_tuple)    # return the length of a sequence"
   ]
  },
  {
   "cell_type": "code",
   "execution_count": 84,
   "metadata": {},
   "outputs": [
    {
     "data": {
      "text/plain": [
       "([' ',\n",
       "  ' ',\n",
       "  ' ',\n",
       "  'a',\n",
       "  'a',\n",
       "  'c',\n",
       "  'c',\n",
       "  'd',\n",
       "  'e',\n",
       "  'e',\n",
       "  'e',\n",
       "  'i',\n",
       "  'i',\n",
       "  'l',\n",
       "  'n',\n",
       "  'o',\n",
       "  's',\n",
       "  't',\n",
       "  'v'],\n",
       " [1, 4, 5, 6, 8, 9],\n",
       " [6, 5, 4, 3, 2, 1])"
      ]
     },
     "execution_count": 84,
     "metadata": {},
     "output_type": "execute_result"
    }
   ],
   "source": [
    "sorted(my_str),sorted(my_list),sorted(my_tuple,reverse=True)  #return a sorted sequence of original sequence"
   ]
  },
  {
   "cell_type": "code",
   "execution_count": 85,
   "metadata": {},
   "outputs": [
    {
     "data": {
      "text/plain": [
       "(<reversed at 0x2335d6a79b0>,\n",
       " <list_reverseiterator at 0x2335d6a7b00>,\n",
       " <list_reverseiterator at 0x2335d6a7b70>)"
      ]
     },
     "execution_count": 85,
     "metadata": {},
     "output_type": "execute_result"
    }
   ],
   "source": [
    "reversed(my_str), reversed(my_list),reversed(my_tuple)  #the function returns an iterator which will be discussed later"
   ]
  },
  {
   "cell_type": "code",
   "execution_count": 86,
   "metadata": {},
   "outputs": [
    {
     "data": {
      "text/plain": [
       "(['e',\n",
       "  'c',\n",
       "  'n',\n",
       "  'e',\n",
       "  'i',\n",
       "  'c',\n",
       "  's',\n",
       "  ' ',\n",
       "  'a',\n",
       "  't',\n",
       "  'a',\n",
       "  'd',\n",
       "  ' ',\n",
       "  'e',\n",
       "  'v',\n",
       "  'o',\n",
       "  'l',\n",
       "  ' ',\n",
       "  'i'],\n",
       " [8, 4, 5, 6, 9, 1],\n",
       " [4, 5, 6, 3, 2, 1])"
      ]
     },
     "execution_count": 86,
     "metadata": {},
     "output_type": "execute_result"
    }
   ],
   "source": [
    "list(reversed(my_str)), list(reversed(my_list)),list(reversed(my_tuple))"
   ]
  },
  {
   "cell_type": "markdown",
   "metadata": {},
   "source": [
    "Use **enumerate** to trace and show the index of each element in a sequence"
   ]
  },
  {
   "cell_type": "code",
   "execution_count": 87,
   "metadata": {},
   "outputs": [
    {
     "data": {
      "text/plain": [
       "[(0, 'i'),\n",
       " (1, ' '),\n",
       " (2, 'l'),\n",
       " (3, 'o'),\n",
       " (4, 'v'),\n",
       " (5, 'e'),\n",
       " (6, ' '),\n",
       " (7, 'd'),\n",
       " (8, 'a'),\n",
       " (9, 't'),\n",
       " (10, 'a'),\n",
       " (11, ' '),\n",
       " (12, 's'),\n",
       " (13, 'c'),\n",
       " (14, 'i'),\n",
       " (15, 'e'),\n",
       " (16, 'n'),\n",
       " (17, 'c'),\n",
       " (18, 'e')]"
      ]
     },
     "execution_count": 87,
     "metadata": {},
     "output_type": "execute_result"
    }
   ],
   "source": [
    "list(enumerate(my_str))\n",
    "#The enumerate object yields pairs containing a count (from start, which defaults to zero) and\n",
    "# a value yielded by the iterable argument.\n",
    "# enumerate?"
   ]
  },
  {
   "cell_type": "markdown",
   "metadata": {},
   "source": [
    "``zip(sequence1,sequence2,..)`` returns a zip object whose ``.__next__()`` method returns a tuple where\n",
    "the $i^{th}$ element comes from the $i^{th}$ iterable argument. "
   ]
  },
  {
   "cell_type": "code",
   "execution_count": 88,
   "metadata": {},
   "outputs": [
    {
     "name": "stdout",
     "output_type": "stream",
     "text": [
      "[1, 9, 6, 5, 4, 8] [1, 2, 3, 6, 5, 4]\n"
     ]
    },
    {
     "data": {
      "text/plain": [
       "[(1, 1), (9, 2), (6, 3), (5, 6), (4, 5), (8, 4)]"
      ]
     },
     "execution_count": 88,
     "metadata": {},
     "output_type": "execute_result"
    }
   ],
   "source": [
    "print(my_list,my_tuple)\n",
    "list(zip(my_list, my_tuple))         # combine sequences element by element"
   ]
  },
  {
   "cell_type": "markdown",
   "metadata": {},
   "source": [
    "## 6. Set"
   ]
  },
  {
   "cell_type": "markdown",
   "metadata": {},
   "source": [
    "**Set** in Python is a data structure equivalent to sets in mathematics. It may consist of **unordered** collections of **unique** elements; the order of elements in a set is undefined. \n",
    "- You can add and delete elements of a set, you can iterate the elements of the set, you can perform standard operations on sets (union, intersection, difference)."
   ]
  },
  {
   "cell_type": "code",
   "execution_count": 89,
   "metadata": {},
   "outputs": [
    {
     "data": {
      "text/plain": [
       "{1, 2, 3, 4, 5, 6}"
      ]
     },
     "execution_count": 89,
     "metadata": {},
     "output_type": "execute_result"
    }
   ],
   "source": [
    "my_set = {1,2,3,4,1,2,5,6} # create set using {}\n",
    "my_set"
   ]
  },
  {
   "cell_type": "code",
   "execution_count": 90,
   "metadata": {},
   "outputs": [
    {
     "data": {
      "text/plain": [
       "{1, 2, 3, 4, 5, 6}"
      ]
     },
     "execution_count": 90,
     "metadata": {},
     "output_type": "execute_result"
    }
   ],
   "source": [
    "my_set_2 = my_set # create set by assignment\n",
    "my_set_2"
   ]
  },
  {
   "cell_type": "code",
   "execution_count": 91,
   "metadata": {},
   "outputs": [
    {
     "data": {
      "text/plain": [
       "{1, 2, 3}"
      ]
     },
     "execution_count": 91,
     "metadata": {},
     "output_type": "execute_result"
    }
   ],
   "source": [
    "my_list = [1,1,2,2,3,3]\n",
    "my_set_3 = set(my_list)  # create set using explicit conversion\n",
    "my_set_3"
   ]
  },
  {
   "cell_type": "markdown",
   "metadata": {},
   "source": [
    "Once a set is created, you cannot chagne its items, but you can add new items using ``add()`` method.\n",
    "To add items from another set into the current set, use the ``update`` method."
   ]
  },
  {
   "cell_type": "code",
   "execution_count": 92,
   "metadata": {},
   "outputs": [
    {
     "name": "stdout",
     "output_type": "stream",
     "text": [
      "{1, 2, 3, 4}\n"
     ]
    },
    {
     "data": {
      "text/plain": [
       "{1, 2, 3, 4, 'a', 'b', 'c'}"
      ]
     },
     "execution_count": 92,
     "metadata": {},
     "output_type": "execute_result"
    }
   ],
   "source": [
    "my_set = {1,2,3}\n",
    "my_set.add(4)\n",
    "print(my_set)\n",
    "my_set.update({'a','b','c'})\n",
    "my_set"
   ]
  },
  {
   "cell_type": "markdown",
   "metadata": {},
   "source": [
    "To remove an item in a set, use the ``remove()``, or the ``discard()`` method.\n",
    "- If the item to remove does not exist, ``remove()`` will raise an error.\n",
    "- If the item to remove does not exist, ``discard()`` will NOT raise an error."
   ]
  },
  {
   "cell_type": "code",
   "execution_count": 93,
   "metadata": {},
   "outputs": [
    {
     "name": "stdout",
     "output_type": "stream",
     "text": [
      "{2, 3, 4, 'b', 'a', 'c'}\n",
      "{2, 3, 4, 'b', 'a', 'c'}\n"
     ]
    }
   ],
   "source": [
    "my_set.remove(1)\n",
    "print(my_set)\n",
    "my_set.discard(1)\n",
    "print(my_set)\n",
    "# my_set.remove(1)"
   ]
  },
  {
   "cell_type": "markdown",
   "metadata": {},
   "source": [
    "Use **in** to check if an element belongs to a set"
   ]
  },
  {
   "cell_type": "code",
   "execution_count": 94,
   "metadata": {},
   "outputs": [
    {
     "data": {
      "text/plain": [
       "True"
      ]
     },
     "execution_count": 94,
     "metadata": {},
     "output_type": "execute_result"
    }
   ],
   "source": [
    "1 in my_set_3"
   ]
  },
  {
   "cell_type": "code",
   "execution_count": 95,
   "metadata": {},
   "outputs": [
    {
     "data": {
      "text/plain": [
       "False"
      ]
     },
     "execution_count": 95,
     "metadata": {},
     "output_type": "execute_result"
    }
   ],
   "source": [
    "'1' in my_set_2"
   ]
  },
  {
   "cell_type": "markdown",
   "metadata": {},
   "source": [
    "Set does not support indexing, because it is unordered"
   ]
  },
  {
   "cell_type": "code",
   "execution_count": 96,
   "metadata": {},
   "outputs": [],
   "source": [
    "# my_set[0]"
   ]
  },
  {
   "cell_type": "code",
   "execution_count": 97,
   "metadata": {},
   "outputs": [],
   "source": [
    "my_set_a = {1,2,3,4,5}\n",
    "my_set_b = {3,4,5,6,7}"
   ]
  },
  {
   "cell_type": "code",
   "execution_count": 98,
   "metadata": {},
   "outputs": [
    {
     "data": {
      "text/plain": [
       "(True, False)"
      ]
     },
     "execution_count": 98,
     "metadata": {},
     "output_type": "execute_result"
    }
   ],
   "source": [
    "3 in my_set_a, 3 not in my_set_b"
   ]
  },
  {
   "cell_type": "code",
   "execution_count": 99,
   "metadata": {},
   "outputs": [
    {
     "data": {
      "text/plain": [
       "(False, True)"
      ]
     },
     "execution_count": 99,
     "metadata": {},
     "output_type": "execute_result"
    }
   ],
   "source": [
    "my_set_a == my_set_b, my_set_a != my_set_b"
   ]
  },
  {
   "cell_type": "code",
   "execution_count": 100,
   "metadata": {},
   "outputs": [
    {
     "data": {
      "text/plain": [
       "True"
      ]
     },
     "execution_count": 100,
     "metadata": {},
     "output_type": "execute_result"
    }
   ],
   "source": [
    "{1,2,3} < my_set_a # is subset ?\n",
    "# my_set_a.issubset?\n",
    "{1,2,3}.issubset(my_set_a)"
   ]
  },
  {
   "cell_type": "code",
   "execution_count": 101,
   "metadata": {},
   "outputs": [
    {
     "name": "stdout",
     "output_type": "stream",
     "text": [
      "True\n",
      "{1, 2, 3, 4, 5, 6, 7}\n",
      "{3, 4, 5}\n",
      "{1, 2}\n",
      "{1, 2, 6, 7}\n"
     ]
    }
   ],
   "source": [
    "# my_set_b.issuperset, my_set_b.union, my_set_b.difference\n",
    "# my_set_a.symmetric_difference?\n",
    "print(my_set_b > {5,6,7} ) # is superset ?\n",
    "print(my_set_a | my_set_b )  #union\n",
    "print(my_set_a & my_set_b ) #intersection\n",
    "print(my_set_a - my_set_b ) #difference\n",
    "print(my_set_a ^ my_set_b )# symmetric_difference,returns new set with elements in either s or t but not both"
   ]
  },
  {
   "cell_type": "markdown",
   "metadata": {},
   "source": [
    "**set** is mutable, **frozenset** is immutable. **frozenset** is used when you don't want the elements in a set to be changed accidentally"
   ]
  },
  {
   "cell_type": "code",
   "execution_count": 102,
   "metadata": {},
   "outputs": [
    {
     "data": {
      "text/plain": [
       "{3, 4, 5}"
      ]
     },
     "execution_count": 102,
     "metadata": {},
     "output_type": "execute_result"
    }
   ],
   "source": [
    "my_set = {1,2,3}\n",
    "my_set.add(4)\n",
    "my_set.remove(1)\n",
    "my_set.update({3,5})\n",
    "my_set.pop() # pop of set will delte an element at random\n",
    "my_set"
   ]
  },
  {
   "cell_type": "code",
   "execution_count": 103,
   "metadata": {},
   "outputs": [
    {
     "data": {
      "text/plain": [
       "frozenset({1, 2, 3})"
      ]
     },
     "execution_count": 103,
     "metadata": {},
     "output_type": "execute_result"
    }
   ],
   "source": [
    "my_frozenset = frozenset({1,2,3})\n",
    "my_frozenset"
   ]
  },
  {
   "cell_type": "code",
   "execution_count": 104,
   "metadata": {},
   "outputs": [],
   "source": [
    "# my_frozenset.add(4)"
   ]
  },
  {
   "cell_type": "markdown",
   "metadata": {},
   "source": [
    "## 7. Dictionary"
   ]
  },
  {
   "cell_type": "markdown",
   "metadata": {},
   "source": [
    "A dictionary is a collection which is unordered, changeable and indexed. In Python dictionaries are written with curly brackets, and they have keys and values.\n",
    "\n",
    "- It is best to think of a dictionary as a set of ``key: value`` pairs, with the requirement that the keys are unique (within one dictionary).\n",
    "\n",
    "Unlike sequences, which are indexed by a range of numbers, dictionaries are indexed by keys, which can be any **immutable type** (e.g., numeric data type, string, tuple, frozenset).\n",
    "\n",
    "The main operations on a dictionary are storing a value with some key and extracting the value given the key."
   ]
  },
  {
   "cell_type": "code",
   "execution_count": 105,
   "metadata": {},
   "outputs": [
    {
     "data": {
      "text/plain": [
       "{'id': 123, 'name': 'abc', 'age': 18, 8: True}"
      ]
     },
     "execution_count": 105,
     "metadata": {},
     "output_type": "execute_result"
    }
   ],
   "source": [
    "my_dict = {'id':123, 'name':'abc', 'age':18, 8:True}\n",
    "my_dict\n",
    "# dic = {{1,2,3}:'a'} # error\n",
    "# dic = {(1,2,3):'a'}\n",
    "# dic"
   ]
  },
  {
   "cell_type": "markdown",
   "metadata": {},
   "source": [
    "Question: What are the keys and what are the values to each key in the above definition?"
   ]
  },
  {
   "cell_type": "code",
   "execution_count": 106,
   "metadata": {},
   "outputs": [
    {
     "data": {
      "text/plain": [
       "123"
      ]
     },
     "execution_count": 106,
     "metadata": {},
     "output_type": "execute_result"
    }
   ],
   "source": [
    "my_dict['id']"
   ]
  },
  {
   "cell_type": "markdown",
   "metadata": {},
   "source": [
    "Note: you can always use keys to access a particular value"
   ]
  },
  {
   "cell_type": "code",
   "execution_count": 107,
   "metadata": {},
   "outputs": [
    {
     "data": {
      "text/plain": [
       "True"
      ]
     },
     "execution_count": 107,
     "metadata": {},
     "output_type": "execute_result"
    }
   ],
   "source": [
    "my_dict[8]"
   ]
  },
  {
   "cell_type": "code",
   "execution_count": 108,
   "metadata": {},
   "outputs": [
    {
     "data": {
      "text/plain": [
       "{'id': 123, 'name': 'abcd', 'age': 18, 8: True}"
      ]
     },
     "execution_count": 108,
     "metadata": {},
     "output_type": "execute_result"
    }
   ],
   "source": [
    "my_dict['name']= 'abcd'  # update dictionary\n",
    "my_dict"
   ]
  },
  {
   "cell_type": "code",
   "execution_count": 109,
   "metadata": {},
   "outputs": [
    {
     "data": {
      "text/plain": [
       "{'id': 123, 'name': 'abcd', 'age': 18, 8: True, 'gender': 'male'}"
      ]
     },
     "execution_count": 109,
     "metadata": {},
     "output_type": "execute_result"
    }
   ],
   "source": [
    "my_dict['gender'] = 'male' # add new item to dictionary\n",
    "my_dict"
   ]
  },
  {
   "cell_type": "markdown",
   "metadata": {},
   "source": [
    "To update the dictionary with the items from the given arguments (must be a list of key:value pairs or another dictionary), you can use ``update()`` method.\n"
   ]
  },
  {
   "cell_type": "code",
   "execution_count": 110,
   "metadata": {},
   "outputs": [
    {
     "data": {
      "text/plain": [
       "{'id': 123,\n",
       " 'name': 'abcd',\n",
       " 'age': 18,\n",
       " 8: True,\n",
       " 'gender': 'male',\n",
       " '1': 'a',\n",
       " '2': 'b'}"
      ]
     },
     "execution_count": 110,
     "metadata": {},
     "output_type": "execute_result"
    }
   ],
   "source": [
    "newDict ={\"1\":\"a\",\"2\":\"b\"}\n",
    "my_dict.update(newDict)\n",
    "my_dict"
   ]
  },
  {
   "cell_type": "markdown",
   "metadata": {},
   "source": [
    "To remove items from a dictionary, you can use the ``pop()`` method, which removes the item with the specified key name."
   ]
  },
  {
   "cell_type": "code",
   "execution_count": 111,
   "metadata": {},
   "outputs": [
    {
     "data": {
      "text/plain": [
       "{'id': 123, 'name': 'abcd', 'age': 18, 8: True, 'gender': 'male', '2': 'b'}"
      ]
     },
     "execution_count": 111,
     "metadata": {},
     "output_type": "execute_result"
    }
   ],
   "source": [
    "my_dict.pop(\"1\")\n",
    "my_dict"
   ]
  },
  {
   "cell_type": "markdown",
   "metadata": {},
   "source": [
    "Dictionaries can be iterated over, just like a list. However, a dictionary, unlike a list, does not keep the order of the values stored in it. To iterate over key value pairs, use the following syntax:"
   ]
  },
  {
   "cell_type": "code",
   "execution_count": 112,
   "metadata": {},
   "outputs": [
    {
     "name": "stdout",
     "output_type": "stream",
     "text": [
      "id 123\n",
      "name abcd\n",
      "age 18\n",
      "8 True\n",
      "gender male\n",
      "2 b\n"
     ]
    }
   ],
   "source": [
    "for k in my_dict:\n",
    "    print(k, my_dict[k])"
   ]
  },
  {
   "cell_type": "code",
   "execution_count": 113,
   "metadata": {},
   "outputs": [
    {
     "name": "stdout",
     "output_type": "stream",
     "text": [
      "Key:id; Value:123\n",
      "Key:name; Value:abcd\n",
      "Key:age; Value:18\n",
      "Key:8; Value:True\n",
      "Key:gender; Value:male\n",
      "Key:2; Value:b\n"
     ]
    }
   ],
   "source": [
    "for k,v in my_dict.items():\n",
    "    print(\"Key:%s; Value:%s\"%(k,v))"
   ]
  },
  {
   "cell_type": "code",
   "execution_count": 114,
   "metadata": {},
   "outputs": [
    {
     "name": "stdout",
     "output_type": "stream",
     "text": [
      "{'id': 123, 'name': 'abcd', 'age': 18, 8: True, '2': 'b'}\n",
      "{}\n"
     ]
    }
   ],
   "source": [
    "del my_dict['gender']; # It deletes only the key with the name 'gender'\n",
    "print(my_dict)\n",
    "\n",
    "my_dict.clear();# The above code removes all entries in dictionary & makes the dictionary empty\n",
    "print(my_dict)"
   ]
  }
 ],
 "metadata": {
  "kernelspec": {
   "display_name": "Python 3",
   "language": "python",
   "name": "python3"
  },
  "language_info": {
   "codemirror_mode": {
    "name": "ipython",
    "version": 3
   },
   "file_extension": ".py",
   "mimetype": "text/x-python",
   "name": "python",
   "nbconvert_exporter": "python",
   "pygments_lexer": "ipython3",
   "version": "3.7.1"
  },
  "toc": {
   "base_numbering": 1,
   "nav_menu": {},
   "number_sections": true,
   "sideBar": true,
   "skip_h1_title": false,
   "title_cell": "Table of Contents",
   "title_sidebar": "Contents",
   "toc_cell": false,
   "toc_position": {},
   "toc_section_display": true,
   "toc_window_display": false
  }
 },
 "nbformat": 4,
 "nbformat_minor": 2
}
