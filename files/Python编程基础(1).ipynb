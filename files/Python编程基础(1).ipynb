{
 "cells": [
  {
   "cell_type": "markdown",
   "metadata": {},
   "source": [
    "# Python Basics (Part I)\n",
    "# Data Science, DST, UIC"
   ]
  },
  {
   "cell_type": "markdown",
   "metadata": {},
   "source": [
    "In this lecture, we will cover the following topics:\n",
    "1. Python Syntax\n",
    "2. Basic Data Types\n",
    "3. Variables\n",
    "3. Programming Styles\n",
    "4. Operations '=-*/...\""
   ]
  },
  {
   "cell_type": "markdown",
   "metadata": {},
   "source": [
    "## 1. Python Syntax\n",
    "\n",
    "### 1.1 Python Indentation\n",
    "\n",
    "Indentation refers to the **spaces at the beginning of a code line**.\n",
    "\n",
    "Where in other programming languages the indentation in code is for readability only, the indentation in Python is **very important**.\n",
    "- Python uses indentation to indicate **a block of code**."
   ]
  },
  {
   "cell_type": "code",
   "execution_count": 1,
   "metadata": {},
   "outputs": [
    {
     "name": "stdout",
     "output_type": "stream",
     "text": [
      "Pass!\n"
     ]
    }
   ],
   "source": [
    "score = 61\n",
    "if score >= 60:\n",
    "    print(\"Pass!\")\n",
    "else:\n",
    "    print(\"Fail!\")"
   ]
  },
  {
   "cell_type": "markdown",
   "metadata": {},
   "source": [
    "Python will give you an error if you skip the indentation:"
   ]
  },
  {
   "cell_type": "code",
   "execution_count": 2,
   "metadata": {},
   "outputs": [
    {
     "ename": "IndentationError",
     "evalue": "expected an indented block (<ipython-input-2-459f1f4cad38>, line 3)",
     "output_type": "error",
     "traceback": [
      "\u001b[1;36m  File \u001b[1;32m\"<ipython-input-2-459f1f4cad38>\"\u001b[1;36m, line \u001b[1;32m3\u001b[0m\n\u001b[1;33m    print(\"Pass!\")  # no identation\u001b[0m\n\u001b[1;37m        ^\u001b[0m\n\u001b[1;31mIndentationError\u001b[0m\u001b[1;31m:\u001b[0m expected an indented block\n"
     ]
    }
   ],
   "source": [
    "score = 61\n",
    "if score >= 60:\n",
    "print(\"Pass!\")  # no identation\n",
    "else:\n",
    "    print(\"Fail!\")"
   ]
  },
  {
   "cell_type": "markdown",
   "metadata": {},
   "source": [
    "Python uses 4 spaces as indentation by default. However, the number of spaces is up to you, but a minimum of 1 space has to be used.\n",
    "- You have to use the same number of spaces in the same block of code"
   ]
  },
  {
   "cell_type": "code",
   "execution_count": 3,
   "metadata": {},
   "outputs": [
    {
     "name": "stdout",
     "output_type": "stream",
     "text": [
      "Pass!\n"
     ]
    }
   ],
   "source": [
    "score = 61\n",
    "if score >= 60:\n",
    " print(\"Pass!\") # use 1 space \n",
    "else:\n",
    "    print(\"Fail!\") # use 4 spaces"
   ]
  },
  {
   "cell_type": "code",
   "execution_count": 4,
   "metadata": {},
   "outputs": [
    {
     "ename": "IndentationError",
     "evalue": "unexpected indent (<ipython-input-4-66b47cc1ea84>, line 4)",
     "output_type": "error",
     "traceback": [
      "\u001b[1;36m  File \u001b[1;32m\"<ipython-input-4-66b47cc1ea84>\"\u001b[1;36m, line \u001b[1;32m4\u001b[0m\n\u001b[1;33m    print(\":)\") # use 4 spaces\u001b[0m\n\u001b[1;37m    ^\u001b[0m\n\u001b[1;31mIndentationError\u001b[0m\u001b[1;31m:\u001b[0m unexpected indent\n"
     ]
    }
   ],
   "source": [
    "score = 61\n",
    "if score >= 60:\n",
    " print(\"Pass!\") # use 1 space\n",
    "    print(\":)\") # use 4 spaces\n",
    "else:\n",
    "    print(\"Fail!\")"
   ]
  },
  {
   "cell_type": "markdown",
   "metadata": {},
   "source": [
    "### 1.2 Python Variables\n",
    "\n",
    "In python, variables are created when you assign a value to it. Python has no command for declaring a variable.\n",
    "- Different from **Java** or **C** , you don't need to specify the type of a variable when declaring the variable.\n",
    "- You can simply use assignment statement to declare a variable."
   ]
  },
  {
   "cell_type": "code",
   "execution_count": 5,
   "metadata": {},
   "outputs": [
    {
     "data": {
      "text/plain": [
       "(5, 'Hello World!')"
      ]
     },
     "execution_count": 5,
     "metadata": {},
     "output_type": "execute_result"
    }
   ],
   "source": [
    "x = 5\n",
    "y = \"Hello World!\"\n",
    "x,y"
   ]
  },
  {
   "cell_type": "markdown",
   "metadata": {},
   "source": [
    "### 1.3 Comments\n",
    "\n",
    "Python has commenting capability for the purpose of in-code documentation. Comments start with a ``#``, and Python will render the rest of the line as a comment:"
   ]
  },
  {
   "cell_type": "code",
   "execution_count": 6,
   "metadata": {},
   "outputs": [
    {
     "name": "stdout",
     "output_type": "stream",
     "text": [
      "Hello World!\n"
     ]
    }
   ],
   "source": [
    "# this is comment\n",
    "print(\"Hello World!\") # this is also a comment"
   ]
  },
  {
   "cell_type": "markdown",
   "metadata": {},
   "source": [
    "Python does not really have a syntax for multi-line comments. To add a multi-line comment you could insert a ``#`` for each line:"
   ]
  },
  {
   "cell_type": "code",
   "execution_count": 7,
   "metadata": {},
   "outputs": [
    {
     "name": "stdout",
     "output_type": "stream",
     "text": [
      "Hello World!\n"
     ]
    }
   ],
   "source": [
    "# This is a comment\n",
    "# written in\n",
    "# more than just one line\n",
    "print(\"Hello World!\")"
   ]
  },
  {
   "cell_type": "markdown",
   "metadata": {},
   "source": [
    "Or, not quite as intended, you can use a multi-line string. \n",
    "- Since Python will ignore string literals that are not assigned to a variable, you can add a multiline string (triple quotes) in your code, and place your comment inside it:"
   ]
  },
  {
   "cell_type": "code",
   "execution_count": 8,
   "metadata": {},
   "outputs": [
    {
     "name": "stdout",
     "output_type": "stream",
     "text": [
      "Hello World!\n"
     ]
    }
   ],
   "source": [
    "\"\"\"\n",
    "This is a comment\n",
    "written in\n",
    "more than just one line\n",
    "\"\"\"\n",
    "print(\"Hello World!\")"
   ]
  },
  {
   "cell_type": "markdown",
   "metadata": {},
   "source": [
    "\n",
    "## 2. Basic Data Types\n",
    "More frequently used data types in python are the following:\n",
    "- Numbers: int, float, complex number\n",
    "- bool\n",
    "- str\n",
    "- list\n",
    "- tuple\n",
    "- set\n",
    "- dict\n",
    "\n",
    "### 2.1 Define and check the type of data"
   ]
  },
  {
   "cell_type": "markdown",
   "metadata": {},
   "source": [
    "Variables can store data of different types, and different types can do different things.\n",
    "You can get the data type of any object by using the ``type()`` function"
   ]
  },
  {
   "cell_type": "code",
   "execution_count": 9,
   "metadata": {},
   "outputs": [
    {
     "data": {
      "text/plain": [
       "(int, int)"
      ]
     },
     "execution_count": 9,
     "metadata": {},
     "output_type": "execute_result"
    }
   ],
   "source": [
    "a = 1\n",
    "type(1),type(a)"
   ]
  },
  {
   "cell_type": "markdown",
   "metadata": {},
   "source": [
    "### 2.2 Numeric Types\n",
    "There are three numeric types in Python:\n",
    "- ``int`` \n",
    "- ``float``\n",
    "- ``complex``\n",
    "\n",
    "Variables of numeric types are created when you assign a value to them:"
   ]
  },
  {
   "cell_type": "code",
   "execution_count": 10,
   "metadata": {},
   "outputs": [],
   "source": [
    "a = 1\n",
    "b = 0.1\n",
    "c = 1j"
   ]
  },
  {
   "cell_type": "markdown",
   "metadata": {},
   "source": [
    "Int, or integer, is a whole number, positive or negative, without decimals, of unlimited length."
   ]
  },
  {
   "cell_type": "code",
   "execution_count": 11,
   "metadata": {},
   "outputs": [],
   "source": [
    "x = 1\n",
    "y = -3255522\n",
    "z = 11111"
   ]
  },
  {
   "cell_type": "markdown",
   "metadata": {},
   "source": [
    "Float, or \"floating point number\" is a number, positive or negative, containing one or more decimals.\n",
    "- Float can also be scientific numbers with an \"e\" to indicate the power of 10."
   ]
  },
  {
   "cell_type": "code",
   "execution_count": 12,
   "metadata": {},
   "outputs": [
    {
     "name": "stdout",
     "output_type": "stream",
     "text": [
      "0.6\n"
     ]
    },
    {
     "data": {
      "text/plain": [
       "(float, float)"
      ]
     },
     "execution_count": 12,
     "metadata": {},
     "output_type": "execute_result"
    }
   ],
   "source": [
    "b = .6  #what does .6 mean?\n",
    "print(b)\n",
    "c = float(-7)\n",
    "type(b),type(c)"
   ]
  },
  {
   "cell_type": "code",
   "execution_count": 13,
   "metadata": {},
   "outputs": [
    {
     "data": {
      "text/plain": [
       "(35000.0, -120000.0)"
      ]
     },
     "execution_count": 13,
     "metadata": {},
     "output_type": "execute_result"
    }
   ],
   "source": [
    "p = 35e3\n",
    "q = -12E4\n",
    "p,q"
   ]
  },
  {
   "cell_type": "markdown",
   "metadata": {},
   "source": [
    "Complex numbers are numbers that look like ``a+bj``, where `j` is the imaginary part"
   ]
  },
  {
   "cell_type": "code",
   "execution_count": 14,
   "metadata": {},
   "outputs": [
    {
     "data": {
      "text/plain": [
       "((3+5j), complex)"
      ]
     },
     "execution_count": 14,
     "metadata": {},
     "output_type": "execute_result"
    }
   ],
   "source": [
    "c = 3+5j\n",
    "c, type(c)"
   ]
  },
  {
   "cell_type": "code",
   "execution_count": 15,
   "metadata": {},
   "outputs": [
    {
     "data": {
      "text/plain": [
       "(8+8j)"
      ]
     },
     "execution_count": 15,
     "metadata": {},
     "output_type": "execute_result"
    }
   ],
   "source": [
    "d = complex(5+3j) # create complex number using complex() function\n",
    "c+d"
   ]
  },
  {
   "cell_type": "markdown",
   "metadata": {},
   "source": [
    "You can convert from one numeric type to another with the ``int()``, ``float()`` and ``complex()`` functions."
   ]
  },
  {
   "cell_type": "code",
   "execution_count": 17,
   "metadata": {},
   "outputs": [
    {
     "data": {
      "text/plain": [
       "(1.0, 1, (1+0j))"
      ]
     },
     "execution_count": 17,
     "metadata": {},
     "output_type": "execute_result"
    }
   ],
   "source": [
    "x,y,z = 1, 1.8, 2j\n",
    "a = float(x) # convert from int to float\n",
    "b = int(y)   # convert from float to int\n",
    "c = complex(x) # convert from int to complex\n",
    "a,b,c"
   ]
  },
  {
   "cell_type": "markdown",
   "metadata": {},
   "source": [
    "### 2.3 bool\n",
    "In Python, the two Boolean values are ``True`` and ``False`` (the capitalization must be exactly as shown), and the Python type is ``bool``. "
   ]
  },
  {
   "cell_type": "code",
   "execution_count": 20,
   "metadata": {},
   "outputs": [
    {
     "data": {
      "text/plain": [
       "bool"
      ]
     },
     "execution_count": 20,
     "metadata": {},
     "output_type": "execute_result"
    }
   ],
   "source": [
    "type(True) #is \"true\" ok?\n",
    "# type(true)\n",
    "type(False)"
   ]
  },
  {
   "cell_type": "markdown",
   "metadata": {},
   "source": [
    "### 2.4 Strings\n",
    "Strings are defined either with a **single quote** or a **double quotes** and the python type is ``str``.\n"
   ]
  },
  {
   "cell_type": "code",
   "execution_count": 21,
   "metadata": {},
   "outputs": [
    {
     "data": {
      "text/plain": [
       "str"
      ]
     },
     "execution_count": 21,
     "metadata": {},
     "output_type": "execute_result"
    }
   ],
   "source": [
    "type('data science')"
   ]
  },
  {
   "cell_type": "code",
   "execution_count": 22,
   "metadata": {},
   "outputs": [
    {
     "data": {
      "text/plain": [
       "str"
      ]
     },
     "execution_count": 22,
     "metadata": {},
     "output_type": "execute_result"
    }
   ],
   "source": [
    "type(\"Data Processing Workshop\")"
   ]
  },
  {
   "cell_type": "markdown",
   "metadata": {},
   "source": [
    "You can assign a multiline string to a variable by using three quotes:"
   ]
  },
  {
   "cell_type": "code",
   "execution_count": 23,
   "metadata": {},
   "outputs": [
    {
     "data": {
      "text/plain": [
       "('This is a string with \\nmultiple lines.', str)"
      ]
     },
     "execution_count": 23,
     "metadata": {},
     "output_type": "execute_result"
    }
   ],
   "source": [
    "a = \"\"\"This is a string with \n",
    "multiple lines.\"\"\"\n",
    "a, type(a)"
   ]
  },
  {
   "cell_type": "markdown",
   "metadata": {},
   "source": [
    "Strings in Python are arrays of characters. However, Python does not have a character data type, a single character is simply a string with length 1. Square brackets can be used to access elements of the string:"
   ]
  },
  {
   "cell_type": "code",
   "execution_count": 24,
   "metadata": {},
   "outputs": [
    {
     "data": {
      "text/plain": [
       "'H'"
      ]
     },
     "execution_count": 24,
     "metadata": {},
     "output_type": "execute_result"
    }
   ],
   "source": [
    "a = \"Hello World!\"\n",
    "a[0]"
   ]
  },
  {
   "cell_type": "markdown",
   "metadata": {},
   "source": [
    "You can use the ``+`` operator to concatenate two strings:"
   ]
  },
  {
   "cell_type": "code",
   "execution_count": 25,
   "metadata": {},
   "outputs": [
    {
     "data": {
      "text/plain": [
       "'Hello World!'"
      ]
     },
     "execution_count": 25,
     "metadata": {},
     "output_type": "execute_result"
    }
   ],
   "source": [
    "a = \"Hello\"\n",
    "b = \"World\"\n",
    "c = a+\" \"+b + \"!\"\n",
    "c"
   ]
  },
  {
   "cell_type": "markdown",
   "metadata": {},
   "source": [
    "### 2.5 Lists\n",
    "Lists are very similar to arrays, which are used to store multiple items in a single variable. \n",
    "- They can contain any type of variable, and they can contain as many variables as you wish.\n",
    "- use **[ ]** to express a list in python\n",
    "\n",
    "Lists are one of 4 built-in data types in Python used to store collections of data, the other three are ``Tuple``, ``Set`` and ``Dictionary``, all with different qualities and usage."
   ]
  },
  {
   "cell_type": "code",
   "execution_count": 26,
   "metadata": {},
   "outputs": [
    {
     "name": "stdout",
     "output_type": "stream",
     "text": [
      "<class 'list'>\n"
     ]
    },
    {
     "data": {
      "text/plain": [
       "list"
      ]
     },
     "execution_count": 26,
     "metadata": {},
     "output_type": "execute_result"
    }
   ],
   "source": [
    "al = [1,2,3,4,5]\n",
    "print(type(al))\n",
    "type([1,0.2, True, \"Hello\"])"
   ]
  },
  {
   "cell_type": "markdown",
   "metadata": {},
   "source": [
    "List items are ordered, changeable, and allow duplicate values.\n",
    "- If you add new items to a list, the new items will be placed at the end of the list.\n",
    "- The list is changeable, meaning that we can change, add, and remove items in a list after it has been created.\n",
    "- Lists can have items with the same value.\n",
    "\n",
    "List items are indexed, the first item has index [0], the second item has index [1] etc."
   ]
  },
  {
   "cell_type": "code",
   "execution_count": 27,
   "metadata": {},
   "outputs": [
    {
     "data": {
      "text/plain": [
       "(['a', 'b', 'a', 'c'], 4)"
      ]
     },
     "execution_count": 27,
     "metadata": {},
     "output_type": "execute_result"
    }
   ],
   "source": [
    "testList = [\"a\",\"b\",\"a\",\"c\"]\n",
    "testList, len(testList) # use len() function to determin how may items a lsit has"
   ]
  },
  {
   "cell_type": "code",
   "execution_count": 28,
   "metadata": {},
   "outputs": [
    {
     "name": "stdout",
     "output_type": "stream",
     "text": [
      "b\n",
      "a\n"
     ]
    },
    {
     "data": {
      "text/plain": [
       "['a', 'b', 'd', 'c']"
      ]
     },
     "execution_count": 28,
     "metadata": {},
     "output_type": "execute_result"
    }
   ],
   "source": [
    "print(testList[1]) # second item\n",
    "print(testList[-2])# second last item\n",
    "testList[2] = \"d\" # change item value\n",
    "testList"
   ]
  },
  {
   "cell_type": "markdown",
   "metadata": {},
   "source": [
    "### 2.6 Tuple \n",
    "A tuple is a sequence of **immutable** Python objects. Tuples are sequences, just like lists. \n",
    "- use **(  )** to express a tuple in python\n",
    "\n",
    "- Tuple items are indexed, the first item has index [0], the second item has index [1] etc.\n",
    "- Tuples are unchangeable, meaning that we cannot change, add or remove, items after the tuple has been created.\n",
    "- Tuples allow duplicates."
   ]
  },
  {
   "cell_type": "code",
   "execution_count": 29,
   "metadata": {},
   "outputs": [
    {
     "name": "stdout",
     "output_type": "stream",
     "text": [
      "<class 'tuple'>\n"
     ]
    },
    {
     "data": {
      "text/plain": [
       "tuple"
      ]
     },
     "execution_count": 29,
     "metadata": {},
     "output_type": "execute_result"
    }
   ],
   "source": [
    "at = (1,2,3,4,5)\n",
    "print(type(at))\n",
    "type((1,.2,True))"
   ]
  },
  {
   "cell_type": "code",
   "execution_count": 30,
   "metadata": {},
   "outputs": [
    {
     "data": {
      "text/plain": [
       "(1, 6)"
      ]
     },
     "execution_count": 30,
     "metadata": {},
     "output_type": "execute_result"
    }
   ],
   "source": [
    "testTuple = (1,2,\"a\",\"a\",3,4)\n",
    "testTuple[0],len(testTuple)"
   ]
  },
  {
   "cell_type": "markdown",
   "metadata": {},
   "source": [
    "To create a tuple with only one item, you have to add a comma after the item, otherwise Python will not recognize it as a tuple."
   ]
  },
  {
   "cell_type": "code",
   "execution_count": 31,
   "metadata": {},
   "outputs": [
    {
     "data": {
      "text/plain": [
       "(tuple, str)"
      ]
     },
     "execution_count": 31,
     "metadata": {},
     "output_type": "execute_result"
    }
   ],
   "source": [
    "oneItemTuple = (\"one\",)\n",
    "oneItem = (\"one\")\n",
    "\n",
    "type(oneItemTuple),type(oneItem)"
   ]
  },
  {
   "cell_type": "markdown",
   "metadata": {},
   "source": [
    "### 2.7 Set\n",
    "\n",
    "A set is a collection of items which is unordered and unindexed.\n",
    "- use **{  }** to express a set in python\n",
    "\n",
    "Sets cannot have two items with the same value. Therefore, duplicate values will be **ignored**.\n"
   ]
  },
  {
   "cell_type": "code",
   "execution_count": 32,
   "metadata": {},
   "outputs": [
    {
     "data": {
      "text/plain": [
       "(set, {1, 2, 3, 4, 5}, {1, 2, 3})"
      ]
     },
     "execution_count": 32,
     "metadata": {},
     "output_type": "execute_result"
    }
   ],
   "source": [
    "ase = {1,2,3,4,5}\n",
    "a = {1,1,2,3} # duplicate values will be ignored\n",
    "type(ase), ase, a"
   ]
  },
  {
   "cell_type": "markdown",
   "metadata": {},
   "source": [
    "To determine how many items a set has, use the ``len()`` method."
   ]
  },
  {
   "cell_type": "code",
   "execution_count": 33,
   "metadata": {},
   "outputs": [
    {
     "name": "stdout",
     "output_type": "stream",
     "text": [
      "3\n"
     ]
    }
   ],
   "source": [
    "print(len(a))"
   ]
  },
  {
   "cell_type": "markdown",
   "metadata": {},
   "source": [
    "### 2.8 Dictionary\n",
    "\n",
    "A dictionary is a collection which is unordered, changeable and indexed. In Python dictionaries are written with curly brackets, and they store data values in ``key:value`` pairs.\n",
    "- use **{:,}** to express a dict, which is a special type of set with **Keys**"
   ]
  },
  {
   "cell_type": "code",
   "execution_count": 34,
   "metadata": {},
   "outputs": [
    {
     "data": {
      "text/plain": [
       "dict"
      ]
     },
     "execution_count": 34,
     "metadata": {},
     "output_type": "execute_result"
    }
   ],
   "source": [
    "ad = {\"a\":0, \"b\":1, \"c\":2}\n",
    "type(ad)"
   ]
  },
  {
   "cell_type": "markdown",
   "metadata": {},
   "source": [
    "Dictionary items are presented in ``key:value`` pairs, and can be referred to by using the key name."
   ]
  },
  {
   "cell_type": "code",
   "execution_count": 35,
   "metadata": {},
   "outputs": [
    {
     "data": {
      "text/plain": [
       "0"
      ]
     },
     "execution_count": 35,
     "metadata": {},
     "output_type": "execute_result"
    }
   ],
   "source": [
    "ad[\"a\"]"
   ]
  },
  {
   "cell_type": "markdown",
   "metadata": {},
   "source": [
    "Dictionaries cannot have two items with the same key:\n",
    "- Duplicate values will overwrite existing values:"
   ]
  },
  {
   "cell_type": "code",
   "execution_count": 36,
   "metadata": {},
   "outputs": [
    {
     "data": {
      "text/plain": [
       "{'a': 'c', 'b': 1}"
      ]
     },
     "execution_count": 36,
     "metadata": {},
     "output_type": "execute_result"
    }
   ],
   "source": [
    "testDict = {\"a\":0, \"b\":1,\"a\":\"c\"}\n",
    "testDict"
   ]
  },
  {
   "cell_type": "markdown",
   "metadata": {},
   "source": [
    "- The ``keys()`` method will return a list of all the keys in the dictionary.\n",
    "- The ``values()`` method will return a list of all the values in the dictionary.\n",
    "- The ``items()`` method will return each item in a dictionary, as tuples in a list."
   ]
  },
  {
   "cell_type": "code",
   "execution_count": 37,
   "metadata": {},
   "outputs": [
    {
     "data": {
      "text/plain": [
       "(dict_keys(['a', 'b']),\n",
       " dict_values(['c', 1]),\n",
       " dict_items([('a', 'c'), ('b', 1)]))"
      ]
     },
     "execution_count": 37,
     "metadata": {},
     "output_type": "execute_result"
    }
   ],
   "source": [
    "testDict.keys(), testDict.values(), testDict.items()"
   ]
  },
  {
   "cell_type": "markdown",
   "metadata": {},
   "source": [
    "You can change the value of a specific item by referring to its key name\n",
    "- If the key exists, the value will be changed\n",
    "- If the key does not exist, a new key:value pair will be added to the dictionary"
   ]
  },
  {
   "cell_type": "code",
   "execution_count": 38,
   "metadata": {},
   "outputs": [
    {
     "name": "stdout",
     "output_type": "stream",
     "text": [
      "{'a': 10, 'b': 1}\n"
     ]
    },
    {
     "data": {
      "text/plain": [
       "{'a': 10, 'b': 1, 'new': 'new'}"
      ]
     },
     "execution_count": 38,
     "metadata": {},
     "output_type": "execute_result"
    }
   ],
   "source": [
    "testDict['a'] = 10\n",
    "print(testDict)\n",
    "testDict['new'] = \"new\"\n",
    "testDict"
   ]
  },
  {
   "cell_type": "markdown",
   "metadata": {},
   "source": [
    "Python is an **object-oriented programming** language, and in Python everything is an object.The data types we have discussed so far, including int,float,...,set,dictionary, are object."
   ]
  },
  {
   "cell_type": "markdown",
   "metadata": {},
   "source": [
    "### 2.9 Data type conversion"
   ]
  },
  {
   "cell_type": "markdown",
   "metadata": {},
   "source": [
    "To judge whether a data or variable is a particular type, use the function ``isinstance()``"
   ]
  },
  {
   "cell_type": "code",
   "execution_count": 39,
   "metadata": {},
   "outputs": [
    {
     "name": "stdout",
     "output_type": "stream",
     "text": [
      "True\n",
      "False\n",
      "True\n",
      "False\n"
     ]
    }
   ],
   "source": [
    "x=100\n",
    "print(isinstance(x, int))\n",
    "\n",
    "y=100.0\n",
    "print(isinstance(y, int))\n",
    "\n",
    "# In python, bool type is a subclass of int\n",
    "print(isinstance(True, int))\n",
    "\n",
    "print(isinstance('a',int))"
   ]
  },
  {
   "cell_type": "markdown",
   "metadata": {},
   "source": [
    "Python defines type conversion functions to directly convert one data type to another. Python has two types of type conversion:\n",
    "- Implicit type conversion (among int, float, complex, bool)\n",
    "- Explicit type conversion"
   ]
  },
  {
   "cell_type": "markdown",
   "metadata": {},
   "source": [
    "In Implicit type conversion, Python automatically converts one data type to another data type. This process doesn't need any user involvement."
   ]
  },
  {
   "cell_type": "code",
   "execution_count": 40,
   "metadata": {},
   "outputs": [
    {
     "name": "stdout",
     "output_type": "stream",
     "text": [
      "125.23\n"
     ]
    },
    {
     "data": {
      "text/plain": [
       "float"
      ]
     },
     "execution_count": 40,
     "metadata": {},
     "output_type": "execute_result"
    }
   ],
   "source": [
    "num_int = 123\n",
    "num_flo = 1.23\n",
    "num_new = num_int + num_flo + True\n",
    "print(num_new)\n",
    "type(num_new)"
   ]
  },
  {
   "cell_type": "markdown",
   "metadata": {},
   "source": [
    "we can see the ``num_new`` has float data type because Python always converts smaller data type to larger data type to avoid the loss of data."
   ]
  },
  {
   "cell_type": "code",
   "execution_count": 41,
   "metadata": {
    "scrolled": true
   },
   "outputs": [
    {
     "ename": "TypeError",
     "evalue": "unsupported operand type(s) for +: 'int' and 'str'",
     "output_type": "error",
     "traceback": [
      "\u001b[1;31m---------------------------------------------------------------------------\u001b[0m",
      "\u001b[1;31mTypeError\u001b[0m                                 Traceback (most recent call last)",
      "\u001b[1;32m<ipython-input-41-72b1366e973c>\u001b[0m in \u001b[0;36m<module>\u001b[1;34m()\u001b[0m\n\u001b[0;32m      1\u001b[0m \u001b[0mnum_str\u001b[0m \u001b[1;33m=\u001b[0m \u001b[1;34m\"456\"\u001b[0m\u001b[1;33m\u001b[0m\u001b[0m\n\u001b[1;32m----> 2\u001b[1;33m \u001b[0mnum_ns\u001b[0m \u001b[1;33m=\u001b[0m \u001b[0mnum_int\u001b[0m \u001b[1;33m+\u001b[0m \u001b[0mnum_str\u001b[0m\u001b[1;33m\u001b[0m\u001b[0m\n\u001b[0m\u001b[0;32m      3\u001b[0m \u001b[0mprint\u001b[0m\u001b[1;33m(\u001b[0m\u001b[0mnum_ns\u001b[0m\u001b[1;33m)\u001b[0m\u001b[1;33m\u001b[0m\u001b[0m\n\u001b[0;32m      4\u001b[0m \u001b[0mtype\u001b[0m\u001b[1;33m(\u001b[0m\u001b[0mnum_ns\u001b[0m\u001b[1;33m)\u001b[0m\u001b[1;33m\u001b[0m\u001b[0m\n",
      "\u001b[1;31mTypeError\u001b[0m: unsupported operand type(s) for +: 'int' and 'str'"
     ]
    }
   ],
   "source": [
    "num_str = \"456\"\n",
    "num_ns = num_int + num_str\n",
    "print(num_ns)\n",
    "type(num_ns)"
   ]
  },
  {
   "cell_type": "markdown",
   "metadata": {},
   "source": [
    "Python is not able use implicit conversion in such condition. Python has the solution for this type of situation which is know as explicit conversion.\n",
    "\n",
    "In explicit type conversion, users convert the data type of an object to required data type. We use the predefined functions like ``int()``, ``float()``, ``str()``, etc to perform explicit type conversion. \n",
    "- Syntax: ``required_datatype(expression)``"
   ]
  },
  {
   "cell_type": "code",
   "execution_count": 42,
   "metadata": {},
   "outputs": [
    {
     "name": "stdout",
     "output_type": "stream",
     "text": [
      "2\n",
      "100.0\n"
     ]
    }
   ],
   "source": [
    "print(int(2.5))\n",
    "print(float(100))"
   ]
  },
  {
   "cell_type": "markdown",
   "metadata": {},
   "source": [
    "Number 0 can be converted to bool type ``False``, and other non-zero values can be converted to ``True``."
   ]
  },
  {
   "cell_type": "code",
   "execution_count": 43,
   "metadata": {},
   "outputs": [
    {
     "data": {
      "text/plain": [
       "(1, 0)"
      ]
     },
     "execution_count": 43,
     "metadata": {},
     "output_type": "execute_result"
    }
   ],
   "source": [
    "int(True),int(False)"
   ]
  },
  {
   "cell_type": "code",
   "execution_count": 44,
   "metadata": {},
   "outputs": [
    {
     "data": {
      "text/plain": [
       "(False, True)"
      ]
     },
     "execution_count": 44,
     "metadata": {},
     "output_type": "execute_result"
    }
   ],
   "source": [
    "bool(0.0),bool('abc')"
   ]
  },
  {
   "cell_type": "markdown",
   "metadata": {},
   "source": [
    "You can convert between list and tuple. \n",
    "List and tuple look similar, however they are different. \n",
    "- Lists are **mutable** and tuples are **immutable**. "
   ]
  },
  {
   "cell_type": "code",
   "execution_count": 45,
   "metadata": {},
   "outputs": [
    {
     "data": {
      "text/plain": [
       "(3, 1, 4)"
      ]
     },
     "execution_count": 45,
     "metadata": {},
     "output_type": "execute_result"
    }
   ],
   "source": [
    "tuple([3,1,4])"
   ]
  },
  {
   "cell_type": "code",
   "execution_count": 46,
   "metadata": {},
   "outputs": [
    {
     "data": {
      "text/plain": [
       "[1, 4, 7]"
      ]
     },
     "execution_count": 46,
     "metadata": {},
     "output_type": "execute_result"
    }
   ],
   "source": [
    "list((1,4,7))"
   ]
  },
  {
   "cell_type": "markdown",
   "metadata": {},
   "source": [
    "Conversion between number systems\n",
    "- ``int(a,base)``: This function converts any data type to integer. **Base** specifies the base in which string is if data type is string."
   ]
  },
  {
   "cell_type": "code",
   "execution_count": 47,
   "metadata": {},
   "outputs": [
    {
     "name": "stdout",
     "output_type": "stream",
     "text": [
      "1000\n"
     ]
    },
    {
     "data": {
      "text/plain": [
       "8"
      ]
     },
     "execution_count": 47,
     "metadata": {},
     "output_type": "execute_result"
    }
   ],
   "source": [
    "print(int(\"1000\"))\n",
    "int('1000',base=2)"
   ]
  },
  {
   "cell_type": "code",
   "execution_count": 48,
   "metadata": {},
   "outputs": [
    {
     "data": {
      "text/plain": [
       "255"
      ]
     },
     "execution_count": 48,
     "metadata": {},
     "output_type": "execute_result"
    }
   ],
   "source": [
    "int('FF',base=16)"
   ]
  },
  {
   "cell_type": "code",
   "execution_count": 49,
   "metadata": {},
   "outputs": [
    {
     "data": {
      "text/plain": [
       "99"
      ]
     },
     "execution_count": 49,
     "metadata": {},
     "output_type": "execute_result"
    }
   ],
   "source": [
    "int('99',base=10)"
   ]
  },
  {
   "cell_type": "markdown",
   "metadata": {},
   "source": [
    "# 3. Variables\n",
    "\n",
    "- Variables are containers for storing data values. \n",
    "- Naming of variable should follow the rules:\n",
    "    1. Variable name includes only **alphabets, nubmers and underscore '_'**\n",
    "    2. Variable name cannot start with **numbers**\n",
    "    3. Please do not use **keywords** in python as the variable names, unless you really know what you are doing\n",
    "    4. Variable names are case-sensitive"
   ]
  },
  {
   "cell_type": "code",
   "execution_count": 50,
   "metadata": {},
   "outputs": [],
   "source": [
    "# legal variable names\n",
    "_test0 = 1\n",
    "test_0 = 2\n",
    "_test_0 = 3\n",
    "test0 = 4\n",
    "Test0 = 5\n",
    "testVar = 6"
   ]
  },
  {
   "cell_type": "code",
   "execution_count": 51,
   "metadata": {},
   "outputs": [
    {
     "ename": "NameError",
     "evalue": "name 'I' is not defined",
     "output_type": "error",
     "traceback": [
      "\u001b[1;31m---------------------------------------------------------------------------\u001b[0m",
      "\u001b[1;31mNameError\u001b[0m                                 Traceback (most recent call last)",
      "\u001b[1;32m<ipython-input-51-a188e4705666>\u001b[0m in \u001b[0;36m<module>\u001b[1;34m()\u001b[0m\n\u001b[0;32m      1\u001b[0m \u001b[0mi\u001b[0m \u001b[1;33m=\u001b[0m \u001b[1;34m'i'\u001b[0m\u001b[1;33m\u001b[0m\u001b[0m\n\u001b[1;32m----> 2\u001b[1;33m \u001b[0mI\u001b[0m\u001b[1;33m\u001b[0m\u001b[0m\n\u001b[0m",
      "\u001b[1;31mNameError\u001b[0m: name 'I' is not defined"
     ]
    }
   ],
   "source": [
    "i = 'i'\n",
    "I"
   ]
  },
  {
   "cell_type": "code",
   "execution_count": 52,
   "metadata": {},
   "outputs": [
    {
     "ename": "SyntaxError",
     "evalue": "invalid token (<ipython-input-52-3585920c67f3>, line 2)",
     "output_type": "error",
     "traceback": [
      "\u001b[1;36m  File \u001b[1;32m\"<ipython-input-52-3585920c67f3>\"\u001b[1;36m, line \u001b[1;32m2\u001b[0m\n\u001b[1;33m    0_test = 7  # start with number\u001b[0m\n\u001b[1;37m     ^\u001b[0m\n\u001b[1;31mSyntaxError\u001b[0m\u001b[1;31m:\u001b[0m invalid token\n"
     ]
    }
   ],
   "source": [
    "# illegal variable names\n",
    "0_test = 7  # start with number\n",
    "test-0 = 8  # contains \"-\""
   ]
  },
  {
   "cell_type": "code",
   "execution_count": 53,
   "metadata": {},
   "outputs": [
    {
     "ename": "SyntaxError",
     "evalue": "can't assign to keyword (<ipython-input-53-16318898c997>, line 1)",
     "output_type": "error",
     "traceback": [
      "\u001b[1;36m  File \u001b[1;32m\"<ipython-input-53-16318898c997>\"\u001b[1;36m, line \u001b[1;32m1\u001b[0m\n\u001b[1;33m    True = 2 # True is a keyword\u001b[0m\n\u001b[1;37m                                ^\u001b[0m\n\u001b[1;31mSyntaxError\u001b[0m\u001b[1;31m:\u001b[0m can't assign to keyword\n"
     ]
    }
   ],
   "source": [
    "True = 2 # True is a keyword"
   ]
  },
  {
   "cell_type": "markdown",
   "metadata": {},
   "source": [
    "Method to check all the **keywords** in python"
   ]
  },
  {
   "cell_type": "code",
   "execution_count": 54,
   "metadata": {},
   "outputs": [
    {
     "data": {
      "text/plain": [
       "['False',\n",
       " 'None',\n",
       " 'True',\n",
       " 'and',\n",
       " 'as',\n",
       " 'assert',\n",
       " 'async',\n",
       " 'await',\n",
       " 'break',\n",
       " 'class',\n",
       " 'continue',\n",
       " 'def',\n",
       " 'del',\n",
       " 'elif',\n",
       " 'else',\n",
       " 'except',\n",
       " 'finally',\n",
       " 'for',\n",
       " 'from',\n",
       " 'global',\n",
       " 'if',\n",
       " 'import',\n",
       " 'in',\n",
       " 'is',\n",
       " 'lambda',\n",
       " 'nonlocal',\n",
       " 'not',\n",
       " 'or',\n",
       " 'pass',\n",
       " 'raise',\n",
       " 'return',\n",
       " 'try',\n",
       " 'while',\n",
       " 'with',\n",
       " 'yield']"
      ]
     },
     "execution_count": 54,
     "metadata": {},
     "output_type": "execute_result"
    }
   ],
   "source": [
    "import keyword\n",
    "keyword.kwlist"
   ]
  },
  {
   "cell_type": "markdown",
   "metadata": {},
   "source": [
    "Python allows you to assign values to multiple variables in one line:"
   ]
  },
  {
   "cell_type": "code",
   "execution_count": 55,
   "metadata": {},
   "outputs": [
    {
     "data": {
      "text/plain": [
       "(True, 20, 10.6, 'MyStr')"
      ]
     },
     "execution_count": 55,
     "metadata": {},
     "output_type": "execute_result"
    }
   ],
   "source": [
    "testBool, testInt, testFloat, testStr = True, 20, 10.6, \"MyStr\"\n",
    "testBool,testInt,testFloat,testStr"
   ]
  },
  {
   "cell_type": "markdown",
   "metadata": {},
   "source": [
    "Python is **dynamic** typed language, meaning you can change the type of a variable by directly assignment a value of different type to it."
   ]
  },
  {
   "cell_type": "code",
   "execution_count": 56,
   "metadata": {},
   "outputs": [
    {
     "name": "stdout",
     "output_type": "stream",
     "text": [
      "<class 'int'>\n",
      "<class 'str'>\n"
     ]
    },
    {
     "data": {
      "text/plain": [
       "'bite me'"
      ]
     },
     "execution_count": 56,
     "metadata": {},
     "output_type": "execute_result"
    }
   ],
   "source": [
    "x=100\n",
    "print(type(x))\n",
    "x=\"bite me\"\n",
    "print(type(x))\n",
    "x"
   ]
  },
  {
   "cell_type": "markdown",
   "metadata": {},
   "source": [
    "Python is **Strong** typed language, meaning type conversion should be made **explicitly**, except among **float**, **bool**, **int**, **complex**"
   ]
  },
  {
   "cell_type": "code",
   "execution_count": 57,
   "metadata": {},
   "outputs": [
    {
     "ename": "TypeError",
     "evalue": "can only concatenate str (not \"int\") to str",
     "output_type": "error",
     "traceback": [
      "\u001b[1;31m---------------------------------------------------------------------------\u001b[0m",
      "\u001b[1;31mTypeError\u001b[0m                                 Traceback (most recent call last)",
      "\u001b[1;32m<ipython-input-57-aacce49a0307>\u001b[0m in \u001b[0;36m<module>\u001b[1;34m()\u001b[0m\n\u001b[1;32m----> 1\u001b[1;33m \u001b[1;34m'3'\u001b[0m\u001b[1;33m+\u001b[0m\u001b[1;36m2\u001b[0m\u001b[1;33m\u001b[0m\u001b[0m\n\u001b[0m",
      "\u001b[1;31mTypeError\u001b[0m: can only concatenate str (not \"int\") to str"
     ]
    }
   ],
   "source": [
    "'3'+2"
   ]
  },
  {
   "cell_type": "code",
   "execution_count": 58,
   "metadata": {},
   "outputs": [
    {
     "data": {
      "text/plain": [
       "5"
      ]
     },
     "execution_count": 58,
     "metadata": {},
     "output_type": "execute_result"
    }
   ],
   "source": [
    "int('3')+2"
   ]
  },
  {
   "cell_type": "markdown",
   "metadata": {},
   "source": [
    "Method to check all the variable names used so far"
   ]
  },
  {
   "cell_type": "code",
   "execution_count": 59,
   "metadata": {},
   "outputs": [
    {
     "data": {
      "text/plain": [
       "['In',\n",
       " 'Out',\n",
       " 'Test0',\n",
       " '_',\n",
       " '_12',\n",
       " '_13',\n",
       " '_14',\n",
       " '_15',\n",
       " '_16',\n",
       " '_17',\n",
       " '_18',\n",
       " '_20',\n",
       " '_21',\n",
       " '_22',\n",
       " '_23',\n",
       " '_24',\n",
       " '_25',\n",
       " '_26',\n",
       " '_27',\n",
       " '_28',\n",
       " '_29',\n",
       " '_30',\n",
       " '_31',\n",
       " '_32',\n",
       " '_34',\n",
       " '_35',\n",
       " '_36',\n",
       " '_37',\n",
       " '_38',\n",
       " '_40',\n",
       " '_43',\n",
       " '_44',\n",
       " '_45',\n",
       " '_46',\n",
       " '_47',\n",
       " '_48',\n",
       " '_49',\n",
       " '_5',\n",
       " '_54',\n",
       " '_55',\n",
       " '_56',\n",
       " '_58',\n",
       " '_9',\n",
       " '__',\n",
       " '___',\n",
       " '__builtin__',\n",
       " '__builtins__',\n",
       " '__doc__',\n",
       " '__loader__',\n",
       " '__name__',\n",
       " '__package__',\n",
       " '__spec__',\n",
       " '_dh',\n",
       " '_i',\n",
       " '_i1',\n",
       " '_i10',\n",
       " '_i11',\n",
       " '_i12',\n",
       " '_i13',\n",
       " '_i14',\n",
       " '_i15',\n",
       " '_i16',\n",
       " '_i17',\n",
       " '_i18',\n",
       " '_i19',\n",
       " '_i2',\n",
       " '_i20',\n",
       " '_i21',\n",
       " '_i22',\n",
       " '_i23',\n",
       " '_i24',\n",
       " '_i25',\n",
       " '_i26',\n",
       " '_i27',\n",
       " '_i28',\n",
       " '_i29',\n",
       " '_i3',\n",
       " '_i30',\n",
       " '_i31',\n",
       " '_i32',\n",
       " '_i33',\n",
       " '_i34',\n",
       " '_i35',\n",
       " '_i36',\n",
       " '_i37',\n",
       " '_i38',\n",
       " '_i39',\n",
       " '_i4',\n",
       " '_i40',\n",
       " '_i41',\n",
       " '_i42',\n",
       " '_i43',\n",
       " '_i44',\n",
       " '_i45',\n",
       " '_i46',\n",
       " '_i47',\n",
       " '_i48',\n",
       " '_i49',\n",
       " '_i5',\n",
       " '_i50',\n",
       " '_i51',\n",
       " '_i52',\n",
       " '_i53',\n",
       " '_i54',\n",
       " '_i55',\n",
       " '_i56',\n",
       " '_i57',\n",
       " '_i58',\n",
       " '_i59',\n",
       " '_i6',\n",
       " '_i7',\n",
       " '_i8',\n",
       " '_i9',\n",
       " '_ih',\n",
       " '_ii',\n",
       " '_iii',\n",
       " '_oh',\n",
       " '_test0',\n",
       " '_test_0',\n",
       " 'a',\n",
       " 'ad',\n",
       " 'al',\n",
       " 'ase',\n",
       " 'at',\n",
       " 'b',\n",
       " 'c',\n",
       " 'd',\n",
       " 'exit',\n",
       " 'get_ipython',\n",
       " 'i',\n",
       " 'keyword',\n",
       " 'num_flo',\n",
       " 'num_int',\n",
       " 'num_new',\n",
       " 'num_str',\n",
       " 'oneItem',\n",
       " 'oneItemTuple',\n",
       " 'p',\n",
       " 'q',\n",
       " 'quit',\n",
       " 'score',\n",
       " 'test0',\n",
       " 'testBool',\n",
       " 'testDict',\n",
       " 'testFloat',\n",
       " 'testInt',\n",
       " 'testList',\n",
       " 'testStr',\n",
       " 'testTuple',\n",
       " 'testVar',\n",
       " 'test_0',\n",
       " 'x',\n",
       " 'y',\n",
       " 'z']"
      ]
     },
     "execution_count": 59,
     "metadata": {},
     "output_type": "execute_result"
    }
   ],
   "source": [
    "dir()"
   ]
  },
  {
   "cell_type": "markdown",
   "metadata": {},
   "source": [
    "# 4. Programming conventions"
   ]
  },
  {
   "cell_type": "markdown",
   "metadata": {},
   "source": [
    "Please refer to \n",
    "### [PEP8-Style Guide for Python Code](https://legacy.python.org/dev/peps/pep-0008/)"
   ]
  },
  {
   "cell_type": "markdown",
   "metadata": {},
   "source": [
    "- One statement in one line\n",
    "- NO **\"\\;\"** sign in the end, not like C or Java"
   ]
  },
  {
   "cell_type": "code",
   "execution_count": 60,
   "metadata": {},
   "outputs": [],
   "source": [
    "first = 1\n",
    "second = first+1\n",
    "third = 3"
   ]
  },
  {
   "cell_type": "markdown",
   "metadata": {},
   "source": [
    "If you have to write multiple statements in one line, use \";\" to seperate them"
   ]
  },
  {
   "cell_type": "code",
   "execution_count": 61,
   "metadata": {},
   "outputs": [
    {
     "data": {
      "text/plain": [
       "3"
      ]
     },
     "execution_count": 61,
     "metadata": {},
     "output_type": "execute_result"
    }
   ],
   "source": [
    "i=1;j=2;k=3\n",
    "i;j;k   # different from i,j,k, because i,j,k actually means a tuple"
   ]
  },
  {
   "cell_type": "code",
   "execution_count": 62,
   "metadata": {},
   "outputs": [
    {
     "data": {
      "text/plain": [
       "(1, 2, 3)"
      ]
     },
     "execution_count": 62,
     "metadata": {},
     "output_type": "execute_result"
    }
   ],
   "source": [
    "i,j,k"
   ]
  },
  {
   "cell_type": "markdown",
   "metadata": {},
   "source": [
    "Sometimes it looks better if you seperate a statement into multiple lines.\n",
    "\n",
    "In this case, use \"\\\\\" to indicate the line seperation"
   ]
  },
  {
   "cell_type": "code",
   "execution_count": 63,
   "metadata": {},
   "outputs": [
    {
     "name": "stdout",
     "output_type": "stream",
     "text": [
      "hello data science\n"
     ]
    },
    {
     "data": {
      "text/plain": [
       "3"
      ]
     },
     "execution_count": 63,
     "metadata": {},
     "output_type": "execute_result"
    }
   ],
   "source": [
    "print(\"hello data \\\n",
    "science\")\n",
    "1+\\\n",
    "2"
   ]
  },
  {
   "cell_type": "markdown",
   "metadata": {},
   "source": [
    "# 5. Operators"
   ]
  },
  {
   "attachments": {
    "01_python_arithmetic.png": {
     "image/png": "[encoded data removed]"
    }
   },
   "cell_type": "markdown",
   "metadata": {},
   "source": [
    "![01_python_arithmetic.png](attachment:01_python_arithmetic.png)"
   ]
  },
  {
   "cell_type": "code",
   "execution_count": 64,
   "metadata": {},
   "outputs": [
    {
     "name": "stdout",
     "output_type": "stream",
     "text": [
      "13\n",
      "5\n",
      "36\n",
      "2.25\n",
      "2\n",
      "1\n"
     ]
    }
   ],
   "source": [
    "# Examples of Arithmetic Operators\n",
    "\n",
    "a = 9\n",
    "b = 4\n",
    "  \n",
    "# Addition of numbers \n",
    "add = a + b \n",
    "# Subtraction of numbers  \n",
    "sub = a - b \n",
    "# Multiplication of number  \n",
    "mul = a * b \n",
    "# Division(float) of number  \n",
    "div1 = a / b \n",
    "# Division(floor) of number  \n",
    "div2 = a // b \n",
    "# Modulo of both number \n",
    "mod = a % b \n",
    "  \n",
    "# print results \n",
    "print(add) \n",
    "print(sub) \n",
    "print(mul) \n",
    "print(div1) \n",
    "print(div2) \n",
    "print(mod) "
   ]
  },
  {
   "attachments": {
    "02_python_assignment.png": {
     "image/png": "[encoded data removed]"
    }
   },
   "cell_type": "markdown",
   "metadata": {},
   "source": [
    "![02_python_assignment.png](attachment:02_python_assignment.png)"
   ]
  },
  {
   "attachments": {
    "03_python_comparison.png": {
     "image/png": "[encoded data removed]"
    }
   },
   "cell_type": "markdown",
   "metadata": {},
   "source": [
    "![03_python_comparison.png](attachment:03_python_comparison.png)"
   ]
  },
  {
   "cell_type": "code",
   "execution_count": 65,
   "metadata": {},
   "outputs": [
    {
     "name": "stdout",
     "output_type": "stream",
     "text": [
      "False\n",
      "True\n",
      "False\n",
      "True\n",
      "False\n",
      "True\n"
     ]
    }
   ],
   "source": [
    "# Examples of Comparison Operators\n",
    "\n",
    "\n",
    "a = 13\n",
    "b = 33\n",
    "  \n",
    "# a > b is False \n",
    "print(a > b) \n",
    "  \n",
    "# a < b is True \n",
    "print(a < b) \n",
    "  \n",
    "# a == b is False \n",
    "print(a == b) \n",
    "  \n",
    "# a != b is True \n",
    "print(a != b) \n",
    "  \n",
    "# a >= b is False \n",
    "print(a >= b) \n",
    "  \n",
    "# a <= b is True \n",
    "print(a <= b) "
   ]
  },
  {
   "attachments": {
    "04_python_logical.png": {
     "image/png": "[encoded data removed]"
    }
   },
   "cell_type": "markdown",
   "metadata": {},
   "source": [
    "![04_python_logical.png](attachment:04_python_logical.png)"
   ]
  },
  {
   "cell_type": "code",
   "execution_count": 66,
   "metadata": {},
   "outputs": [
    {
     "name": "stdout",
     "output_type": "stream",
     "text": [
      "False\n",
      "True\n",
      "False\n"
     ]
    }
   ],
   "source": [
    "# Examples of Logical Operators\n",
    "\n",
    "a = True\n",
    "b = False\n",
    "  \n",
    "# Print a and b is False \n",
    "print(a and b) \n",
    "  \n",
    "# Print a or b is True \n",
    "print(a or b) \n",
    "  \n",
    "# Print not a is False \n",
    "print(not a) "
   ]
  },
  {
   "attachments": {
    "05_python_identity.png": {
     "image/png": "[encoded data removed]"
    }
   },
   "cell_type": "markdown",
   "metadata": {},
   "source": [
    "![05_python_identity.png](attachment:05_python_identity.png)"
   ]
  },
  {
   "cell_type": "code",
   "execution_count": 67,
   "metadata": {},
   "outputs": [
    {
     "name": "stdout",
     "output_type": "stream",
     "text": [
      "True\n",
      "True\n",
      "False\n",
      "False\n"
     ]
    }
   ],
   "source": [
    "# Examples of Identity operators \n",
    "\n",
    "a1 = 3\n",
    "b1 = 3\n",
    "a2 = 'DataScience'\n",
    "b2 = 'DataScience'\n",
    "\n",
    "a3 = 'Data Science'\n",
    "b3 = 'Data Science'\n",
    "\n",
    "a4 = [1,2,3] \n",
    "b4 = [1,2,3] \n",
    "\n",
    "# small numbers in python share the same object ([-3,256])\n",
    "print(a1 is b1) \n",
    "\n",
    "# strings without special character share the same object; \n",
    "# strings with special chararacter doesn't share same object\n",
    "print(a2 is b2) \n",
    "print(a3 is b3)\n",
    "\n",
    "print(a4 is b4)"
   ]
  },
  {
   "attachments": {
    "06_python_membership.png": {
     "image/png": "[encoded data removed]"
    }
   },
   "cell_type": "markdown",
   "metadata": {},
   "source": [
    "![06_python_membership.png](attachment:06_python_membership.png)"
   ]
  },
  {
   "cell_type": "code",
   "execution_count": 68,
   "metadata": {},
   "outputs": [
    {
     "name": "stdout",
     "output_type": "stream",
     "text": [
      "True\n",
      "True\n",
      "False\n",
      "True\n",
      "False\n"
     ]
    }
   ],
   "source": [
    "# Examples of Membership operators\n",
    "\n",
    "x = 'Data Science'\n",
    "y = {3:'a',4:'b'} \n",
    "  \n",
    "print('D' in x) \n",
    "  \n",
    "print('workshop' not in x) \n",
    "  \n",
    "print('Sci' not in x) \n",
    "  \n",
    "print(3 in y) \n",
    "  \n",
    "print('b' in y) "
   ]
  },
  {
   "attachments": {
    "07_python_bitwise.png": {
     "image/png": "[encoded data removed]"
    }
   },
   "cell_type": "markdown",
   "metadata": {},
   "source": [
    "![07_python_bitwise.png](attachment:07_python_bitwise.png)"
   ]
  },
  {
   "cell_type": "code",
   "execution_count": 65,
   "metadata": {},
   "outputs": [
    {
     "name": "stdout",
     "output_type": "stream",
     "text": [
      "0\n",
      "14\n",
      "-11\n",
      "14\n",
      "2\n",
      "40\n"
     ]
    }
   ],
   "source": [
    "# Examples of Bitwise operators \n",
    "\n",
    "a = 10  # 0...1010  (all zeros left)\n",
    "b = 4   # 0...0100  (all zeros left)\n",
    "  \n",
    "# Print bitwise AND operation   \n",
    "print(a & b)   # 0...0000  \n",
    "  \n",
    "# Print bitwise OR operation \n",
    "print(a | b) # 000....1110  - 14\n",
    "  \n",
    "# Print bitwise NOT operation  \n",
    "print(~a)  # 11111....0101   \n",
    "\n",
    "\n",
    "# print bitwise XOR operation  \n",
    "print(a ^ b) # 000...1110\n",
    "\n",
    "# print bitwise right shift operation  \n",
    "print(a >> 2) # 0000...10\n",
    "  \n",
    "# print bitwise left shift operation  \n",
    "print(a << 2) # 00000...101000"
   ]
  },
  {
   "cell_type": "markdown",
   "metadata": {},
   "source": [
    "Precednce of operators"
   ]
  },
  {
   "attachments": {
    "08_precedence_table.png": {
     "image/png": "[encoded data removed]"
    }
   },
   "cell_type": "markdown",
   "metadata": {},
   "source": [
    "![08_precedence_table.png](attachment:08_precedence_table.png)"
   ]
  },
  {
   "cell_type": "markdown",
   "metadata": {},
   "source": [
    "Try it out for yourself!"
   ]
  }
 ],
 "metadata": {
  "kernelspec": {
   "display_name": "Python 3",
   "language": "python",
   "name": "python3"
  },
  "language_info": {
   "codemirror_mode": {
    "name": "ipython",
    "version": 3
   },
   "file_extension": ".py",
   "mimetype": "text/x-python",
   "name": "python",
   "nbconvert_exporter": "python",
   "pygments_lexer": "ipython3",
   "version": "3.7.1"
  },
  "toc": {
   "base_numbering": 1,
   "nav_menu": {},
   "number_sections": true,
   "sideBar": true,
   "skip_h1_title": false,
   "title_cell": "Table of Contents",
   "title_sidebar": "Contents",
   "toc_cell": false,
   "toc_position": {},
   "toc_section_display": true,
   "toc_window_display": false
  }
 },
 "nbformat": 4,
 "nbformat_minor": 2
}
