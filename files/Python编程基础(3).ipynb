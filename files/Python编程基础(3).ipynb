{
 "cells": [
  {
   "cell_type": "markdown",
   "metadata": {},
   "source": [
    "# Lecture 4 : Python Basics (Part III)\n",
    "# Data Science, DST, UIC"
   ]
  },
  {
   "cell_type": "markdown",
   "metadata": {},
   "source": [
    "In this lecture, we will cover the following topics:\n",
    "1. Functions\n",
    "2. Classes and Objects\n",
    "3. Exception handling\n",
    "4. Packages"
   ]
  },
  {
   "cell_type": "markdown",
   "metadata": {},
   "source": [
    "# 1 Function\n",
    "\n",
    "A function is a block of code which only runs when it is called. You can pass data, known as **parameters**, into a function. A function can return data as a result.\n",
    "\n",
    "- Functions help break our program into smaller and modular chunks. As our program grows larger and larger, functions make it more organized and manageable.\n",
    "\n",
    "- Furthermore, it avoids repetition and makes code reusable."
   ]
  },
  {
   "cell_type": "markdown",
   "metadata": {},
   "source": [
    "## 1.1 Built-in Functions"
   ]
  },
  {
   "cell_type": "markdown",
   "metadata": {},
   "source": [
    "Python interpreter has a number of functions and types built into it that are always available. You can always call the built-in functions directly using their names.\n",
    "\n",
    "You can find a list of built-in functions [here](https://docs.python.org/3/library/functions.html), or use ``dir( __builtins__ )``"
   ]
  },
  {
   "cell_type": "code",
   "execution_count": 1,
   "metadata": {},
   "outputs": [
    {
     "data": {
      "text/plain": [
       "['ArithmeticError',\n",
       " 'AssertionError',\n",
       " 'AttributeError',\n",
       " 'BaseException',\n",
       " 'BlockingIOError',\n",
       " 'BrokenPipeError',\n",
       " 'BufferError',\n",
       " 'BytesWarning',\n",
       " 'ChildProcessError',\n",
       " 'ConnectionAbortedError',\n",
       " 'ConnectionError',\n",
       " 'ConnectionRefusedError',\n",
       " 'ConnectionResetError',\n",
       " 'DeprecationWarning',\n",
       " 'EOFError',\n",
       " 'Ellipsis',\n",
       " 'EnvironmentError',\n",
       " 'Exception',\n",
       " 'False',\n",
       " 'FileExistsError',\n",
       " 'FileNotFoundError',\n",
       " 'FloatingPointError',\n",
       " 'FutureWarning',\n",
       " 'GeneratorExit',\n",
       " 'IOError',\n",
       " 'ImportError',\n",
       " 'ImportWarning',\n",
       " 'IndentationError',\n",
       " 'IndexError',\n",
       " 'InterruptedError',\n",
       " 'IsADirectoryError',\n",
       " 'KeyError',\n",
       " 'KeyboardInterrupt',\n",
       " 'LookupError',\n",
       " 'MemoryError',\n",
       " 'ModuleNotFoundError',\n",
       " 'NameError',\n",
       " 'None',\n",
       " 'NotADirectoryError',\n",
       " 'NotImplemented',\n",
       " 'NotImplementedError',\n",
       " 'OSError',\n",
       " 'OverflowError',\n",
       " 'PendingDeprecationWarning',\n",
       " 'PermissionError',\n",
       " 'ProcessLookupError',\n",
       " 'RecursionError',\n",
       " 'ReferenceError',\n",
       " 'ResourceWarning',\n",
       " 'RuntimeError',\n",
       " 'RuntimeWarning',\n",
       " 'StopAsyncIteration',\n",
       " 'StopIteration',\n",
       " 'SyntaxError',\n",
       " 'SyntaxWarning',\n",
       " 'SystemError',\n",
       " 'SystemExit',\n",
       " 'TabError',\n",
       " 'TimeoutError',\n",
       " 'True',\n",
       " 'TypeError',\n",
       " 'UnboundLocalError',\n",
       " 'UnicodeDecodeError',\n",
       " 'UnicodeEncodeError',\n",
       " 'UnicodeError',\n",
       " 'UnicodeTranslateError',\n",
       " 'UnicodeWarning',\n",
       " 'UserWarning',\n",
       " 'ValueError',\n",
       " 'Warning',\n",
       " 'WindowsError',\n",
       " 'ZeroDivisionError',\n",
       " '__IPYTHON__',\n",
       " '__build_class__',\n",
       " '__debug__',\n",
       " '__doc__',\n",
       " '__import__',\n",
       " '__loader__',\n",
       " '__name__',\n",
       " '__package__',\n",
       " '__spec__',\n",
       " 'abs',\n",
       " 'all',\n",
       " 'any',\n",
       " 'ascii',\n",
       " 'bin',\n",
       " 'bool',\n",
       " 'breakpoint',\n",
       " 'bytearray',\n",
       " 'bytes',\n",
       " 'callable',\n",
       " 'chr',\n",
       " 'classmethod',\n",
       " 'compile',\n",
       " 'complex',\n",
       " 'copyright',\n",
       " 'credits',\n",
       " 'delattr',\n",
       " 'dict',\n",
       " 'dir',\n",
       " 'display',\n",
       " 'divmod',\n",
       " 'enumerate',\n",
       " 'eval',\n",
       " 'exec',\n",
       " 'filter',\n",
       " 'float',\n",
       " 'format',\n",
       " 'frozenset',\n",
       " 'get_ipython',\n",
       " 'getattr',\n",
       " 'globals',\n",
       " 'hasattr',\n",
       " 'hash',\n",
       " 'help',\n",
       " 'hex',\n",
       " 'id',\n",
       " 'input',\n",
       " 'int',\n",
       " 'isinstance',\n",
       " 'issubclass',\n",
       " 'iter',\n",
       " 'len',\n",
       " 'license',\n",
       " 'list',\n",
       " 'locals',\n",
       " 'map',\n",
       " 'max',\n",
       " 'memoryview',\n",
       " 'min',\n",
       " 'next',\n",
       " 'object',\n",
       " 'oct',\n",
       " 'open',\n",
       " 'ord',\n",
       " 'pow',\n",
       " 'print',\n",
       " 'property',\n",
       " 'range',\n",
       " 'repr',\n",
       " 'reversed',\n",
       " 'round',\n",
       " 'set',\n",
       " 'setattr',\n",
       " 'slice',\n",
       " 'sorted',\n",
       " 'staticmethod',\n",
       " 'str',\n",
       " 'sum',\n",
       " 'super',\n",
       " 'tuple',\n",
       " 'type',\n",
       " 'vars',\n",
       " 'zip']"
      ]
     },
     "execution_count": 1,
     "metadata": {},
     "output_type": "execute_result"
    }
   ],
   "source": [
    "dir(__builtins__)"
   ]
  },
  {
   "cell_type": "markdown",
   "metadata": {},
   "source": [
    "Note that the implementation of python built-in functions may not necessarily be using python language. For example, for the sake of performance, the source code of some of the built-in functions are in C."
   ]
  },
  {
   "cell_type": "code",
   "execution_count": 2,
   "metadata": {},
   "outputs": [
    {
     "data": {
      "text/plain": [
       "int"
      ]
     },
     "execution_count": 2,
     "metadata": {},
     "output_type": "execute_result"
    }
   ],
   "source": [
    "i=20\n",
    "type(i)"
   ]
  },
  {
   "cell_type": "code",
   "execution_count": 3,
   "metadata": {},
   "outputs": [
    {
     "data": {
      "text/plain": [
       "2.0"
      ]
     },
     "execution_count": 3,
     "metadata": {},
     "output_type": "execute_result"
    }
   ],
   "source": [
    "abs(-2.0)"
   ]
  },
  {
   "cell_type": "code",
   "execution_count": 4,
   "metadata": {},
   "outputs": [
    {
     "data": {
      "text/plain": [
       "2"
      ]
     },
     "execution_count": 4,
     "metadata": {},
     "output_type": "execute_result"
    }
   ],
   "source": [
    "# return smallest item of the given iterable argument, has to be comparable\n",
    "min([2,3,4])"
   ]
  },
  {
   "cell_type": "code",
   "execution_count": 5,
   "metadata": {},
   "outputs": [
    {
     "data": {
      "text/plain": [
       "256"
      ]
     },
     "execution_count": 5,
     "metadata": {},
     "output_type": "execute_result"
    }
   ],
   "source": [
    "# pow(x,y) Equivalent to x**y\n",
    "pow(2,8)"
   ]
  },
  {
   "cell_type": "code",
   "execution_count": 6,
   "metadata": {},
   "outputs": [
    {
     "data": {
      "text/plain": [
       "3.142"
      ]
     },
     "execution_count": 6,
     "metadata": {},
     "output_type": "execute_result"
    }
   ],
   "source": [
    "# round (number, ndigits) Round a number to a given precision in decimal digits.\n",
    "round(3.14159, 3)"
   ]
  },
  {
   "cell_type": "code",
   "execution_count": 7,
   "metadata": {},
   "outputs": [
    {
     "data": {
      "text/plain": [
       "{'a', 'b', 'c'}"
      ]
     },
     "execution_count": 7,
     "metadata": {},
     "output_type": "execute_result"
    }
   ],
   "source": [
    "set(\"abac\")"
   ]
  },
  {
   "cell_type": "code",
   "execution_count": 8,
   "metadata": {},
   "outputs": [
    {
     "data": {
      "text/plain": [
       "True"
      ]
     },
     "execution_count": 8,
     "metadata": {},
     "output_type": "execute_result"
    }
   ],
   "source": [
    "isinstance([1,2], list)"
   ]
  },
  {
   "cell_type": "code",
   "execution_count": 9,
   "metadata": {},
   "outputs": [
    {
     "name": "stdout",
     "output_type": "stream",
     "text": [
      "Help on built-in function iter in module builtins:\n",
      "\n",
      "iter(...)\n",
      "    iter(iterable) -> iterator\n",
      "    iter(callable, sentinel) -> iterator\n",
      "    \n",
      "    Get an iterator from an object.  In the first form, the argument must\n",
      "    supply its own iterator, or be a sequence.\n",
      "    In the second form, the callable is called until it returns the sentinel.\n",
      "\n"
     ]
    }
   ],
   "source": [
    "# use the built in function help() to check the usage infomation of built in function iter()\n",
    "help(iter)           \n",
    "\n",
    "#or use ? after the function to get the information\n",
    "iter?"
   ]
  },
  {
   "cell_type": "code",
   "execution_count": 10,
   "metadata": {},
   "outputs": [
    {
     "data": {
      "text/plain": [
       "range(1, 10, 2)"
      ]
     },
     "execution_count": 10,
     "metadata": {},
     "output_type": "execute_result"
    }
   ],
   "source": [
    "# range return an object that produces a sequence of integers\n",
    "range(1,10,2)"
   ]
  },
  {
   "cell_type": "code",
   "execution_count": 11,
   "metadata": {},
   "outputs": [
    {
     "data": {
      "text/plain": [
       "[1, 3, 5, 7, 9]"
      ]
     },
     "execution_count": 11,
     "metadata": {},
     "output_type": "execute_result"
    }
   ],
   "source": [
    "list(range(1,10,2))"
   ]
  },
  {
   "cell_type": "code",
   "execution_count": 12,
   "metadata": {},
   "outputs": [
    {
     "data": {
      "text/plain": [
       "'0b11111111'"
      ]
     },
     "execution_count": 12,
     "metadata": {},
     "output_type": "execute_result"
    }
   ],
   "source": [
    "# bin return the binary representation of an integer\n",
    "bin(255)"
   ]
  },
  {
   "cell_type": "code",
   "execution_count": 13,
   "metadata": {},
   "outputs": [
    {
     "data": {
      "text/plain": [
       "'0x100'"
      ]
     },
     "execution_count": 13,
     "metadata": {},
     "output_type": "execute_result"
    }
   ],
   "source": [
    "hex(256)"
   ]
  },
  {
   "cell_type": "markdown",
   "metadata": {},
   "source": [
    "## 1.2 Module functions"
   ]
  },
  {
   "cell_type": "markdown",
   "metadata": {},
   "source": [
    "Different from built in functions, module functions are defined in third party packages or modules. You must **import** the module or package before you call the functions.\n",
    "- A module is a file containing Python definitions, functions and statements. \n",
    "- The file name is the module name with the suffix ``.py`` appended. \n",
    "\n",
    "Before you **import** a package or module in your python codes, you need to install them first, the commonly used pacakge management tools include **Pip** or **conda**. In the jupyter notebook, most commonly used packages are already installed so that you can import them directly when necessary.\n",
    "\n",
    "There are several variants of import statement that imports names from a module:\n",
    "- ``import module1``: import the module1, you can access all the functions defined in module1 by using the module name.\n",
    "- ``import module1 as rename1``: import module1 and rename it to rename1.\n",
    "- ``from module1 import function1``: import the function1 defined in module1."
   ]
  },
  {
   "cell_type": "code",
   "execution_count": 14,
   "metadata": {},
   "outputs": [
    {
     "data": {
      "text/plain": [
       "1.0"
      ]
     },
     "execution_count": 14,
     "metadata": {},
     "output_type": "execute_result"
    }
   ],
   "source": [
    "import math \n",
    "math.sin(math.pi/2)"
   ]
  },
  {
   "cell_type": "code",
   "execution_count": 15,
   "metadata": {},
   "outputs": [
    {
     "data": {
      "text/plain": [
       "0.0707372016677029"
      ]
     },
     "execution_count": 15,
     "metadata": {},
     "output_type": "execute_result"
    }
   ],
   "source": [
    "# Rename the imported module using as\n",
    "import math as mt\n",
    "mt.cos(1.5)"
   ]
  },
  {
   "cell_type": "code",
   "execution_count": 16,
   "metadata": {},
   "outputs": [],
   "source": [
    "#cos(1.5)  # cos is not defined"
   ]
  },
  {
   "cell_type": "code",
   "execution_count": 17,
   "metadata": {},
   "outputs": [
    {
     "data": {
      "text/plain": [
       "0.0707372016677029"
      ]
     },
     "execution_count": 17,
     "metadata": {},
     "output_type": "execute_result"
    }
   ],
   "source": [
    "from math import cos\n",
    "cos(1.5)"
   ]
  },
  {
   "cell_type": "markdown",
   "metadata": {},
   "source": [
    "## 1.3 Self-defined functions\n",
    "\n",
    " We can also create our own functions, these functions are called self-defined functions.\n",
    " \n",
    " Syntax of defining function:\n",
    " \n",
    " ``def function_name(parameters):\n",
    "       \"\"\"docstring\"\"\"\n",
    "       statement(s)``\n",
    "       \n",
    "Above shown is a function definition which consists of following components.\n",
    "\n",
    "- Keyword ``def`` marks the start of function header.\n",
    "- A function name to uniquely identify it. Function naming follows the same rules of writing identifiers in Python.\n",
    "- Parameters (arguments) through which we pass values to a function. They are optional.\n",
    "- A colon (``:``) to mark the end of function header.\n",
    "- Optional documentation string (docstring) to describe what the function does.\n",
    "- One or more valid python statements that make up the function body. Statements must have same indentation level (usually 4 spaces).\n",
    "- An optional ``return`` statement to return a value from the function."
   ]
  },
  {
   "cell_type": "code",
   "execution_count": 18,
   "metadata": {},
   "outputs": [],
   "source": [
    "def my_func():    \n",
    "    j=0\n",
    "    print('hello world '+str(j))\n",
    "    return"
   ]
  },
  {
   "cell_type": "markdown",
   "metadata": {},
   "source": [
    "Once we have defined a function, we can call it from another function in the program. To call a function we simply type the function name with appropriate parameters."
   ]
  },
  {
   "cell_type": "code",
   "execution_count": 19,
   "metadata": {},
   "outputs": [
    {
     "name": "stdout",
     "output_type": "stream",
     "text": [
      "hello world 0\n"
     ]
    }
   ],
   "source": [
    "my_func()"
   ]
  },
  {
   "cell_type": "markdown",
   "metadata": {},
   "source": [
    "use docString to show the help of function"
   ]
  },
  {
   "cell_type": "code",
   "execution_count": 20,
   "metadata": {},
   "outputs": [],
   "source": [
    "def get_name():\n",
    "    '''get the user name according to the user input msg, \n",
    "    if input is empty, the default name is Anonymous User'''\n",
    "    name = input() or 'Anonymous User'\n",
    "    return name"
   ]
  },
  {
   "cell_type": "code",
   "execution_count": 21,
   "metadata": {},
   "outputs": [],
   "source": [
    "get_name?"
   ]
  },
  {
   "cell_type": "code",
   "execution_count": 22,
   "metadata": {},
   "outputs": [
    {
     "name": "stdout",
     "output_type": "stream",
     "text": [
      "Help on function get_name in module __main__:\n",
      "\n",
      "get_name()\n",
      "    get the user name according to the user input msg, \n",
      "    if input is empty, the default name is Anonymous User\n",
      "\n"
     ]
    }
   ],
   "source": [
    "help(get_name)"
   ]
  },
  {
   "cell_type": "code",
   "execution_count": 23,
   "metadata": {},
   "outputs": [
    {
     "name": "stdout",
     "output_type": "stream",
     "text": [
      "Test\n"
     ]
    },
    {
     "data": {
      "text/plain": [
       "'Test'"
      ]
     },
     "execution_count": 23,
     "metadata": {},
     "output_type": "execute_result"
    }
   ],
   "source": [
    "get_name()"
   ]
  },
  {
   "cell_type": "markdown",
   "metadata": {},
   "source": [
    "The return value of function use ``return`` statement."
   ]
  },
  {
   "cell_type": "code",
   "execution_count": 24,
   "metadata": {},
   "outputs": [
    {
     "name": "stdout",
     "output_type": "stream",
     "text": [
      "6\n"
     ]
    }
   ],
   "source": [
    "def my_func2(i):\n",
    "    j=i+1\n",
    "    return j\n",
    "\n",
    "print(my_func2(5))"
   ]
  },
  {
   "cell_type": "markdown",
   "metadata": {},
   "source": [
    "If a function does not explicitly return a value, then the default return value is 'None'"
   ]
  },
  {
   "cell_type": "code",
   "execution_count": 25,
   "metadata": {},
   "outputs": [
    {
     "name": "stdout",
     "output_type": "stream",
     "text": [
      "None\n"
     ]
    }
   ],
   "source": [
    "def my_func3(i):\n",
    "    j=i+1\n",
    "\n",
    "print(my_func3(5))"
   ]
  },
  {
   "cell_type": "markdown",
   "metadata": {},
   "source": [
    "A function can return multiple values"
   ]
  },
  {
   "cell_type": "code",
   "execution_count": 26,
   "metadata": {},
   "outputs": [
    {
     "name": "stdout",
     "output_type": "stream",
     "text": [
      "5\n",
      "6\n",
      "(5, 6)\n"
     ]
    }
   ],
   "source": [
    "def my_func4(i):\n",
    "    j=i+1\n",
    "    return i,j\n",
    "\n",
    "c = my_func4(5)\n",
    "a,b = my_func4(5)\n",
    "print(a)\n",
    "print(b)\n",
    "print(my_func4(5))"
   ]
  },
  {
   "cell_type": "markdown",
   "metadata": {},
   "source": [
    "### The arguments of a function"
   ]
  },
  {
   "cell_type": "markdown",
   "metadata": {},
   "source": [
    "From **function definition** perspective, the arguments can be divided into **mandatory(non-default) arguments** and **optional arguments**.\n",
    "- Arguments without default value are mandatory arguments, which means one must provide a value for the argument when calling the function.\n",
    "- Arguments with default value are optional arguments, which means if not provided a value when calling the function, default value will be used.\n",
    "\n",
    "- The optional arguments **must be behind** the mandatory arguments in the definition of functions\n"
   ]
  },
  {
   "cell_type": "code",
   "execution_count": 27,
   "metadata": {},
   "outputs": [],
   "source": [
    "#there is error, because the optional arguments must behind the mandatory arguments in the definition of functions\n",
    "\n",
    "# def my_func5(x1,x2,x4=4,x3,x5=5): # x1,x2,x3 are mandatory arguments; x4 and x5 are optional arguments\n",
    "#     print(x1)\n",
    "#     print(x2)\n",
    "#     print(x3)\n",
    "#     print(x4)\n",
    "#     print(x5)"
   ]
  },
  {
   "cell_type": "code",
   "execution_count": 28,
   "metadata": {},
   "outputs": [],
   "source": [
    "#correct definition of function\n",
    "def my_func5(x1,x2,x3,x4=4,x5=5):\n",
    "    print(x1,x2,x3,x4,x5)"
   ]
  },
  {
   "cell_type": "code",
   "execution_count": 29,
   "metadata": {},
   "outputs": [
    {
     "name": "stdout",
     "output_type": "stream",
     "text": [
      "1 2 3 7 8\n"
     ]
    }
   ],
   "source": [
    "#correct call of function\n",
    "my_func5(1,2,3,7,8)"
   ]
  },
  {
   "cell_type": "code",
   "execution_count": 30,
   "metadata": {
    "scrolled": false
   },
   "outputs": [
    {
     "name": "stdout",
     "output_type": "stream",
     "text": [
      "1 2 3 4 5\n"
     ]
    }
   ],
   "source": [
    "#correct call of function, some arguments are omitted when calling, therefore will use default values\n",
    "my_func5(1,2,3)"
   ]
  },
  {
   "cell_type": "code",
   "execution_count": 31,
   "metadata": {},
   "outputs": [],
   "source": [
    "# incorrect call of function, you must provide all the mandatory arguments\n",
    "# my_func5(1,2)"
   ]
  },
  {
   "cell_type": "markdown",
   "metadata": {},
   "source": [
    "From **function calling** perspective, the arguments can be divided into **positional arguments** and **keyword-only arguments**.\n",
    "- The positional arguments pass the value to the arguments depending on the position in the argument list of the function definition. \n",
    "- The keyword-only arguments need the name of arguments to appear explicitly when calling the function.\n",
    "- The keyword-only arguments can only appear **after** the positional arguments"
   ]
  },
  {
   "cell_type": "code",
   "execution_count": 32,
   "metadata": {},
   "outputs": [
    {
     "name": "stdout",
     "output_type": "stream",
     "text": [
      "1 3 2 4 6\n"
     ]
    }
   ],
   "source": [
    "#call the function and pass the value using argument names\n",
    "# my_func5(1,2,3,4,5) positional arguments\n",
    "my_func5(x1=1,x3=2,x2=3,x5=6)"
   ]
  },
  {
   "cell_type": "code",
   "execution_count": 33,
   "metadata": {
    "scrolled": false
   },
   "outputs": [
    {
     "name": "stdout",
     "output_type": "stream",
     "text": [
      "1 2 3 4 5\n"
     ]
    }
   ],
   "source": [
    "#some value are passed by position, some by names\n",
    "my_func5(1,2,3,x5=5)"
   ]
  },
  {
   "cell_type": "code",
   "execution_count": 34,
   "metadata": {},
   "outputs": [],
   "source": [
    "# Error! Because positional argument should be always before keyword argument\n",
    "# my_func5(1,x2=2,3,x5=5)"
   ]
  },
  {
   "cell_type": "markdown",
   "metadata": {},
   "source": [
    "From **function definition** perspective\n",
    "- the arguments that start with ``*`` will take in tuple as their value. If you do not know how many arguments that will be passed into your function, use ``*``.\n",
    "- the arguments that start with ``**`` will take in dictionary as their value\n",
    "- the arguments that appear after the arguments that start with ``*`` are **all keyword-only arguments**, which means you must provide their names when trying to pass a value to them."
   ]
  },
  {
   "cell_type": "code",
   "execution_count": 35,
   "metadata": {},
   "outputs": [],
   "source": [
    "def my_func6(x1,*x2,x3=3,x4,x5=5): \n",
    "    print(x1,x2,x3,x4,x5)"
   ]
  },
  {
   "cell_type": "code",
   "execution_count": 36,
   "metadata": {},
   "outputs": [
    {
     "name": "stdout",
     "output_type": "stream",
     "text": [
      "1 (2,) 3 4 5\n"
     ]
    }
   ],
   "source": [
    "#value 2 passed to variable x2 becomes a tuple (2,)\n",
    "my_func6(1,2,x3=3,x4=4)"
   ]
  },
  {
   "cell_type": "code",
   "execution_count": 37,
   "metadata": {},
   "outputs": [
    {
     "name": "stdout",
     "output_type": "stream",
     "text": [
      "1 (2, 3, 3) 4 4 5\n"
     ]
    }
   ],
   "source": [
    "#value 2,3,3 passed to variable x2 becomes (2,3,3)\n",
    "my_func6(1,2,3,3,x3=4,x4=4)"
   ]
  },
  {
   "cell_type": "code",
   "execution_count": 38,
   "metadata": {
    "scrolled": true
   },
   "outputs": [
    {
     "name": "stdout",
     "output_type": "stream",
     "text": [
      "1 (2, 3) 3 4 5\n"
     ]
    }
   ],
   "source": [
    "#values 2,3 are passed to variable x2, not to x3;\n",
    "#variable x3 uses default value 3;\n",
    "my_func6(1,2,3,x4=4)"
   ]
  },
  {
   "cell_type": "code",
   "execution_count": 39,
   "metadata": {},
   "outputs": [
    {
     "name": "stdout",
     "output_type": "stream",
     "text": [
      "1 2 (3, 3) 4 {'a': 1, 'b': 2}\n"
     ]
    }
   ],
   "source": [
    "def my_func7(x1,x2,*x3,x4,**x5): # argument start with ** must be last argument\n",
    "    print(x1,x2,x3,x4,x5)\n",
    "\n",
    "my_func7(1,2,3,3,x4=4,a=1,b=2)"
   ]
  },
  {
   "cell_type": "markdown",
   "metadata": {},
   "source": [
    "You can pass the tuple and dictionary variables as the arguments in function call by put ``*`` and ``**`` before the variable."
   ]
  },
  {
   "cell_type": "code",
   "execution_count": 40,
   "metadata": {},
   "outputs": [
    {
     "name": "stdout",
     "output_type": "stream",
     "text": [
      "1 2 (3, 3) 4 {'a': 1, 'b': 2}\n"
     ]
    }
   ],
   "source": [
    "dic_args = {\"a\":1,\"b\":2}\n",
    "tu_args = (3,3)\n",
    "my_func7(1,2,*tu_args,x4=4,**dic_args)"
   ]
  },
  {
   "cell_type": "markdown",
   "metadata": {},
   "source": [
    "## 1.4 The visibility of variables:\n",
    "1. local variable: defined and visible inside a function\n",
    "2. global variable: defined anywhere and visible to the whole program. Use it carefully.\n",
    "3. non-local variable: similar to global variable but used only in embedded functions, will not be discussed here."
   ]
  },
  {
   "cell_type": "code",
   "execution_count": 41,
   "metadata": {},
   "outputs": [
    {
     "name": "stdout",
     "output_type": "stream",
     "text": [
      "1\n",
      "0\n"
     ]
    }
   ],
   "source": [
    "x=0                # the first x is visible in the scope where it is defined\n",
    "\n",
    "def my_func7(i):\n",
    "    x=i            # the second x is visible in the scope where it is defined, which is inside the function my_func6(i)\n",
    "    print(x)       # note that the two 'x' are different variables even they share the same name\n",
    "\n",
    "my_func7(1)\n",
    "print(x)"
   ]
  },
  {
   "cell_type": "code",
   "execution_count": 42,
   "metadata": {},
   "outputs": [
    {
     "name": "stdout",
     "output_type": "stream",
     "text": [
      "1\n",
      "1\n"
     ]
    }
   ],
   "source": [
    "x=0                # the first x is visible in the scope where it is defined\n",
    "def my_func8(i):\n",
    "    global x       # a global variable x is defined, which will overwrite the x variable defined before\n",
    "    x=i            \n",
    "    print(x)       \n",
    "\n",
    "my_func8(1)\n",
    "print(x)"
   ]
  },
  {
   "cell_type": "markdown",
   "metadata": {},
   "source": [
    "## 1.5 Pass by value or pass by address\n",
    "\n",
    "When passing a value to an argument, there are mainly two ways of doing it. One is passing by value, the other is passing by address.\n",
    "- If we use an **immutable variable** (such as int, float, str, bool, tuple) to pass its value to the argument of a function, it is **passing by value**. When passing by value, the function will not affect the variable that passed its value to the function argument.\n",
    "For example:"
   ]
  },
  {
   "cell_type": "code",
   "execution_count": 43,
   "metadata": {},
   "outputs": [
    {
     "name": "stdout",
     "output_type": "stream",
     "text": [
      "100\n"
     ]
    }
   ],
   "source": [
    "i = 100\n",
    "def my_func9(j,k=2): # j = i\n",
    "    j+=k\n",
    "\n",
    "my_func9(i)  # we use the variable i, which is an integer (immutable variable), to pass the value to the argument j\n",
    "print(i)     # the value of variable i remains unchanged"
   ]
  },
  {
   "cell_type": "markdown",
   "metadata": {},
   "source": [
    "- If we use a **mutable variable** (such as list, set, dict) to pass its value to the argument of a function, it is passing by address. When passing by address,  the function will affect the variable that passed its value to the function argument.\n",
    "For example:"
   ]
  },
  {
   "cell_type": "code",
   "execution_count": 44,
   "metadata": {},
   "outputs": [
    {
     "name": "stdout",
     "output_type": "stream",
     "text": [
      "[102]\n"
     ]
    }
   ],
   "source": [
    "i = [100]\n",
    "\n",
    "def my_func9(j,k=2):\n",
    "    j[0]+=k\n",
    "\n",
    "my_func9(i)  # we use the variable i, which is a list (mutable variable), to pass the value to the argument j\n",
    "print(i)     # the value of variable i will be changed"
   ]
  },
  {
   "cell_type": "markdown",
   "metadata": {},
   "source": [
    "The reason that passing by address will change the variable i in the above example is that we are actually passing the address of variable i to the function, so that the function can really change the content that is stored in that address."
   ]
  },
  {
   "cell_type": "markdown",
   "metadata": {},
   "source": [
    "# 2 Classes and Objects\n",
    "\n",
    "\n",
    "## 2.1 Classes\n",
    "Classes provide a means of bundling data and functionality together. Creating a new class creates a new type of object, allowing new instances of that type to be made. Each class instance can have attributes attached to it for maintaining its state. Class instances can also have methods (defined by its class) for modifying its state.\n",
    "\n",
    "Class Definition Syntax:\n",
    "\n",
    "``class ClassName:\n",
    "    statement(s)``\n",
    "- Classes are created by keyword ``class``.\n",
    "- Attributes are the variables that belong to class.\n",
    "- Attributes are always public and can be accessed using dot (``.``) operator.\n",
    "   "
   ]
  },
  {
   "cell_type": "code",
   "execution_count": 45,
   "metadata": {},
   "outputs": [],
   "source": [
    "class MyClass:\n",
    "    \"\"\"A simple example class\"\"\"\n",
    "    def __init__(self):\n",
    "        pass\n",
    "    i = 12345\n",
    "    def my_func(self):\n",
    "        print(self.i)\n",
    "        return 'hello world'"
   ]
  },
  {
   "cell_type": "markdown",
   "metadata": {},
   "source": [
    "**Class Objects** \n",
    "\n",
    "An Object is an instance of a Class. A class is like a blueprint while an instance is a copy of the class with actual values. \n",
    "\n",
    "- **Class instantiation** uses function notation. Just pretend that the class object is a parameterless function that returns a new instance of the class, for example:\n",
    "\n",
    "- **Attribute references** use the standard syntax used for all attribute references in Python: ``obj.name``. \n"
   ]
  },
  {
   "cell_type": "code",
   "execution_count": 46,
   "metadata": {},
   "outputs": [
    {
     "name": "stdout",
     "output_type": "stream",
     "text": [
      "12345\n",
      "12345\n",
      "hello world\n"
     ]
    }
   ],
   "source": [
    "x = MyClass()  # creates a new instance of the class and assigns this object to the local variable x.\n",
    "print(x.i)\n",
    "print(x.my_func()) # MyClass.my_func(x)"
   ]
  },
  {
   "cell_type": "markdown",
   "metadata": {},
   "source": [
    "In the above example,  ``MyClass.i`` and ``MyClass.my_func`` are valid attribute references, returning an integer and a function object, respectively."
   ]
  },
  {
   "cell_type": "markdown",
   "metadata": {},
   "source": [
    "**self**\n",
    "\n",
    "Note that ``self`` represents the ``instance of the class`` (just like ``this`` in Java). By using the ``self`` keyword we can access the attributes and methods of the class in python. \n",
    "\n",
    "- Class methods must have an extra first parameter in method definition, which is the instance the moethod is called on. We do not give a value for this parameter when we call the method, Python provides it.\n",
    "- ``self`` is parameter in function and user can use another parameter name in place of it. But it is advisable to use self because it increase the readability of code.\n",
    "\n",
    "In the above example, when we call a method of this object as ``x.my_func()``, this is automatically converted by Python into ``MyClass.my_func(x)``."
   ]
  },
  {
   "cell_type": "markdown",
   "metadata": {},
   "source": [
    "The instantiation operation creates an empty object. Many classes like to create objects with instances customized to a specific initial state. Therefore a class may define a special method named ``__init__()`` (similar to the constructor in Java)\n",
    "- It is run as soon as an object of a class is instantiated. The method is useful to do any initialization you want to do with your object."
   ]
  },
  {
   "cell_type": "code",
   "execution_count": 47,
   "metadata": {},
   "outputs": [
    {
     "name": "stdout",
     "output_type": "stream",
     "text": [
      "3\n",
      "4\n"
     ]
    }
   ],
   "source": [
    "class MyClass:\n",
    "#  if no user defined __init__, python will provide __init__(self)\n",
    "    def __init__(self,number):\n",
    "        self.i = number\n",
    "        \n",
    "    def get_i(self):\n",
    "        return self.i\n",
    "    \n",
    "    def set_i(self,num):\n",
    "        self.i = num\n",
    "\n",
    "x = MyClass(3) # MyClass.__init__(x,3)\n",
    "print(x.get_i()) # MyClass.get_i(x)\n",
    "x.set_i(4) # MyClass.set_i(x,4)\n",
    "print(x.get_i())"
   ]
  },
  {
   "cell_type": "markdown",
   "metadata": {},
   "source": [
    "## 3 Exception Handling\n",
    "\n",
    "Until now error messages haven’t been more than mentioned, but if you have tried out the examples you have probably seen some. There are (at least) two distinguishable kinds of errors: syntax errors and exceptions.\n",
    "- Syntax errors: also known as parsing errors. The parser repeats the offending line and displays a little ‘arrow’ pointing at the earliest point in the line where the error was detected. "
   ]
  },
  {
   "cell_type": "code",
   "execution_count": 48,
   "metadata": {},
   "outputs": [],
   "source": [
    "# for i in range(4):\n",
    "#     print(i++)"
   ]
  },
  {
   "cell_type": "markdown",
   "metadata": {},
   "source": [
    "- Even if a statement or expression is syntactically correct, it may cause an error when an attempt is made to execute it. Errors detected during execution are called exceptions and are not unconditionally fatal. It is possible to write programs that handle selected exceptions.\n",
    "\n",
    "Like other languages, python also provides the runtime errors via exception handling method with the help of **try-except**. \n",
    "\n",
    "Syntax:\n",
    "\n",
    "``  \n",
    "try:\n",
    "    statement(s)\n",
    "except:\n",
    "    exception handling statement(s)``\n",
    "     "
   ]
  },
  {
   "cell_type": "code",
   "execution_count": 49,
   "metadata": {},
   "outputs": [
    {
     "name": "stdout",
     "output_type": "stream",
     "text": [
      "Second element =  2\n",
      "Exception occured\n"
     ]
    }
   ],
   "source": [
    "a = [1, 2, 3] \n",
    "try:  \n",
    "    print(\"Second element = \", a[1]) \n",
    "    # Throws error since there are only 3 elements in array \n",
    "    print(\"Fourth element = \", a[3]) \n",
    "\n",
    "except: \n",
    "    print(\"Exception occured\")"
   ]
  },
  {
   "cell_type": "markdown",
   "metadata": {},
   "source": [
    "In the above example, we did not mention any exception in the except clause.\n",
    "\n",
    "This is not a good programming practice as it will catch all exceptions and handle every case in the same way. We can **specify** which exceptions an except clause will catch.\n",
    "- We can also use a tuple of values to specify multiple exceptions in an except clause."
   ]
  },
  {
   "cell_type": "code",
   "execution_count": 50,
   "metadata": {},
   "outputs": [
    {
     "name": "stdout",
     "output_type": "stream",
     "text": [
      "\n",
      "Error Occurred and Handled\n"
     ]
    }
   ],
   "source": [
    "try :  \n",
    "    a = 6\n",
    "    if a < 4:\n",
    "        res = a/(a-3) # throws ZeroDivisionError for a = 3  \n",
    "    print(\"Value of res = \",res)  # throws NameError if a >= 4 \n",
    "\n",
    "except(ZeroDivisionError, NameError): \n",
    "    print(\"\\nError Occurred and Handled\")"
   ]
  },
  {
   "cell_type": "markdown",
   "metadata": {},
   "source": [
    "The **try-except** statement has an optional **else** clause, which, when present, must follow all except clauses. It is useful for code that must be executed if the try clause does not raise an exception. \n",
    "\n",
    "The try statement has another optional clause which is intended to define clean-up actions that must be executed under all circumstances, **finally**. The finally clause runs whether or not the try statement produces an exception."
   ]
  },
  {
   "cell_type": "code",
   "execution_count": 51,
   "metadata": {},
   "outputs": [],
   "source": [
    "def divide(x, y):\n",
    "    try:\n",
    "        result = x / y\n",
    "    except ZeroDivisionError:\n",
    "        print(\"division by zero!\") # execute if exceptio occurs\n",
    "    else:\n",
    "        print(\"result is\", result) # execute if no exception occur\n",
    "    finally:\n",
    "        print(\"executing finally clause\")   # execute regardless of whether there is exception or not"
   ]
  },
  {
   "cell_type": "code",
   "execution_count": 52,
   "metadata": {},
   "outputs": [
    {
     "name": "stdout",
     "output_type": "stream",
     "text": [
      "result is 0.75\n",
      "executing finally clause\n"
     ]
    }
   ],
   "source": [
    "divide(3,4)"
   ]
  },
  {
   "cell_type": "code",
   "execution_count": 53,
   "metadata": {},
   "outputs": [
    {
     "name": "stdout",
     "output_type": "stream",
     "text": [
      "division by zero!\n",
      "executing finally clause\n"
     ]
    }
   ],
   "source": [
    "divide(2,0)"
   ]
  },
  {
   "cell_type": "markdown",
   "metadata": {},
   "source": [
    "# 14. Packages"
   ]
  },
  {
   "cell_type": "markdown",
   "metadata": {},
   "source": [
    "In Python, a .py file can be a module, it may contain codes for classes, functions and other statements.\n",
    "Multiple modules together with a ``__init__.py`` file (optional, used for execution of package initialization code) make a package.\n",
    "- Packages provide a mechanism for grouping and organizing modules.\n",
    "- Packages allow for a hierarchical structuring of the module namespace using **dot notation**.\n",
    "\n",
    "\n",
    "Consider the following example, which is a directory named ``pkg`` that contains two modules ``mod1.py`` and ``mod2.py``\n",
    "\n",
    "``pkg\n",
    "     mod1.py\n",
    "     mod2.py\n",
    "    ``"
   ]
  },
  {
   "cell_type": "markdown",
   "metadata": {},
   "source": [
    "The contents of the modules are:"
   ]
  },
  {
   "cell_type": "code",
   "execution_count": 54,
   "metadata": {},
   "outputs": [],
   "source": [
    "# mod1.py\n",
    "def foo():\n",
    "    print(\"mod1.foo()\")\n",
    "\n",
    "# mode2.py\n",
    "def bar():\n",
    "    print(\"mode2.bar()\")"
   ]
  },
  {
   "cell_type": "markdown",
   "metadata": {},
   "source": [
    "Given this structure, put the ``pkg`` directory resides in a location where is can be found (in one of the directories contained in ``sys.path``), you can refer to the two modules with dot notation (``pkg.modd1, pkg.mod2``) and import them.\n",
    "- ``import package.module``\n",
    "- ``from package import module``"
   ]
  },
  {
   "cell_type": "code",
   "execution_count": 55,
   "metadata": {},
   "outputs": [
    {
     "name": "stdout",
     "output_type": "stream",
     "text": [
      "mod1.foo()\n",
      "mode2.bar()\n"
     ]
    }
   ],
   "source": [
    "# first check the paths\n",
    "# import sys\n",
    "# sys.path\n",
    "\n",
    "# put the pkg directory to one of the path\n",
    "import pkg.mod1\n",
    "pkg.mod1.foo()\n",
    "\n",
    "from pkg import mod2\n",
    "mod2.bar()"
   ]
  },
  {
   "cell_type": "markdown",
   "metadata": {},
   "source": [
    "To check all the built in modules of your python version, use the following codes"
   ]
  },
  {
   "cell_type": "code",
   "execution_count": 56,
   "metadata": {},
   "outputs": [
    {
     "data": {
      "text/plain": [
       "('_abc',\n",
       " '_ast',\n",
       " '_bisect',\n",
       " '_blake2',\n",
       " '_codecs',\n",
       " '_codecs_cn',\n",
       " '_codecs_hk',\n",
       " '_codecs_iso2022',\n",
       " '_codecs_jp',\n",
       " '_codecs_kr',\n",
       " '_codecs_tw',\n",
       " '_collections',\n",
       " '_csv',\n",
       " '_datetime',\n",
       " '_functools',\n",
       " '_heapq',\n",
       " '_imp',\n",
       " '_io',\n",
       " '_json',\n",
       " '_locale',\n",
       " '_lsprof',\n",
       " '_md5',\n",
       " '_multibytecodec',\n",
       " '_opcode',\n",
       " '_operator',\n",
       " '_pickle',\n",
       " '_random',\n",
       " '_sha1',\n",
       " '_sha256',\n",
       " '_sha3',\n",
       " '_sha512',\n",
       " '_signal',\n",
       " '_sre',\n",
       " '_stat',\n",
       " '_string',\n",
       " '_struct',\n",
       " '_symtable',\n",
       " '_thread',\n",
       " '_tracemalloc',\n",
       " '_warnings',\n",
       " '_weakref',\n",
       " '_winapi',\n",
       " 'array',\n",
       " 'atexit',\n",
       " 'audioop',\n",
       " 'binascii',\n",
       " 'builtins',\n",
       " 'cmath',\n",
       " 'errno',\n",
       " 'faulthandler',\n",
       " 'gc',\n",
       " 'itertools',\n",
       " 'marshal',\n",
       " 'math',\n",
       " 'mmap',\n",
       " 'msvcrt',\n",
       " 'nt',\n",
       " 'parser',\n",
       " 'sys',\n",
       " 'time',\n",
       " 'winreg',\n",
       " 'xxsubtype',\n",
       " 'zipimport',\n",
       " 'zlib')"
      ]
     },
     "execution_count": 56,
     "metadata": {},
     "output_type": "execute_result"
    }
   ],
   "source": [
    "import sys\n",
    "sys.builtin_module_names"
   ]
  },
  {
   "cell_type": "markdown",
   "metadata": {},
   "source": [
    "### Installation\n",
    "For non built-in packages, one can install them in one's own python development environment. Depending on the python developing environment you are using, you can either use: \n",
    "\n",
    "- \\# ``pip install package_name`` or\n",
    "\n",
    "- \\# ``conda install package_name``\n",
    "\n",
    "You can also list the currently installed packages using:\n",
    "\n",
    "- \\# ``pip list`` or\n",
    "\n",
    "- \\# ``conda list``"
   ]
  },
  {
   "cell_type": "markdown",
   "metadata": {},
   "source": [
    "Frequently used packages in python for data scientist are the following:\n",
    "\n",
    "- Numpy:  Processing with high dimension arrays and matrix\n",
    "\n",
    "- Pandas:  Processing with data frames\n",
    "\n",
    "- matplotlib: Data visualization\n",
    "\n",
    "- StatsModels: Statistical models\n",
    "\n",
    "- Scikit-learn, TensorFlow: Machine learning\n",
    "\n",
    "- Scrapy: Web crawling\n",
    "\n",
    "- pySpark: Spark programming\n",
    "\n",
    "- NLTK, spaCy: Natural Language Processing\n",
    "\n",
    "- Random: Generating random numbers\n",
    "\n",
    "- etc.\n"
   ]
  }
 ],
 "metadata": {
  "kernelspec": {
   "display_name": "Python 3",
   "language": "python",
   "name": "python3"
  },
  "language_info": {
   "codemirror_mode": {
    "name": "ipython",
    "version": 3
   },
   "file_extension": ".py",
   "mimetype": "text/x-python",
   "name": "python",
   "nbconvert_exporter": "python",
   "pygments_lexer": "ipython3",
   "version": "3.7.1"
  },
  "toc": {
   "base_numbering": 1,
   "nav_menu": {},
   "number_sections": true,
   "sideBar": true,
   "skip_h1_title": false,
   "title_cell": "Table of Contents",
   "title_sidebar": "Contents",
   "toc_cell": false,
   "toc_position": {},
   "toc_section_display": true,
   "toc_window_display": false
  }
 },
 "nbformat": 4,
 "nbformat_minor": 2
}
