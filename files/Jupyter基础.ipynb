{
 "cells": [
  {
   "cell_type": "markdown",
   "metadata": {},
   "source": [
    "# Lecture 1 : Jupyter Basics\n",
    "# Data Science, DST, UIC"
   ]
  },
  {
   "cell_type": "markdown",
   "metadata": {},
   "source": [
    "#  Why Python?\n",
    "Python has emerged over the last couple decades as a first-class tool for scientific computing tasks, including the analysis and visualization of large datasets. This may have come as a surprise to early proponents of the Python language: the language itself was not specifically designed with data analysis or scientific computing in mind. The usefulness of Python for data science stems primarily from the large and active ecosystem of third-party packages: NumPy for manipulation of homogeneous array-based data, Pandas for manipulation of heterogeneous and labeled data, SciPy for common scientific computing tasks, Matplotlib for publication-quality visualizations, IPython for interactive execution and sharing of code, Scikit-Learn for machine learning, and many more tools that will be mentioned in the following pages.\n",
    "\n",
    "If you are looking for a guide to the Python language itself, I would suggest a book, \"A Whirlwind Tour of the Python Language\". This short report provides a tour of the essential features of the Python language, aimed at data scientists who already are familiar with one or more other programming languages.\n",
    "\n",
    "#  Python 2 vs Python 3\n",
    "In this course, we will uses the syntax of Python 3, which contains language enhancements that are not compatible with the 2.x series of Python. Though Python 3.0 was first released in 2008, adoption has been relatively slow, particularly in the scientific and web development communities. This is primarily because it took some time for many of the essential third-party packages and toolkits to be made compatible with the new language internals. Since early 2014, however, stable releases of the most important tools in the data science ecosystem have been fully compatible with both Python 2 and 3, and so this course will use the newer Python 3 syntax. \n",
    "\n",
    "# PEP8-Style Guide for Python Code\n",
    "\n",
    "https://legacy.python.org/dev/peps/pep-0008/\n",
    "\n",
    "# To Write Python codes, we need the following\n",
    "1. **An editor**: Such as Windows NodePad, GEdit, Sublime, Spyder, PyCharm, etc, basically any text editor will do;\n",
    "2. **An intepreter**: Python is an interpreted language, which is a type of programming language for which most of its implementations execute instructions directly and freely, without previously compiling a program into machine-language instructions. Python has different version of intepreters such as Cpython (default), Jpython, Ironpython, etc;\n",
    "3. **Packages**: One of the most important advantage of Python is its packages system,it includes more than 10000 different packages up to now. Packages are like function libraries that are implemented by the others and can be used easily in your codes to do something specific. It is very easy to use packages in Python, just a simple \"import xxx\" will do the work. We will learn \"Numpy\", \"Pandas\", \"Scikit_learn\" and other packages that are closely related to data science in this course.\n",
    "4. Package manager: software that manage the packages, install, upgrade or delete them. Such as Pip, conda, etc.\n",
    "\n",
    "In practice, we can use different products above in combination. Or, much easier for beginners, we can use a integrated solution such as \"jupyter notebook\" where we can write, run, debug and learn python programming in one place."
   ]
  },
  {
   "cell_type": "markdown",
   "metadata": {},
   "source": [
    "\n",
    "# 1. How to use juypter notebook to write codes\n",
    "\n",
    "Jupyter notebook is one of the front end of Anaconda python development environment. There are two fairly prominent terms that you should notice, which are probably new to you: **cells** and **kernels** are key both to understanding Jupyter and to what makes it more than just a word processor. \n",
    "\n",
    "- A **kernel** is a “computational engine” that executes the code contained in a notebook document.\n",
    "- A **cell** is a container for text to be displayed in the notebook or code to be executed by the notebook’s kernel.\n",
    "\n",
    "\n",
    "## 1.1 Kernels\n",
    "\n",
    "Behind every notebook runs a kernel. When you run a code cell, that code is executed within the kernel and any output is returned back to the cell to be displayed. The kernel’s state persists over time and between cells — it pertains to the document as a whole and not individual cells.\n",
    "\n",
    "For example, if you import libraries or declare variables in one cell, they will be available in another. In this way, you can think of a notebook document as being somewhat comparable to a script file, except that it is multimedia. \n",
    "\n",
    "If you ever wish to reset things, there are several incredibly useful options from the Kernel menu:\n",
    "\n",
    "- **Restart**: restarts the kernel, thus clearing all the variables etc that were defined.\n",
    "- **Restart & Clear Output**: same as above but will also wipe the output displayed below your code cells.\n",
    "- **Restart & Run All**: same as above but will also run all your cells in order from first to last.\n",
    "\n",
    "If your kernel is ever stuck on a computation and you wish to stop it, you can choose the Interupt option.\n",
    "\n",
    "## 1.2 Cells\n",
    "\n",
    "* **Cell**: The jupyter notebook are files ended with *.ipynb*. Inside the file, each notebook consists a bunch of Cells. Cells are just blocks of texts in Markdown formats or codes.\n",
    " -  Code cells allow you to enter and run code. Run a code cell using ``Shift-Enter``.\n",
    " -  Markdown cells can contain text. You can change the cell type to Markdown by using the Cell menu, the toolbar, or the key shortcut *m* (in command mode, use key shortcut *y* to change from Markdown to code cell type). \n",
    "     - *Markdown is a popular markup language that is a superset of HTML. For markdown tips, refer to [Markdown Cheatsheet](http://nestacms.com/docs/creating-content/markdown-cheat-sheet)*\n",
    "\n",
    "* **Mode of cell**: a cell has two possible status, **Command** mode and **Edit** mode\n",
    "    - When a cell is in a **blue rectangle frame**, it is in **\"Command\"** mode, it means you can edit the cell as a whole, for example, you can copy, paste, delete, merge, insert cells in this status, using the menu in jupyter notebook interface, or with keyboard shortcuts. To enter the **Command** mode press **ESC** or click anywhere outside the cell. Here are some frequently used shortcuts for editing cells as a whole.\n",
    "\n",
    "> c(copy), x(cut), v(paste), dd(delete), a(insert before), b(insert after), o(dislay/hide output), l(line number), shift+m(merge)\n",
    "    \n",
    "   - When a cell is in a **green rectangle frame**, it is in the **\"Edit\"** mode, it means you can edit the content of the cell.You can enter this mode by pressing ``enter`` or clicking the mouse on a cell editor area. Here are some frequently used shortcuts for running and editing code cells.\n",
    "    \n",
    "> ctrl+enter(run the cell), shift+enter(run the current cell and jump to next cell), alt+enter(run the current cell and insert a new cell below), ctrl+/(comment the current line)\n",
    "\n",
    "There are a lot of other shortcuts and manipulations in jupyter notebook, you can always press 'h' in you keyboard when the cell is in **'Command'** mode to see the help, we also recommend you to go to \n",
    "[jupyter docs](https://jupyter-notebook.readthedocs.io/en/stable/) to check it out.\n"
   ]
  },
  {
   "cell_type": "markdown",
   "metadata": {},
   "source": [
    "## 1.3 Inputs\n",
    "* Input cells are code cells that the user can write code in. The code will be passed into the **kernel** of the jupyter notebook to interpret and run. And results will be displayed in the following output cells, which will be discussed later.\n",
    "* You can write python syntax statements in the input cells as you are writing python in any editor or IDE.\n",
    "* In python, line starts with # is comment.\n",
    "* Input cells start with a **In [ ]** in the left side of the cell, the number in the **[ ]** means the execution order of the cell. For example, a cell with **In [6]** at the left side means the cell in the 6th cell to be executed in the current notebook. **In [\\*]** means the current cell in still being executed. **In [ ]** means the current cell has not been run yet."
   ]
  },
  {
   "cell_type": "markdown",
   "metadata": {},
   "source": [
    "- to run the cell, press ``ctrl+enter``"
   ]
  },
  {
   "cell_type": "code",
   "execution_count": 1,
   "metadata": {},
   "outputs": [
    {
     "name": "stdout",
     "output_type": "stream",
     "text": [
      "1\n"
     ]
    }
   ],
   "source": [
    "# define variable x\n",
    "x=1\n",
    "print(x)"
   ]
  },
  {
   "cell_type": "markdown",
   "metadata": {},
   "source": [
    "- the variables in one notebook belong to the same python program file"
   ]
  },
  {
   "cell_type": "code",
   "execution_count": 2,
   "metadata": {},
   "outputs": [
    {
     "name": "stdout",
     "output_type": "stream",
     "text": [
      "2\n"
     ]
    }
   ],
   "source": [
    "# define variable y\n",
    "y=x+1   \n",
    "print(y)"
   ]
  },
  {
   "cell_type": "markdown",
   "metadata": {},
   "source": [
    "- In data science projects, tracing and displaying the current value of varibles is very important\n",
    "\n",
    "- you may run one cell multiple times"
   ]
  },
  {
   "cell_type": "code",
   "execution_count": 4,
   "metadata": {},
   "outputs": [
    {
     "name": "stdout",
     "output_type": "stream",
     "text": [
      "4\n"
     ]
    }
   ],
   "source": [
    "y=y+1\n",
    "print(y)  "
   ]
  },
  {
   "cell_type": "markdown",
   "metadata": {},
   "source": [
    "- In jupyter notebook, the order of cell execution is not decided by the order of the cells written in the notebook, but rather depends on the actual run order of the cell which can be decided by the user.\n",
    "\n",
    "- Most of the time, we run cells in their natural order.\n"
   ]
  },
  {
   "cell_type": "code",
   "execution_count": 5,
   "metadata": {},
   "outputs": [
    {
     "name": "stdout",
     "output_type": "stream",
     "text": [
      "5\n"
     ]
    }
   ],
   "source": [
    "z=x+y\n",
    "print(z)"
   ]
  },
  {
   "cell_type": "markdown",
   "metadata": {},
   "source": [
    "## 1.4 Outputs\n",
    "- Outputs display the output messages in jupyter notebook. The outputs have **Out [ ]** at the left side\n",
    "- The number in the **Out [ ]** is identical to the input cell that produce this output\n",
    "- Jupyter notebook will display the evaluation result of the last line. If you do not want the result to be displayed, you can add ``;`` after last line of code."
   ]
  },
  {
   "cell_type": "code",
   "execution_count": 6,
   "metadata": {},
   "outputs": [
    {
     "data": {
      "text/plain": [
       "'this is an output'"
      ]
     },
     "execution_count": 6,
     "metadata": {},
     "output_type": "execute_result"
    }
   ],
   "source": [
    "test = 'this is an output'\n",
    "test"
   ]
  },
  {
   "cell_type": "code",
   "execution_count": 6,
   "metadata": {},
   "outputs": [
    {
     "data": {
      "text/plain": [
       "5"
      ]
     },
     "execution_count": 6,
     "metadata": {},
     "output_type": "execute_result"
    }
   ],
   "source": [
    "x + y"
   ]
  },
  {
   "cell_type": "code",
   "execution_count": 7,
   "metadata": {},
   "outputs": [],
   "source": [
    "x+y;"
   ]
  },
  {
   "cell_type": "markdown",
   "metadata": {},
   "source": [
    "- In Python, we use **print()** function to print contents to the terminal, which is different in the output in jupyter notebook.\n",
    "- When writing a complete python program in a .py file, please use **print()** function instead of the syntax in jupyter notebook."
   ]
  },
  {
   "cell_type": "code",
   "execution_count": 8,
   "metadata": {},
   "outputs": [
    {
     "name": "stdout",
     "output_type": "stream",
     "text": [
      "difference between print function and output in jupyter notebook\n"
     ]
    },
    {
     "data": {
      "text/plain": [
       "'difference between print function and output in jupyter notebook'"
      ]
     },
     "execution_count": 8,
     "metadata": {},
     "output_type": "execute_result"
    }
   ],
   "source": [
    "test = 'difference between print function and output in jupyter notebook'\n",
    "print(test)\n",
    "test"
   ]
  },
  {
   "cell_type": "markdown",
   "metadata": {},
   "source": [
    "## 1.5 Errors and exceptions\n",
    "- It is more than often we encounter **error** messages when programming, we should see them as **friends** that are really helpful instead of **devils**.\n",
    "- **Error** messages usually give you a lot of clues of what go wrong and how to correct them"
   ]
  },
  {
   "cell_type": "code",
   "execution_count": 11,
   "metadata": {},
   "outputs": [],
   "source": [
    "defined_variable = 0\n",
    "# undefined_variable"
   ]
  },
  {
   "cell_type": "markdown",
   "metadata": {},
   "source": [
    "- Read the **error** messages carefully each time you encounter them, as you gain more and more experience, you will be able to correct them more and more easily\n",
    "- Some of the common errors that can be made by beginners can be find [here](https://inventwithpython.com/blog/2012/07/09/16-common-python-runtime-errors-beginners-find/)\n",
    "- You can always use google or [Python docs](https://docs.python.org/3/tutorial/errors.html) for more comprehensive explanations to the **errors** you encounter"
   ]
  },
  {
   "cell_type": "markdown",
   "metadata": {},
   "source": [
    "## 1.6 Read in data files from outside the program\n",
    "- The same as working with any programming language, if you want to read a file in the program, you need to specify the path the file actually lies in, or you can copy the file to your curret **working folder**\n",
    "- The way to check your current working folder is this"
   ]
  },
  {
   "cell_type": "code",
   "execution_count": 11,
   "metadata": {},
   "outputs": [
    {
     "name": "stdout",
     "output_type": "stream",
     "text": [
      "/home/mengrui/Lec01_JupyterBasics\n"
     ]
    }
   ],
   "source": [
    "import os # import the package \"os\" that contains functions related to the operation system\n",
    "print(os.getcwd())"
   ]
  },
  {
   "cell_type": "markdown",
   "metadata": {},
   "source": [
    "- Now you can download the file **bc_data.csv** from iSpace and \n",
    "    - upload the file to your working directory of the jupyter hub server you are using, or\n",
    "    - put the file in your working directory locally if you are using your own computer and jupyter notebook environment"
   ]
  },
  {
   "cell_type": "code",
   "execution_count": 12,
   "metadata": {},
   "outputs": [
    {
     "data": {
      "text/html": [
       "<div>\n",
       "<style scoped>\n",
       "    .dataframe tbody tr th:only-of-type {\n",
       "        vertical-align: middle;\n",
       "    }\n",
       "\n",
       "    .dataframe tbody tr th {\n",
       "        vertical-align: top;\n",
       "    }\n",
       "\n",
       "    .dataframe thead th {\n",
       "        text-align: right;\n",
       "    }\n",
       "</style>\n",
       "<table border=\"1\" class=\"dataframe\">\n",
       "  <thead>\n",
       "    <tr style=\"text-align: right;\">\n",
       "      <th></th>\n",
       "      <th>id</th>\n",
       "      <th>diagnosis</th>\n",
       "      <th>radius_mean</th>\n",
       "      <th>texture_mean</th>\n",
       "      <th>perimeter_mean</th>\n",
       "      <th>area_mean</th>\n",
       "      <th>smoothness_mean</th>\n",
       "      <th>compactness_mean</th>\n",
       "      <th>concavity_mean</th>\n",
       "      <th>concave points_mean</th>\n",
       "      <th>...</th>\n",
       "      <th>radius_worst</th>\n",
       "      <th>texture_worst</th>\n",
       "      <th>perimeter_worst</th>\n",
       "      <th>area_worst</th>\n",
       "      <th>smoothness_worst</th>\n",
       "      <th>compactness_worst</th>\n",
       "      <th>concavity_worst</th>\n",
       "      <th>concave_points_worst</th>\n",
       "      <th>symmetry_worst</th>\n",
       "      <th>fractal_dimension_worst</th>\n",
       "    </tr>\n",
       "  </thead>\n",
       "  <tbody>\n",
       "    <tr>\n",
       "      <th>0</th>\n",
       "      <td>842302</td>\n",
       "      <td>M</td>\n",
       "      <td>17.99</td>\n",
       "      <td>10.38</td>\n",
       "      <td>122.8</td>\n",
       "      <td>1001.0</td>\n",
       "      <td>0.11840</td>\n",
       "      <td>0.27760</td>\n",
       "      <td>0.3001</td>\n",
       "      <td>0.14710</td>\n",
       "      <td>...</td>\n",
       "      <td>25.38</td>\n",
       "      <td>17.33</td>\n",
       "      <td>184.6</td>\n",
       "      <td>2019.0</td>\n",
       "      <td>0.1622</td>\n",
       "      <td>0.6656</td>\n",
       "      <td>0.7119</td>\n",
       "      <td>0.2654</td>\n",
       "      <td>0.4601</td>\n",
       "      <td>0.11890</td>\n",
       "    </tr>\n",
       "    <tr>\n",
       "      <th>1</th>\n",
       "      <td>842517</td>\n",
       "      <td>M</td>\n",
       "      <td>20.57</td>\n",
       "      <td>17.77</td>\n",
       "      <td>132.9</td>\n",
       "      <td>1326.0</td>\n",
       "      <td>0.08474</td>\n",
       "      <td>0.07864</td>\n",
       "      <td>0.0869</td>\n",
       "      <td>0.07017</td>\n",
       "      <td>...</td>\n",
       "      <td>24.99</td>\n",
       "      <td>23.41</td>\n",
       "      <td>158.8</td>\n",
       "      <td>1956.0</td>\n",
       "      <td>0.1238</td>\n",
       "      <td>0.1866</td>\n",
       "      <td>0.2416</td>\n",
       "      <td>0.1860</td>\n",
       "      <td>0.2750</td>\n",
       "      <td>0.08902</td>\n",
       "    </tr>\n",
       "  </tbody>\n",
       "</table>\n",
       "<p>2 rows × 32 columns</p>\n",
       "</div>"
      ],
      "text/plain": [
       "       id diagnosis  radius_mean  texture_mean  perimeter_mean  area_mean  \\\n",
       "0  842302         M        17.99         10.38           122.8     1001.0   \n",
       "1  842517         M        20.57         17.77           132.9     1326.0   \n",
       "\n",
       "   smoothness_mean  compactness_mean  concavity_mean  concave points_mean  \\\n",
       "0          0.11840           0.27760          0.3001              0.14710   \n",
       "1          0.08474           0.07864          0.0869              0.07017   \n",
       "\n",
       "   ...  radius_worst  texture_worst  perimeter_worst  area_worst  \\\n",
       "0  ...         25.38          17.33            184.6      2019.0   \n",
       "1  ...         24.99          23.41            158.8      1956.0   \n",
       "\n",
       "   smoothness_worst  compactness_worst  concavity_worst  concave_points_worst  \\\n",
       "0            0.1622             0.6656           0.7119                0.2654   \n",
       "1            0.1238             0.1866           0.2416                0.1860   \n",
       "\n",
       "   symmetry_worst  fractal_dimension_worst  \n",
       "0          0.4601                  0.11890  \n",
       "1          0.2750                  0.08902  \n",
       "\n",
       "[2 rows x 32 columns]"
      ]
     },
     "execution_count": 12,
     "metadata": {},
     "output_type": "execute_result"
    }
   ],
   "source": [
    "from pandas import read_csv  # 'pandas' is a powerful data processing package in python which we will introduce later\n",
    "data = read_csv('bc_data.csv')\n",
    "data.head(2)"
   ]
  }
 ],
 "metadata": {
  "kernelspec": {
   "display_name": "Python 3",
   "language": "python",
   "name": "python3"
  },
  "language_info": {
   "codemirror_mode": {
    "name": "ipython",
    "version": 3
   },
   "file_extension": ".py",
   "mimetype": "text/x-python",
   "name": "python",
   "nbconvert_exporter": "python",
   "pygments_lexer": "ipython3",
   "version": "3.7.0"
  }
 },
 "nbformat": 4,
 "nbformat_minor": 2
}
