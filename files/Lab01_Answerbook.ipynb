{
 "cells": [
  {
   "cell_type": "markdown",
   "metadata": {},
   "source": [
    "# Lab 1"
   ]
  },
  {
   "cell_type": "markdown",
   "metadata": {},
   "source": [
    "### Exercise 1:\n",
    "\n",
    "Create a new cell below with the \"Insert Cell Below\" option. Change the cell type to Markdown from the drop-down menu at the top of the screen. Practice writing some Markdown in the cell. The cell should include a numbered list of links to your five favorite websites, with an H2 header for the title. The links should not simply be the website URLs, but should instead show the name of the website, which you can click to get to the website. Also, make the name of the first entry in bold, and the name of the second entry in italics.\n",
    "\n",
    "#### For Markdown tips, take a look at the [Markdown cheatsheet](http://nestacms.com/docs/creating-content/markdown-cheat-sheet) at this link. Also, a tip: you can view how I wrote Markdown in any of the cells in this notebook by double-clicking the cells!"
   ]
  },
  {
   "cell_type": "markdown",
   "metadata": {},
   "source": [
    "#TODO for exercise 1"
   ]
  },
  {
   "cell_type": "markdown",
   "metadata": {},
   "source": [
    "## My favorite websites\n",
    " 1. [**UICds official website**](https://uicdatascience.com)\n",
    " 2. [*Ispace*](https://ispace.uic.edu.hk/my/)\n",
    " 3. [Github](https://github.com/)\n",
    " 4. [Leetcode](https://leetcode.com/)\n",
    " 5. [CSDN](https://www.csdn.net)"
   ]
  },
  {
   "cell_type": "markdown",
   "metadata": {},
   "source": [
    "### Exercise 2:\n",
    "Write a Python program which accepts the name as input and print the hello message. \n",
    "- If the input is \"xxx\", output should be \"hello,xxx!\".\n",
    "- Use ``input()`` function, which reads the raw input and returns the string."
   ]
  },
  {
   "cell_type": "code",
   "execution_count": 1,
   "metadata": {},
   "outputs": [
    {
     "name": "stdout",
     "output_type": "stream",
     "text": [
      "DS\n",
      "hello,DS!\n"
     ]
    }
   ],
   "source": [
    "#TODO for exercise2\n",
    "name = input()\n",
    "print(\"hello,\"+name+\"!\")"
   ]
  },
  {
   "cell_type": "markdown",
   "metadata": {},
   "source": [
    "### Exercise3\n",
    "\n",
    "Define an integer variable ``num1``, whose value is 2; and a string variable ``num2`` with value \"3\". Calculate the sum of the numbers stored in the two variables."
   ]
  },
  {
   "cell_type": "code",
   "execution_count": null,
   "metadata": {},
   "outputs": [],
   "source": []
  },
  {
   "cell_type": "code",
   "execution_count": 2,
   "metadata": {},
   "outputs": [
    {
     "data": {
      "text/plain": [
       "5"
      ]
     },
     "execution_count": 2,
     "metadata": {},
     "output_type": "execute_result"
    }
   ],
   "source": [
    "#TODO for exercise3\n",
    "num1 = 2\n",
    "num2 = \"3\"\n",
    "nsum = 2 + int(num2)\n",
    "nsum"
   ]
  },
  {
   "cell_type": "markdown",
   "metadata": {},
   "source": [
    "### Exercise 4: \n",
    "\n",
    "Assign the number 31 to a new variable, q. Write an expression that calculate the power of q and output the result."
   ]
  },
  {
   "cell_type": "code",
   "execution_count": 3,
   "metadata": {},
   "outputs": [
    {
     "data": {
      "text/plain": [
       "961"
      ]
     },
     "execution_count": 3,
     "metadata": {},
     "output_type": "execute_result"
    }
   ],
   "source": [
    "#TODO for exercise4\n",
    "q = 31\n",
    "res = q * q\n",
    "res"
   ]
  },
  {
   "cell_type": "markdown",
   "metadata": {},
   "source": [
    "### Exercise 5:\n",
    "\n",
    "Write a Python program to get the volume of a sphere with radius 6. (**Hint: use ``math`` package for computation.**)"
   ]
  },
  {
   "cell_type": "code",
   "execution_count": 3,
   "metadata": {},
   "outputs": [
    {
     "data": {
      "text/plain": [
       "904.7786842338603"
      ]
     },
     "execution_count": 3,
     "metadata": {},
     "output_type": "execute_result"
    }
   ],
   "source": [
    "import math\n",
    "#TODO for exercise 5\n",
    "volume = (4/3)*math.pi * math.pow(6,3)\n",
    "volume"
   ]
  },
  {
   "cell_type": "markdown",
   "metadata": {},
   "source": [
    "### Exercise 6:\n",
    "Write a Python program to get the third bit (from right) of the binary representation of number 234, using bitwise operation. "
   ]
  },
  {
   "cell_type": "code",
   "execution_count": 2,
   "metadata": {},
   "outputs": [
    {
     "data": {
      "text/plain": [
       "0"
      ]
     },
     "execution_count": 2,
     "metadata": {},
     "output_type": "execute_result"
    }
   ],
   "source": [
    "num = 234\n",
    "#TODO for exercise6\n",
    "thirdbitfromright = (num & (1<<2))>>2\n",
    "thirdbitfromright"
   ]
  }
 ],
 "metadata": {
  "kernelspec": {
   "display_name": "Python 3",
   "language": "python",
   "name": "python3"
  },
  "language_info": {
   "codemirror_mode": {
    "name": "ipython",
    "version": 3
   },
   "file_extension": ".py",
   "mimetype": "text/x-python",
   "name": "python",
   "nbconvert_exporter": "python",
   "pygments_lexer": "ipython3",
   "version": "3.7.0"
  },
  "toc": {
   "base_numbering": 1,
   "nav_menu": {},
   "number_sections": true,
   "sideBar": true,
   "skip_h1_title": false,
   "title_cell": "Table of Contents",
   "title_sidebar": "Contents",
   "toc_cell": false,
   "toc_position": {},
   "toc_section_display": true,
   "toc_window_display": false
  }
 },
 "nbformat": 4,
 "nbformat_minor": 2
}
