{
 "cells": [
  {
   "cell_type": "markdown",
   "metadata": {},
   "source": [
    "## Database Exercise\n",
    "\n",
    "In this exercise, we are implementing a simply banking information system. We are using two relations Customer and Withdraw. The schemas are:\n",
    "\n",
    "- *Customer ( cust_id,name )* (*cust_id* is the primary key)\n",
    "- *Withdraw ( w_id, cust_id, acc_id,date, amount )* (*w_id* is the primary key)\n",
    "\n",
    "The SQL for creating the two tables are:\n",
    "- ``CREATE TABLE Customer (cust_id VARCHAR(20) PRIMARY KEY, name VARCHAR(20))``\n",
    "- ``CREATE TABLE Withdraw (w_id INTEGER PRIMARY KEY, cust_id INTEGER, acc_id VARCHAR(20), date DATE, ammount INTEGER)``\n",
    "\n",
    "Write programs to solve all the questions. Noted that:\n",
    "- Use any database you want. (MySQL, SQLite or any).\n",
    "- Also, you can use any DB-API or SQLAlchemy.\n",
    "- You can add more functions, as needed."
   ]
  },
  {
   "cell_type": "markdown",
   "metadata": {},
   "source": [
    "### Question 1\n",
    "\n",
    "Write program to create the two tables and insert tuples into the tables. The tables should looks like as follows:\n",
    "\n",
    "                                                        Customer\n",
    "\n",
    "|cust_id|name|\n",
    "|-----|-----|\n",
    "|101|Anna|\n",
    "|102|Bob|\n",
    "|103|Charles|\n",
    "|104|Damon|\n",
    "|105|Elena|\n",
    "\n",
    "                                                         Withdraw\n",
    "                                                         \n",
    "|w_id|cust_id|acc_id|date|amount|\n",
    "|---|---|---|---|---|\n",
    "|1|101|A01|2019-03-01|100|\n",
    "|2|102|A01|2019-03-02|200|\n",
    "|3|102|A02|2019-03-03|150|\n",
    "|4|103|A03|2019-03-04|180|\n",
    "|5|104|A04|2019-03-05|500|\n",
    "|6|105|A05|2019-03-06|300|"
   ]
  },
  {
   "cell_type": "code",
   "execution_count": 1,
   "metadata": {},
   "outputs": [],
   "source": [
    "def create_tables():\n",
    "    #TODO for Question1"
   ]
  },
  {
   "cell_type": "code",
   "execution_count": 2,
   "metadata": {},
   "outputs": [],
   "source": [
    "create_tables()"
   ]
  },
  {
   "cell_type": "markdown",
   "metadata": {
    "scrolled": true
   },
   "source": [
    "### Question 2"
   ]
  },
  {
   "cell_type": "markdown",
   "metadata": {},
   "source": [
    "Read all the information in table *Customer* and *Withdraw*, return the two tables as two DataFrames."
   ]
  },
  {
   "cell_type": "code",
   "execution_count": 3,
   "metadata": {},
   "outputs": [],
   "source": [
    "def read_table():\n",
    "    #TODO for Question2"
   ]
  },
  {
   "cell_type": "code",
   "execution_count": null,
   "metadata": {},
   "outputs": [],
   "source": [
    "cust,withd=read_table()\n",
    "cust"
   ]
  },
  {
   "cell_type": "code",
   "execution_count": null,
   "metadata": {},
   "outputs": [],
   "source": [
    "withd"
   ]
  },
  {
   "cell_type": "markdown",
   "metadata": {},
   "source": [
    "### Question 3"
   ]
  },
  {
   "cell_type": "markdown",
   "metadata": {},
   "source": [
    "Write a program to retrieve the ``cust-id`` of the customer who withdraw the largest number of times."
   ]
  },
  {
   "cell_type": "code",
   "execution_count": null,
   "metadata": {},
   "outputs": [],
   "source": [
    "def largetime_cust():\n",
    "    #TODO for Question3"
   ]
  },
  {
   "cell_type": "code",
   "execution_count": null,
   "metadata": {},
   "outputs": [],
   "source": [
    "largetime_cust()"
   ]
  }
 ],
 "metadata": {
  "kernelspec": {
   "display_name": "Python 3",
   "language": "python",
   "name": "python3"
  },
  "language_info": {
   "codemirror_mode": {
    "name": "ipython",
    "version": 3
   },
   "file_extension": ".py",
   "mimetype": "text/x-python",
   "name": "python",
   "nbconvert_exporter": "python",
   "pygments_lexer": "ipython3",
   "version": "3.7.1"
  },
  "toc": {
   "base_numbering": 1,
   "nav_menu": {},
   "number_sections": false,
   "sideBar": true,
   "skip_h1_title": false,
   "title_cell": "Table of Contents",
   "title_sidebar": "Contents",
   "toc_cell": false,
   "toc_position": {},
   "toc_section_display": true,
   "toc_window_display": false
  }
 },
 "nbformat": 4,
 "nbformat_minor": 2
}
