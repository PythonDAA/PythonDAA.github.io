{
 "cells": [
  {
   "cell_type": "markdown",
   "metadata": {},
   "source": [
    "## Open Information Extraction\n",
    "Open information extraction (open IE) refers to the extraction of relation tuples, typically binary relations, from plain text, such as (Mark Zuckerberg; founded; Facebook). The central difference from other information extraction is that the schema for these relations does not need to be specified in advance; typically the relation name is just the text linking two arguments.\n",
    "- StanfordOpenIE (https://nlp.stanford.edu/software/openie.html) StanfordOpenIE is part of StanfordCoreNLP, which is built on top of PyTorch 1.0.0. \n",
    " - Therefore, first install pytorch (https://pytorch.org/get-started/locally/), select your  os, package, language, cuda , then use the   command to install.\n",
    " - Install StanfordOpenIE using ``pip install stanford-openie``(https://pypi.org/project/stanford-openie/)"
   ]
  },
  {
   "cell_type": "code",
   "execution_count": 1,
   "metadata": {},
   "outputs": [],
   "source": [
    "import nltk\n",
    "from nltk import pos_tag, word_tokenize, ne_chunk, Tree\n",
    "from openie import StanfordOpenIE\n",
    "from graphviz import Digraph"
   ]
  },
  {
   "cell_type": "markdown",
   "metadata": {},
   "source": [
    "### Triple Extraction from text using ``StanfordOpenIE``"
   ]
  },
  {
   "cell_type": "code",
   "execution_count": 2,
   "metadata": {},
   "outputs": [
    {
     "name": "stdout",
     "output_type": "stream",
     "text": [
      "Text: Barack Obama was the 44th president of the United States.\n",
      "Starting server with command: java -Xmx8G -cp C:\\Users\\UIC\\stanfordnlp_resources\\stanford-corenlp-full-2018-10-05/* edu.stanford.nlp.pipeline.StanfordCoreNLPServer -port 9000 -timeout 60000 -threads 5 -maxCharLength 100000 -quiet True -serverProperties corenlp_server-1b771d0d66274c7f.props -preload openie\n",
      "|- {'subject': 'Barack Obama', 'relation': 'was 44th president of', 'object': 'United States'}\n",
      "|- {'subject': 'Barack Obama', 'relation': 'was president of', 'object': 'United States'}\n",
      "|- {'subject': 'Barack Obama', 'relation': 'was', 'object': 'president'}\n",
      "|- {'subject': 'Barack Obama', 'relation': 'was', 'object': '44th president'}\n"
     ]
    }
   ],
   "source": [
    "# Example code for using StanfordOpenIE in python\n",
    "from openie import StanfordOpenIE\n",
    "\n",
    "with StanfordOpenIE() as client:\n",
    "    text = 'Barack Obama was the 44th president of the United States'\n",
    "    print('Text: %s.' % text)\n",
    "    for triple in client.annotate(text):\n",
    "        print('|-', triple)"
   ]
  },
  {
   "cell_type": "markdown",
   "metadata": {},
   "source": [
    "For each sentence, StanfordOpenIE will return several triples with high confidence scores. To further refine the results, we can perform filtering by some constraints:\n",
    "- The subjet and object must be named entity from some predfined types\n",
    "- The relation must be verb or verb phrases (chunk rule)\n",
    "\n",
    "Come up with your own refinement strategy to get a better result."
   ]
  },
  {
   "cell_type": "code",
   "execution_count": 3,
   "metadata": {
    "scrolled": true
   },
   "outputs": [
    {
     "name": "stdout",
     "output_type": "stream",
     "text": [
      "Text:  Barack Obama was the 44th president of the United States, and the first African American to serve in the office.\n",
      "          On October 3, 1992,  Barack Obama married  Michelle Robinson at Trinity United Church in Chicago. .\n",
      "Starting server with command: java -Xmx8G -cp C:\\Users\\UIC\\stanfordnlp_resources\\stanford-corenlp-full-2018-10-05/* edu.stanford.nlp.pipeline.StanfordCoreNLPServer -port 9000 -timeout 60000 -threads 5 -maxCharLength 100000 -quiet True -serverProperties corenlp_server-220dca3bc8984afa.props -preload openie\n",
      "Extracted Triples: [['Barack Obama', 'was 44th president of', 'United States'], ['Barack Obama', 'was president of', 'United States'], ['Barack Obama', 'married', 'Michelle Robinson'], ['Barack Obama', 'married Michelle Robinson at', 'Trinity United Church'], ['Barack Obama', 'married Michelle Robinson in', 'Chicago']]\n"
     ]
    }
   ],
   "source": [
    "\n",
    "def get_chunks(text):\n",
    "    chunked = ne_chunk(pos_tag(word_tokenize(text)))\n",
    "    ents = []\n",
    "    for i in chunked:\n",
    "        if type(i) == Tree:\n",
    "            label = i.label()\n",
    "            ent = \" \".join([token for token, pos in i.leaves()])\n",
    "            ents.append(ent)\n",
    "    return ents\n",
    "\n",
    "def extract_triple(text):\n",
    "    triples = []\n",
    "    ne = get_chunks(text)\n",
    "    with StanfordOpenIE() as client:\n",
    "        print('Text: %s.' % text)\n",
    "        for triple in client.annotate(text):\n",
    "            if triple['subject'] in ne and triple['object'] in ne:\n",
    "                triples.append([triple['subject'], triple['relation'],  triple['object']])\n",
    "    \n",
    "    return triples\n",
    "\n",
    "\n",
    "tr = extract_triple(\"\"\" Barack Obama was the 44th president of the United States, and the first African American to serve in the office.\n",
    "          On October 3, 1992,  Barack Obama married  Michelle Robinson at Trinity United Church in Chicago. \"\"\")\n",
    "print(\"Extracted Triples:\",tr)"
   ]
  },
  {
   "cell_type": "markdown",
   "metadata": {},
   "source": [
    "### Construct the KB from Triples\n",
    "- Get the entity set and relation set"
   ]
  },
  {
   "cell_type": "code",
   "execution_count": 4,
   "metadata": {
    "scrolled": true
   },
   "outputs": [
    {
     "name": "stdout",
     "output_type": "stream",
     "text": [
      "Entities: {0: 'Michelle Robinson', 1: 'United States', 2: 'Barack Obama', 3: 'Chicago', 4: 'Trinity United Church'} \n",
      "Relations: {0: 'married', 1: 'was 44th president of', 2: 'married Michelle Robinson in', 3: 'married Michelle Robinson at', 4: 'was president of'} \n",
      "Triples: [[2, 1, 1], [2, 4, 1], [2, 0, 0], [2, 3, 4], [2, 2, 3]]\n"
     ]
    }
   ],
   "source": [
    "def KB(triples):\n",
    "    dot = Digraph(comment='Knowledge Graph Demo')\n",
    "    ent = []\n",
    "    rel = []\n",
    "    for triple in triples:\n",
    "        sub = triple[0]\n",
    "        re = triple[1]\n",
    "        ob = triple[2]\n",
    "        ent.append(sub)\n",
    "        ent.append(ob)\n",
    "        rel.append(re)\n",
    "    \n",
    "    en_id = {}\n",
    "    re_id = {}\n",
    "    triples_id = []\n",
    "    eid = 0\n",
    "    rid = 0\n",
    "    id_en = dict(zip(range(len(set(ent))),set(ent)))\n",
    "    en_id = dict(zip(set(ent), range(len(set(ent)))))\n",
    "    id_re = dict(zip(range(len(set(rel))),set(rel)))\n",
    "    re_id = dict(zip(set(rel), range(len(set(rel)))))\n",
    "    \n",
    "    for triple in triples:\n",
    "        sub = triple[0]\n",
    "        re = triple[1]\n",
    "        ob = triple[2]\n",
    "        triples_id.append([en_id[sub],re_id[re],en_id[ob]])\n",
    "    return id_en,id_re,triples_id\n",
    "\n",
    "kb = KB(tr)\n",
    "print(\"Entities:\", kb[0], \"\\nRelations:\",kb[1], \"\\nTriples:\",kb[2])"
   ]
  },
  {
   "cell_type": "markdown",
   "metadata": {},
   "source": [
    "### Visualize the KB using ``graphviz``\n",
    "- To render the graph, the dependency is a working installation of ``Graphviz`` (https://www.graphviz.org/download/).\n",
    "- After installing Graphviz, make sure that its ``bin/`` subdirectory containing the layout commands for rendering graph descriptions (dot, circo, neato, etc.) is on your systems’ path: On the command-line, ``dot -V`` should print the version of your Graphiz installation."
   ]
  },
  {
   "cell_type": "code",
   "execution_count": 5,
   "metadata": {
    "scrolled": true
   },
   "outputs": [
    {
     "name": "stdout",
     "output_type": "stream",
     "text": [
      "// KB-Demo\n",
      "digraph {\n",
      "\t0 [label=\"Michelle Robinson\"]\n",
      "\t1 [label=\"United States\"]\n",
      "\t2 [label=\"Barack Obama\"]\n",
      "\t3 [label=Chicago]\n",
      "\t4 [label=\"Trinity United Church\"]\n",
      "\t2 -> 1 [label=\"was 44th president of\"]\n",
      "\t2 -> 1 [label=\"was president of\"]\n",
      "\t2 -> 0 [label=married]\n",
      "\t2 -> 4 [label=\"married Michelle Robinson at\"]\n",
      "\t2 -> 3 [label=\"married Michelle Robinson in\"]\n",
      "}\n"
     ]
    }
   ],
   "source": [
    "def visualizeKB(kb_input):\n",
    "    id_en = kb_input[0]\n",
    "    id_re = kb_input[1]\n",
    "    triples_id = kb_input[2]\n",
    "    dot = Digraph(comment='KB-Demo')\n",
    "    for eid,en in id_en.items():\n",
    "#         print(eid,en)\n",
    "        dot.node(\"{0}\".format(eid),en)\n",
    "    for triple in triples_id:\n",
    "#         print(triple[0],triple[1],triple[2])\n",
    "        dot.edge(\"{0}\".format(triple[0]),\"{0}\".format(triple[2]),\"{0}\".format(id_re[triple[1]]))\n",
    "    return dot\n",
    "dot = visualizeKB(kb)\n",
    "print(dot.source)"
   ]
  },
  {
   "cell_type": "code",
   "execution_count": 6,
   "metadata": {},
   "outputs": [
    {
     "data": {
      "image/svg+xml": [
       "<?xml version=\"1.0\" encoding=\"UTF-8\" standalone=\"no\"?>\r\n",
       "<!DOCTYPE svg PUBLIC \"-//W3C//DTD SVG 1.1//EN\"\r\n",
       " \"http://www.w3.org/Graphics/SVG/1.1/DTD/svg11.dtd\">\r\n",
       "<!-- Generated by graphviz version 2.38.0 (20140413.2041)\r\n",
       " -->\r\n",
       "<!-- Title: %3 Pages: 1 -->\r\n",
       "<svg width=\"744pt\" height=\"131pt\"\r\n",
       " viewBox=\"0.00 0.00 744.29 131.00\" xmlns=\"http://www.w3.org/2000/svg\" xmlns:xlink=\"http://www.w3.org/1999/xlink\">\r\n",
       "<g id=\"graph0\" class=\"graph\" transform=\"scale(1 1) rotate(0) translate(4 127)\">\r\n",
       "<title>%3</title>\r\n",
       "<polygon fill=\"white\" stroke=\"none\" points=\"-4,4 -4,-127 740.293,-127 740.293,4 -4,4\"/>\r\n",
       "<!-- 0 -->\r\n",
       "<g id=\"node1\" class=\"node\"><title>0</title>\r\n",
       "<ellipse fill=\"none\" stroke=\"black\" cx=\"79.293\" cy=\"-18\" rx=\"79.0865\" ry=\"18\"/>\r\n",
       "<text text-anchor=\"middle\" x=\"79.293\" y=\"-14.3\" font-family=\"Times New Roman,serif\" font-size=\"14.00\">Michelle Robinson</text>\r\n",
       "</g>\r\n",
       "<!-- 1 -->\r\n",
       "<g id=\"node2\" class=\"node\"><title>1</title>\r\n",
       "<ellipse fill=\"none\" stroke=\"black\" cx=\"261.293\" cy=\"-18\" rx=\"59.2899\" ry=\"18\"/>\r\n",
       "<text text-anchor=\"middle\" x=\"261.293\" y=\"-14.3\" font-family=\"Times New Roman,serif\" font-size=\"14.00\">United States</text>\r\n",
       "</g>\r\n",
       "<!-- 2 -->\r\n",
       "<g id=\"node3\" class=\"node\"><title>2</title>\r\n",
       "<ellipse fill=\"none\" stroke=\"black\" cx=\"289.293\" cy=\"-105\" rx=\"64.9885\" ry=\"18\"/>\r\n",
       "<text text-anchor=\"middle\" x=\"289.293\" y=\"-101.3\" font-family=\"Times New Roman,serif\" font-size=\"14.00\">Barack Obama</text>\r\n",
       "</g>\r\n",
       "<!-- 2&#45;&gt;0 -->\r\n",
       "<g id=\"edge3\" class=\"edge\"><title>2&#45;&gt;0</title>\r\n",
       "<path fill=\"none\" stroke=\"black\" d=\"M226.89,-99.4949C178.158,-94.7614 115.577,-85.6161 96.293,-69 89.5773,-63.2133 85.5095,-54.6654 83.0473,-46.2675\"/>\r\n",
       "<polygon fill=\"black\" stroke=\"black\" points=\"86.4084,-45.2641 80.7704,-36.2939 79.584,-46.8221 86.4084,-45.2641\"/>\r\n",
       "<text text-anchor=\"middle\" x=\"117.793\" y=\"-57.8\" font-family=\"Times New Roman,serif\" font-size=\"14.00\">married</text>\r\n",
       "</g>\r\n",
       "<!-- 2&#45;&gt;1 -->\r\n",
       "<g id=\"edge1\" class=\"edge\"><title>2&#45;&gt;1</title>\r\n",
       "<path fill=\"none\" stroke=\"black\" d=\"M230.791,-97.0304C196.129,-91.5632 156.944,-82.5722 146.293,-69 142.177,-63.7555 142.324,-59.3565 146.293,-54 153.473,-44.31 177.609,-36.2356 201.929,-30.2931\"/>\r\n",
       "<polygon fill=\"black\" stroke=\"black\" points=\"203.002,-33.6369 211.947,-27.9596 201.414,-26.8194 203.002,-33.6369\"/>\r\n",
       "<text text-anchor=\"middle\" x=\"206.793\" y=\"-57.8\" font-family=\"Times New Roman,serif\" font-size=\"14.00\">was 44th president of</text>\r\n",
       "</g>\r\n",
       "<!-- 2&#45;&gt;1 -->\r\n",
       "<g id=\"edge2\" class=\"edge\"><title>2&#45;&gt;1</title>\r\n",
       "<path fill=\"none\" stroke=\"black\" d=\"M283.627,-86.799C279.756,-75.0474 274.548,-59.2383 270.135,-45.8421\"/>\r\n",
       "<polygon fill=\"black\" stroke=\"black\" points=\"273.404,-44.5783 266.951,-36.1754 266.755,-46.7685 273.404,-44.5783\"/>\r\n",
       "<text text-anchor=\"middle\" x=\"322.793\" y=\"-57.8\" font-family=\"Times New Roman,serif\" font-size=\"14.00\">was president of</text>\r\n",
       "</g>\r\n",
       "<!-- 3 -->\r\n",
       "<g id=\"node4\" class=\"node\"><title>3</title>\r\n",
       "<ellipse fill=\"none\" stroke=\"black\" cx=\"405.293\" cy=\"-18\" rx=\"40.8928\" ry=\"18\"/>\r\n",
       "<text text-anchor=\"middle\" x=\"405.293\" y=\"-14.3\" font-family=\"Times New Roman,serif\" font-size=\"14.00\">Chicago</text>\r\n",
       "</g>\r\n",
       "<!-- 2&#45;&gt;3 -->\r\n",
       "<g id=\"edge5\" class=\"edge\"><title>2&#45;&gt;3</title>\r\n",
       "<path fill=\"none\" stroke=\"black\" d=\"M333.1,-91.4988C346.958,-86.1081 361.675,-78.749 373.293,-69 381.178,-62.3836 387.781,-53.3195 392.903,-44.7246\"/>\r\n",
       "<polygon fill=\"black\" stroke=\"black\" points=\"396.104,-46.1672 397.869,-35.7204 389.974,-42.7865 396.104,-46.1672\"/>\r\n",
       "<text text-anchor=\"middle\" x=\"468.793\" y=\"-57.8\" font-family=\"Times New Roman,serif\" font-size=\"14.00\">married Michelle Robinson in</text>\r\n",
       "</g>\r\n",
       "<!-- 4 -->\r\n",
       "<g id=\"node5\" class=\"node\"><title>4</title>\r\n",
       "<ellipse fill=\"none\" stroke=\"black\" cx=\"593.293\" cy=\"-18\" rx=\"90.1842\" ry=\"18\"/>\r\n",
       "<text text-anchor=\"middle\" x=\"593.293\" y=\"-14.3\" font-family=\"Times New Roman,serif\" font-size=\"14.00\">Trinity United Church</text>\r\n",
       "</g>\r\n",
       "<!-- 2&#45;&gt;4 -->\r\n",
       "<g id=\"edge4\" class=\"edge\"><title>2&#45;&gt;4</title>\r\n",
       "<path fill=\"none\" stroke=\"black\" d=\"M353.02,-101.224C420.551,-97.3075 521.957,-88.3479 555.293,-69 565.155,-63.2764 573.3,-53.8852 579.487,-44.7779\"/>\r\n",
       "<polygon fill=\"black\" stroke=\"black\" points=\"582.477,-46.5972 584.809,-36.2622 576.541,-42.8869 582.477,-46.5972\"/>\r\n",
       "<text text-anchor=\"middle\" x=\"653.793\" y=\"-57.8\" font-family=\"Times New Roman,serif\" font-size=\"14.00\">married Michelle Robinson at</text>\r\n",
       "</g>\r\n",
       "</g>\r\n",
       "</svg>\r\n"
      ],
      "text/plain": [
       "<graphviz.dot.Digraph at 0x1cb76415948>"
      ]
     },
     "execution_count": 6,
     "metadata": {},
     "output_type": "execute_result"
    }
   ],
   "source": [
    "dot.render('kb-demo', view=True) \n",
    "dot"
   ]
  }
 ],
 "metadata": {
  "kernelspec": {
   "display_name": "Python 3",
   "language": "python",
   "name": "python3"
  },
  "language_info": {
   "codemirror_mode": {
    "name": "ipython",
    "version": 3
   },
   "file_extension": ".py",
   "mimetype": "text/x-python",
   "name": "python",
   "nbconvert_exporter": "python",
   "pygments_lexer": "ipython3",
   "version": "3.7.0"
  }
 },
 "nbformat": 4,
 "nbformat_minor": 2
}
