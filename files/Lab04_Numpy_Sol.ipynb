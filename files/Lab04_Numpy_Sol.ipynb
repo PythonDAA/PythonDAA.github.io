{
 "cells": [
  {
   "cell_type": "markdown",
   "metadata": {},
   "source": [
    "# Lab 4"
   ]
  },
  {
   "cell_type": "code",
   "execution_count": 5,
   "metadata": {},
   "outputs": [
    {
     "name": "stdout",
     "output_type": "stream",
     "text": [
      "5\n"
     ]
    }
   ],
   "source": [
    "x = 5\n",
    "def testF():\n",
    "    print(5)\n",
    "testF()"
   ]
  },
  {
   "cell_type": "code",
   "execution_count": 2,
   "metadata": {},
   "outputs": [],
   "source": [
    "import numpy as np"
   ]
  },
  {
   "cell_type": "markdown",
   "metadata": {},
   "source": [
    "### Exercise 1:\n",
    "\n",
    "Create an one dimensional array x with 100 integers, each integer is randomly selected from 0-9 with equal probability."
   ]
  },
  {
   "cell_type": "code",
   "execution_count": 2,
   "metadata": {},
   "outputs": [],
   "source": [
    "#hint\n",
    "np.random.randint?"
   ]
  },
  {
   "cell_type": "code",
   "execution_count": 4,
   "metadata": {},
   "outputs": [
    {
     "data": {
      "text/plain": [
       "numpy.ndarray"
      ]
     },
     "execution_count": 4,
     "metadata": {},
     "output_type": "execute_result"
    }
   ],
   "source": [
    "#Todo\n",
    "# x=np.array(np.random.randint(0,10,100))\n",
    "x = np.random.randint(0,10,100)"
   ]
  },
  {
   "cell_type": "markdown",
   "metadata": {},
   "source": [
    "### Exercise 2: \n",
    "\n",
    "Reverse the elements in x, i.e., first element becomes last, and so on..."
   ]
  },
  {
   "cell_type": "code",
   "execution_count": 4,
   "metadata": {},
   "outputs": [
    {
     "data": {
      "text/plain": [
       "array([9, 9, 9, 0, 1, 9, 4, 4, 2, 1, 2, 5, 4, 0, 0, 8, 6, 4, 1, 7, 9, 3,\n",
       "       0, 8, 7, 0, 7, 6, 9, 3, 5, 1, 8, 7, 9, 2, 8, 7, 9, 5, 5, 7, 0, 0,\n",
       "       1, 9, 1, 8, 8, 3, 1, 8, 0, 5, 1, 9, 4, 5, 6, 4, 3, 3, 7, 3, 3, 1,\n",
       "       1, 8, 9, 1, 6, 3, 6, 7, 0, 3, 8, 0, 8, 6, 9, 2, 3, 0, 2, 8, 9, 1,\n",
       "       5, 0, 7, 3, 2, 1, 3, 6, 8, 3, 6, 7])"
      ]
     },
     "execution_count": 4,
     "metadata": {},
     "output_type": "execute_result"
    }
   ],
   "source": [
    "#TODO for exercise 2\n",
    "x[::-1]"
   ]
  },
  {
   "cell_type": "markdown",
   "metadata": {},
   "source": [
    "### Exercise 3:\n",
    "\n",
    "Find indices of non-zero elements from x, and put the indices into variable y.\n",
    "How many elements in your array x are non-zeros?"
   ]
  },
  {
   "cell_type": "code",
   "execution_count": 5,
   "metadata": {},
   "outputs": [],
   "source": [
    "#Hint\n",
    "np.nonzero?"
   ]
  },
  {
   "cell_type": "code",
   "execution_count": 6,
   "metadata": {
    "scrolled": true
   },
   "outputs": [
    {
     "name": "stdout",
     "output_type": "stream",
     "text": [
      "(array([ 0,  1,  2,  3,  4,  5,  6,  7,  8,  9, 11, 12, 13, 14, 15, 17, 18,\n",
      "       19, 20, 21, 23, 24, 26, 27, 28, 29, 30, 31, 32, 33, 34, 35, 36, 37,\n",
      "       38, 39, 40, 41, 42, 43, 44, 45, 46, 48, 49, 50, 51, 52, 53, 54, 55,\n",
      "       58, 59, 60, 61, 62, 63, 64, 65, 66, 67, 68, 69, 70, 71, 72, 73, 75,\n",
      "       76, 78, 79, 80, 81, 82, 83, 84, 87, 88, 89, 90, 91, 92, 93, 94, 95,\n",
      "       97, 98, 99]),)\n"
     ]
    },
    {
     "data": {
      "text/plain": [
       "88"
      ]
     },
     "execution_count": 6,
     "metadata": {},
     "output_type": "execute_result"
    }
   ],
   "source": [
    "#TODO for exercise 3\n",
    "# indices of non-zero elements\n",
    "y = x.nonzero()\n",
    "print(y)\n",
    "#count elements in  array x which are non-zeros\n",
    "np.count_nonzero(x)"
   ]
  },
  {
   "cell_type": "markdown",
   "metadata": {},
   "source": [
    "### Exercise 4:\n",
    "\n",
    "Find the mean of the original random array x."
   ]
  },
  {
   "cell_type": "code",
   "execution_count": 7,
   "metadata": {},
   "outputs": [
    {
     "data": {
      "text/plain": [
       "4.54"
      ]
     },
     "execution_count": 7,
     "metadata": {},
     "output_type": "execute_result"
    }
   ],
   "source": [
    "#TODO for exercise 4\n",
    "np.mean(x)"
   ]
  },
  {
   "cell_type": "markdown",
   "metadata": {},
   "source": [
    "### Exercise 5:\n",
    "\n",
    "Count how many elements are larger than 5 (>5) in the array of x"
   ]
  },
  {
   "cell_type": "code",
   "execution_count": 8,
   "metadata": {},
   "outputs": [
    {
     "data": {
      "text/plain": [
       "43"
      ]
     },
     "execution_count": 8,
     "metadata": {},
     "output_type": "execute_result"
    }
   ],
   "source": [
    "# Todo for exercise 5\n",
    "np.count_nonzero(x>5)\n",
    "# np.sum(x>5)"
   ]
  },
  {
   "cell_type": "markdown",
   "metadata": {},
   "source": [
    "### Exercise 6\n",
    "\n",
    "Reshape the array x into a two dimensional 10x10 matrix, and calculate the square root of each element, save the result to another 10x10 matrix z."
   ]
  },
  {
   "cell_type": "code",
   "execution_count": 9,
   "metadata": {},
   "outputs": [
    {
     "data": {
      "text/plain": [
       "array([[2.64575131, 2.44948974, 1.73205081, 2.82842712, 2.44948974,\n",
       "        1.73205081, 1.        , 1.41421356, 1.73205081, 2.64575131],\n",
       "       [0.        , 2.23606798, 1.        , 3.        , 2.82842712,\n",
       "        1.41421356, 0.        , 1.73205081, 1.41421356, 3.        ],\n",
       "       [2.44948974, 2.82842712, 0.        , 2.82842712, 1.73205081,\n",
       "        0.        , 2.64575131, 2.44948974, 1.73205081, 2.44948974],\n",
       "       [1.        , 3.        , 2.82842712, 1.        , 1.        ,\n",
       "        1.73205081, 1.73205081, 2.64575131, 1.73205081, 1.73205081],\n",
       "       [2.        , 2.44948974, 2.23606798, 2.        , 3.        ,\n",
       "        1.        , 2.23606798, 0.        , 2.82842712, 1.        ],\n",
       "       [1.73205081, 2.82842712, 2.82842712, 1.        , 3.        ,\n",
       "        1.        , 0.        , 0.        , 2.64575131, 2.23606798],\n",
       "       [2.23606798, 3.        , 2.64575131, 2.82842712, 1.41421356,\n",
       "        3.        , 2.64575131, 2.82842712, 1.        , 2.23606798],\n",
       "       [1.73205081, 3.        , 2.44948974, 2.64575131, 0.        ,\n",
       "        2.64575131, 2.82842712, 0.        , 1.73205081, 3.        ],\n",
       "       [2.64575131, 1.        , 2.        , 2.44948974, 2.82842712,\n",
       "        0.        , 0.        , 2.        , 2.23606798, 1.41421356],\n",
       "       [1.        , 1.41421356, 2.        , 2.        , 3.        ,\n",
       "        1.        , 0.        , 3.        , 3.        , 3.        ]])"
      ]
     },
     "execution_count": 9,
     "metadata": {},
     "output_type": "execute_result"
    }
   ],
   "source": [
    "#TODO for exercise 6\n",
    "#reshape\n",
    "y = x.reshape((10,10))\n",
    "#calculate the square root of each element\n",
    "z = np.sqrt(y)\n",
    "z"
   ]
  },
  {
   "cell_type": "markdown",
   "metadata": {},
   "source": [
    "### Exercise 7\n",
    "\n",
    "Find out all the elements that are larger than 1 in z, replace them with 1."
   ]
  },
  {
   "cell_type": "code",
   "execution_count": 10,
   "metadata": {},
   "outputs": [
    {
     "data": {
      "text/plain": [
       "array([[1., 1., 1., 1., 1., 1., 1., 1., 1., 1.],\n",
       "       [0., 1., 1., 1., 1., 1., 0., 1., 1., 1.],\n",
       "       [1., 1., 0., 1., 1., 0., 1., 1., 1., 1.],\n",
       "       [1., 1., 1., 1., 1., 1., 1., 1., 1., 1.],\n",
       "       [1., 1., 1., 1., 1., 1., 1., 0., 1., 1.],\n",
       "       [1., 1., 1., 1., 1., 1., 0., 0., 1., 1.],\n",
       "       [1., 1., 1., 1., 1., 1., 1., 1., 1., 1.],\n",
       "       [1., 1., 1., 1., 0., 1., 1., 0., 1., 1.],\n",
       "       [1., 1., 1., 1., 1., 0., 0., 1., 1., 1.],\n",
       "       [1., 1., 1., 1., 1., 1., 0., 1., 1., 1.]])"
      ]
     },
     "execution_count": 10,
     "metadata": {},
     "output_type": "execute_result"
    }
   ],
   "source": [
    "# Todo for exercise 7\n",
    "# Hint: use fancy indexing \n",
    "z[z>1] =1\n",
    "z"
   ]
  },
  {
   "cell_type": "markdown",
   "metadata": {},
   "source": [
    "### Exercise 8\n",
    "\n",
    "For the \"count rainy days in seatle\" example in lecture notes, do the following:\n",
    "1. What's the percentage of rainy days in year 2014 in seatle?\n",
    "2. How many days are rainy but with less than 0.3 inches rain?\n",
    "3. Suppose autumn is from Sept. 20 to Dec. 22, what is the MEAN precipitation in autum 2014 in seatle? And what is the MEAN precipitation in RAINY, NON-AUTUMN days in seatle 2014? "
   ]
  },
  {
   "cell_type": "code",
   "execution_count": 11,
   "metadata": {},
   "outputs": [
    {
     "name": "stdout",
     "output_type": "stream",
     "text": [
      "The percentage of rainy days in year 2014 in seatle:  41.10%\n",
      "The number of days are rainy but with less than 0.3 inches rain:  92\n",
      "MEAN precipitation in autumn 2014 in seatle:  0.18657993837726802\n",
      "MEAN precipitation in RAINY, NON-AUTUMN days in seatle 2014:  0.32010284428732116\n"
     ]
    }
   ],
   "source": [
    "import numpy as np\n",
    "import pandas as pd\n",
    "\n",
    "# use pandas to extract rainfall inches as a NumPy array\n",
    "rainfall = pd.read_csv('../Numpy/Seattle2014.csv')['PRCP'].values\n",
    "inches = rainfall / 254.0  # 1/10mm -> inches\n",
    "\n",
    "#Todo for exercise 8\n",
    "#1\n",
    "rainy_days_num = np.count_nonzero(inches> 0)\n",
    "print(\"The percentage of rainy days in year 2014 in seatle: \",\"{:.2%}\".format(rainy_days_num/365))\n",
    "#2\n",
    "smalllrain_days = np.sum((inches>0) & (inches < 0.3))\n",
    "print(\"The number of days are rainy but with less than 0.3 inches rain: \", smalllrain_days)\n",
    "#3\n",
    "days = np.arange(365)\n",
    "autumn = (days>262)&(days<355)\n",
    "rainy_days = (inches > 0)\n",
    "\n",
    "precipitation_autumn=np.mean(inches[autumn])\n",
    "print(\"MEAN precipitation in autumn 2014 in seatle: \",precipitation_autumn)\n",
    "precipitation_rainy_nonautumn=np.mean(inches[rainy_days &~autumn])\n",
    "print(\"MEAN precipitation in RAINY, NON-AUTUMN days in seatle 2014: \", precipitation_rainy_nonautumn)"
   ]
  },
  {
   "cell_type": "code",
   "execution_count": 6,
   "metadata": {},
   "outputs": [
    {
     "name": "stdout",
     "output_type": "stream",
     "text": [
      "[0 1 2 3 4 5 6 7 8 9]\n"
     ]
    }
   ],
   "source": [
    "import numpy as np\n",
    "print(np.arange(10))"
   ]
  }
 ],
 "metadata": {
  "kernelspec": {
   "display_name": "Python 3",
   "language": "python",
   "name": "python3"
  },
  "language_info": {
   "codemirror_mode": {
    "name": "ipython",
    "version": 3
   },
   "file_extension": ".py",
   "mimetype": "text/x-python",
   "name": "python",
   "nbconvert_exporter": "python",
   "pygments_lexer": "ipython3",
   "version": "3.7.1"
  },
  "toc": {
   "base_numbering": 1,
   "nav_menu": {},
   "number_sections": true,
   "sideBar": true,
   "skip_h1_title": false,
   "title_cell": "Table of Contents",
   "title_sidebar": "Contents",
   "toc_cell": false,
   "toc_position": {},
   "toc_section_display": true,
   "toc_window_display": false
  }
 },
 "nbformat": 4,
 "nbformat_minor": 2
}
